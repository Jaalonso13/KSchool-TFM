{
 "cells": [
  {
   "cell_type": "code",
   "execution_count": 10,
   "id": "5bbb82ed",
   "metadata": {},
   "outputs": [
    {
     "data": {
      "text/plain": [
       "'book_id_map'"
      ]
     },
     "execution_count": 10,
     "metadata": {},
     "output_type": "execute_result"
    }
   ],
   "source": [
    "from core.goodreads import GoodReadsData\n",
    "import gc\n",
    "\n",
    "goodreads = GoodReadsData()\n",
    "filename = goodreads.file_names[8]\n",
    "filename"
   ]
  },
  {
   "cell_type": "code",
   "execution_count": 11,
   "id": "811b5c34",
   "metadata": {},
   "outputs": [
    {
     "data": {
      "text/plain": [
       "0"
      ]
     },
     "execution_count": 11,
     "metadata": {},
     "output_type": "execute_result"
    }
   ],
   "source": [
    "gc.collect()"
   ]
  },
  {
   "cell_type": "markdown",
   "id": "70f4a985",
   "metadata": {},
   "source": [
    "# Análisis de `book_id_map`"
   ]
  },
  {
   "cell_type": "code",
   "execution_count": 12,
   "id": "43496396",
   "metadata": {},
   "outputs": [],
   "source": [
    "import os\n",
    "import pandas as pd\n",
    "import numpy as np"
   ]
  },
  {
   "cell_type": "code",
   "execution_count": 13,
   "id": "39a97ae0",
   "metadata": {},
   "outputs": [],
   "source": [
    "# Download\n",
    "if not os.path.exists(goodreads.get_file_path(filename)):\n",
    "    goodreads.download_file(filename)\n",
    "    \n",
    "df = goodreads.load_file(filename)"
   ]
  },
  {
   "cell_type": "markdown",
   "id": "fa5f6121",
   "metadata": {},
   "source": [
    "### Análisis\n",
    "1. Comprensión de datos.\n",
    "2. Comprobación de `nan` y duplicados.\n",
    "3. Detección de errores."
   ]
  },
  {
   "cell_type": "code",
   "execution_count": 14,
   "id": "f2cdde83",
   "metadata": {},
   "outputs": [
    {
     "data": {
      "text/html": [
       "<div>\n",
       "<style scoped>\n",
       "    .dataframe tbody tr th:only-of-type {\n",
       "        vertical-align: middle;\n",
       "    }\n",
       "\n",
       "    .dataframe tbody tr th {\n",
       "        vertical-align: top;\n",
       "    }\n",
       "\n",
       "    .dataframe thead th {\n",
       "        text-align: right;\n",
       "    }\n",
       "</style>\n",
       "<table border=\"1\" class=\"dataframe\">\n",
       "  <thead>\n",
       "    <tr style=\"text-align: right;\">\n",
       "      <th></th>\n",
       "      <th>book_id_csv</th>\n",
       "      <th>book_id</th>\n",
       "    </tr>\n",
       "  </thead>\n",
       "  <tbody>\n",
       "    <tr>\n",
       "      <th>890383</th>\n",
       "      <td>890383</td>\n",
       "      <td>35065362</td>\n",
       "    </tr>\n",
       "    <tr>\n",
       "      <th>1657990</th>\n",
       "      <td>1657990</td>\n",
       "      <td>3745998</td>\n",
       "    </tr>\n",
       "    <tr>\n",
       "      <th>203515</th>\n",
       "      <td>203515</td>\n",
       "      <td>23289990</td>\n",
       "    </tr>\n",
       "    <tr>\n",
       "      <th>1652050</th>\n",
       "      <td>1652050</td>\n",
       "      <td>25417569</td>\n",
       "    </tr>\n",
       "    <tr>\n",
       "      <th>1372380</th>\n",
       "      <td>1372380</td>\n",
       "      <td>22318340</td>\n",
       "    </tr>\n",
       "  </tbody>\n",
       "</table>\n",
       "</div>"
      ],
      "text/plain": [
       "         book_id_csv   book_id\n",
       "890383        890383  35065362\n",
       "1657990      1657990   3745998\n",
       "203515        203515  23289990\n",
       "1652050      1652050  25417569\n",
       "1372380      1372380  22318340"
      ]
     },
     "execution_count": 14,
     "metadata": {},
     "output_type": "execute_result"
    }
   ],
   "source": [
    "df.sample(5)"
   ]
  },
  {
   "cell_type": "code",
   "execution_count": 15,
   "id": "96518b50",
   "metadata": {},
   "outputs": [
    {
     "name": "stdout",
     "output_type": "stream",
     "text": [
      "<class 'pandas.core.frame.DataFrame'>\n",
      "RangeIndex: 2360650 entries, 0 to 2360649\n",
      "Data columns (total 2 columns):\n",
      " #   Column       Dtype\n",
      "---  ------       -----\n",
      " 0   book_id_csv  int64\n",
      " 1   book_id      int64\n",
      "dtypes: int64(2)\n",
      "memory usage: 36.0 MB\n"
     ]
    }
   ],
   "source": [
    "df.info()"
   ]
  },
  {
   "cell_type": "code",
   "execution_count": 16,
   "id": "09ebefda",
   "metadata": {},
   "outputs": [
    {
     "data": {
      "text/plain": [
       "book_id_csv    0\n",
       "book_id        0\n",
       "dtype: int64"
      ]
     },
     "execution_count": 16,
     "metadata": {},
     "output_type": "execute_result"
    }
   ],
   "source": [
    "df.isna().sum()"
   ]
  },
  {
   "cell_type": "code",
   "execution_count": 17,
   "id": "b28883f6",
   "metadata": {},
   "outputs": [
    {
     "data": {
      "text/plain": [
       "np.int64(0)"
      ]
     },
     "execution_count": 17,
     "metadata": {},
     "output_type": "execute_result"
    }
   ],
   "source": [
    "df[\"book_id\"].duplicated().sum()"
   ]
  },
  {
   "cell_type": "code",
   "execution_count": 18,
   "id": "d7c61e93",
   "metadata": {},
   "outputs": [
    {
     "data": {
      "text/html": [
       "<div>\n",
       "<style scoped>\n",
       "    .dataframe tbody tr th:only-of-type {\n",
       "        vertical-align: middle;\n",
       "    }\n",
       "\n",
       "    .dataframe tbody tr th {\n",
       "        vertical-align: top;\n",
       "    }\n",
       "\n",
       "    .dataframe thead th {\n",
       "        text-align: right;\n",
       "    }\n",
       "</style>\n",
       "<table border=\"1\" class=\"dataframe\">\n",
       "  <thead>\n",
       "    <tr style=\"text-align: right;\">\n",
       "      <th></th>\n",
       "      <th>book_id_csv</th>\n",
       "      <th>book_id</th>\n",
       "    </tr>\n",
       "  </thead>\n",
       "  <tbody>\n",
       "    <tr>\n",
       "      <th>count</th>\n",
       "      <td>2.360650e+06</td>\n",
       "      <td>2.360650e+06</td>\n",
       "    </tr>\n",
       "    <tr>\n",
       "      <th>mean</th>\n",
       "      <td>1.180324e+06</td>\n",
       "      <td>1.540948e+07</td>\n",
       "    </tr>\n",
       "    <tr>\n",
       "      <th>std</th>\n",
       "      <td>6.814611e+05</td>\n",
       "      <td>1.081894e+07</td>\n",
       "    </tr>\n",
       "    <tr>\n",
       "      <th>min</th>\n",
       "      <td>0.000000e+00</td>\n",
       "      <td>1.000000e+00</td>\n",
       "    </tr>\n",
       "    <tr>\n",
       "      <th>25%</th>\n",
       "      <td>5.901622e+05</td>\n",
       "      <td>5.979043e+06</td>\n",
       "    </tr>\n",
       "    <tr>\n",
       "      <th>50%</th>\n",
       "      <td>1.180324e+06</td>\n",
       "      <td>1.585680e+07</td>\n",
       "    </tr>\n",
       "    <tr>\n",
       "      <th>75%</th>\n",
       "      <td>1.770487e+06</td>\n",
       "      <td>2.438191e+07</td>\n",
       "    </tr>\n",
       "    <tr>\n",
       "      <th>max</th>\n",
       "      <td>2.360649e+06</td>\n",
       "      <td>3.653043e+07</td>\n",
       "    </tr>\n",
       "  </tbody>\n",
       "</table>\n",
       "</div>"
      ],
      "text/plain": [
       "        book_id_csv       book_id\n",
       "count  2.360650e+06  2.360650e+06\n",
       "mean   1.180324e+06  1.540948e+07\n",
       "std    6.814611e+05  1.081894e+07\n",
       "min    0.000000e+00  1.000000e+00\n",
       "25%    5.901622e+05  5.979043e+06\n",
       "50%    1.180324e+06  1.585680e+07\n",
       "75%    1.770487e+06  2.438191e+07\n",
       "max    2.360649e+06  3.653043e+07"
      ]
     },
     "execution_count": 18,
     "metadata": {},
     "output_type": "execute_result"
    }
   ],
   "source": [
    "df.describe()"
   ]
  },
  {
   "cell_type": "markdown",
   "id": "f66fa7b3",
   "metadata": {},
   "source": [
    "### Transformación\n",
    "1. Aplicar transformación según rango de valores."
   ]
  },
  {
   "cell_type": "code",
   "execution_count": 19,
   "id": "902027df",
   "metadata": {},
   "outputs": [],
   "source": [
    "df[\"book_id_csv\"] = df[\"book_id_csv\"].astype(np.uint32)\n",
    "df[\"book_id\"] = df[\"book_id\"].astype(np.uint32)"
   ]
  },
  {
   "cell_type": "code",
   "execution_count": 20,
   "id": "1231b231",
   "metadata": {},
   "outputs": [
    {
     "name": "stdout",
     "output_type": "stream",
     "text": [
      "<class 'pandas.core.frame.DataFrame'>\n",
      "RangeIndex: 2360650 entries, 0 to 2360649\n",
      "Data columns (total 2 columns):\n",
      " #   Column       Dtype \n",
      "---  ------       ----- \n",
      " 0   book_id_csv  uint32\n",
      " 1   book_id      uint32\n",
      "dtypes: uint32(2)\n",
      "memory usage: 18.0 MB\n"
     ]
    }
   ],
   "source": [
    "df.info()"
   ]
  }
 ],
 "metadata": {
  "kernelspec": {
   "display_name": "ks-tfm.venv",
   "language": "python",
   "name": "python3"
  },
  "language_info": {
   "codemirror_mode": {
    "name": "ipython",
    "version": 3
   },
   "file_extension": ".py",
   "mimetype": "text/x-python",
   "name": "python",
   "nbconvert_exporter": "python",
   "pygments_lexer": "ipython3",
   "version": "3.12.7"
  }
 },
 "nbformat": 4,
 "nbformat_minor": 5
}
