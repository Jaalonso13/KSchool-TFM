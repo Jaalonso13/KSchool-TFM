{
 "cells": [
  {
   "cell_type": "code",
   "execution_count": 16,
   "id": "5bbb82ed",
   "metadata": {},
   "outputs": [
    {
     "data": {
      "text/plain": [
       "'goodreads_reviews_spoiler_raw'"
      ]
     },
     "execution_count": 16,
     "metadata": {},
     "output_type": "execute_result"
    }
   ],
   "source": [
    "from core.goodreads import GoodReadsData\n",
    "import gc\n",
    "\n",
    "goodreads = GoodReadsData()\n",
    "filename = goodreads.file_names[7]\n",
    "filename"
   ]
  },
  {
   "cell_type": "code",
   "execution_count": 17,
   "id": "c876f3f3",
   "metadata": {},
   "outputs": [
    {
     "data": {
      "text/plain": [
       "566"
      ]
     },
     "execution_count": 17,
     "metadata": {},
     "output_type": "execute_result"
    }
   ],
   "source": [
    "gc.collect()"
   ]
  },
  {
   "cell_type": "markdown",
   "id": "70f4a985",
   "metadata": {},
   "source": [
    "# Análisis de `goodreads_reviews_spoiler_raw`"
   ]
  },
  {
   "cell_type": "code",
   "execution_count": 18,
   "id": "43496396",
   "metadata": {},
   "outputs": [],
   "source": [
    "import os\n",
    "import pandas as pd\n",
    "import numpy as np"
   ]
  },
  {
   "cell_type": "code",
   "execution_count": 19,
   "id": "39a97ae0",
   "metadata": {},
   "outputs": [
    {
     "data": {
      "text/plain": [
       "1378033"
      ]
     },
     "execution_count": 19,
     "metadata": {},
     "output_type": "execute_result"
    }
   ],
   "source": [
    "# Download\n",
    "if not os.path.exists(goodreads.get_file_path(filename)):\n",
    "    goodreads.download_file(filename)\n",
    "    \n",
    "goodreads.count_samples(filename)"
   ]
  },
  {
   "cell_type": "code",
   "execution_count": 20,
   "id": "c8b513fb",
   "metadata": {},
   "outputs": [],
   "source": [
    "# Load\n",
    "df = goodreads.load_file_range(filename, (0, 99999))"
   ]
  },
  {
   "cell_type": "markdown",
   "id": "d3f09e2f",
   "metadata": {},
   "source": [
    "### Análisis\n",
    "1. Comprensión de datos.\n",
    "2. Detección de valores `nan`.\n",
    "3. Detección de errores.\n",
    "4. Detección de duplicados."
   ]
  },
  {
   "cell_type": "code",
   "execution_count": 21,
   "id": "b529a082",
   "metadata": {},
   "outputs": [
    {
     "data": {
      "text/html": [
       "<div>\n",
       "<style scoped>\n",
       "    .dataframe tbody tr th:only-of-type {\n",
       "        vertical-align: middle;\n",
       "    }\n",
       "\n",
       "    .dataframe tbody tr th {\n",
       "        vertical-align: top;\n",
       "    }\n",
       "\n",
       "    .dataframe thead th {\n",
       "        text-align: right;\n",
       "    }\n",
       "</style>\n",
       "<table border=\"1\" class=\"dataframe\">\n",
       "  <thead>\n",
       "    <tr style=\"text-align: right;\">\n",
       "      <th></th>\n",
       "      <th>user_id</th>\n",
       "      <th>book_id</th>\n",
       "      <th>review_id</th>\n",
       "      <th>rating</th>\n",
       "      <th>review_text</th>\n",
       "      <th>date_added</th>\n",
       "      <th>date_updated</th>\n",
       "      <th>read_at</th>\n",
       "      <th>started_at</th>\n",
       "      <th>n_votes</th>\n",
       "      <th>n_comments</th>\n",
       "    </tr>\n",
       "  </thead>\n",
       "  <tbody>\n",
       "    <tr>\n",
       "      <th>66817</th>\n",
       "      <td>3657976d84f4b678f5c272c04d2e7544</td>\n",
       "      <td>16156709</td>\n",
       "      <td>dfc20ddab828fc002a984ff26ff0cc1f</td>\n",
       "      <td>4</td>\n",
       "      <td>I liked Beneath This Man a lot better than I d...</td>\n",
       "      <td>Wed Jan 30 21:34:11 -0800 2013</td>\n",
       "      <td>Fri Feb 15 08:23:33 -0800 2013</td>\n",
       "      <td>Fri Feb 15 08:23:33 -0800 2013</td>\n",
       "      <td>Wed Jan 30 00:00:00 -0800 2013</td>\n",
       "      <td>0</td>\n",
       "      <td>0</td>\n",
       "    </tr>\n",
       "    <tr>\n",
       "      <th>6270</th>\n",
       "      <td>dd85d1745fe91b9984dc1c39efc8f257</td>\n",
       "      <td>10757833</td>\n",
       "      <td>daae18aa7960f3e5519318ac98731671</td>\n",
       "      <td>2</td>\n",
       "      <td>It was decent, long and seemed to take forever...</td>\n",
       "      <td>Sat Apr 06 11:57:11 -0700 2013</td>\n",
       "      <td>Wed Apr 24 20:46:27 -0700 2013</td>\n",
       "      <td>Wed Apr 24 00:00:00 -0700 2013</td>\n",
       "      <td>Wed Apr 10 00:00:00 -0700 2013</td>\n",
       "      <td>0</td>\n",
       "      <td>0</td>\n",
       "    </tr>\n",
       "    <tr>\n",
       "      <th>64547</th>\n",
       "      <td>aefe566b7b0715a77f19883c060ad241</td>\n",
       "      <td>39033</td>\n",
       "      <td>4ac43ac2565d6aa049bb9ef2a1522f88</td>\n",
       "      <td>4</td>\n",
       "      <td>Not one of the strongest books in the series, ...</td>\n",
       "      <td>Sun Sep 02 12:57:10 -0700 2012</td>\n",
       "      <td>Sun Sep 02 12:57:38 -0700 2012</td>\n",
       "      <td>Thu Sep 02 00:00:00 -0700 2010</td>\n",
       "      <td></td>\n",
       "      <td>1</td>\n",
       "      <td>0</td>\n",
       "    </tr>\n",
       "    <tr>\n",
       "      <th>48187</th>\n",
       "      <td>d037f700c44eaf24d313bd997643abac</td>\n",
       "      <td>11838803</td>\n",
       "      <td>4944ff87d5d07ff6183143acc2f3320f</td>\n",
       "      <td>5</td>\n",
       "      <td>I love this series like a chocaholic loves cho...</td>\n",
       "      <td>Sun Nov 18 10:26:24 -0800 2012</td>\n",
       "      <td>Wed Nov 21 14:31:23 -0800 2012</td>\n",
       "      <td>Sun Nov 18 00:00:00 -0800 2012</td>\n",
       "      <td>Sat Nov 17 00:00:00 -0800 2012</td>\n",
       "      <td>0</td>\n",
       "      <td>0</td>\n",
       "    </tr>\n",
       "    <tr>\n",
       "      <th>24769</th>\n",
       "      <td>e9bdfc785d06e08334632692ffa48d50</td>\n",
       "      <td>96358</td>\n",
       "      <td>3ba39d1a88383994454ef0f353d8ea6e</td>\n",
       "      <td>4</td>\n",
       "      <td>I watched and listened to this as a wonderfull...</td>\n",
       "      <td>Wed Jul 15 12:17:36 -0700 2015</td>\n",
       "      <td>Tue Aug 04 11:32:31 -0700 2015</td>\n",
       "      <td>Wed Jul 15 00:00:00 -0700 2015</td>\n",
       "      <td></td>\n",
       "      <td>0</td>\n",
       "      <td>0</td>\n",
       "    </tr>\n",
       "  </tbody>\n",
       "</table>\n",
       "</div>"
      ],
      "text/plain": [
       "                                user_id   book_id  \\\n",
       "66817  3657976d84f4b678f5c272c04d2e7544  16156709   \n",
       "6270   dd85d1745fe91b9984dc1c39efc8f257  10757833   \n",
       "64547  aefe566b7b0715a77f19883c060ad241     39033   \n",
       "48187  d037f700c44eaf24d313bd997643abac  11838803   \n",
       "24769  e9bdfc785d06e08334632692ffa48d50     96358   \n",
       "\n",
       "                              review_id  rating  \\\n",
       "66817  dfc20ddab828fc002a984ff26ff0cc1f       4   \n",
       "6270   daae18aa7960f3e5519318ac98731671       2   \n",
       "64547  4ac43ac2565d6aa049bb9ef2a1522f88       4   \n",
       "48187  4944ff87d5d07ff6183143acc2f3320f       5   \n",
       "24769  3ba39d1a88383994454ef0f353d8ea6e       4   \n",
       "\n",
       "                                             review_text  \\\n",
       "66817  I liked Beneath This Man a lot better than I d...   \n",
       "6270   It was decent, long and seemed to take forever...   \n",
       "64547  Not one of the strongest books in the series, ...   \n",
       "48187  I love this series like a chocaholic loves cho...   \n",
       "24769  I watched and listened to this as a wonderfull...   \n",
       "\n",
       "                           date_added                    date_updated  \\\n",
       "66817  Wed Jan 30 21:34:11 -0800 2013  Fri Feb 15 08:23:33 -0800 2013   \n",
       "6270   Sat Apr 06 11:57:11 -0700 2013  Wed Apr 24 20:46:27 -0700 2013   \n",
       "64547  Sun Sep 02 12:57:10 -0700 2012  Sun Sep 02 12:57:38 -0700 2012   \n",
       "48187  Sun Nov 18 10:26:24 -0800 2012  Wed Nov 21 14:31:23 -0800 2012   \n",
       "24769  Wed Jul 15 12:17:36 -0700 2015  Tue Aug 04 11:32:31 -0700 2015   \n",
       "\n",
       "                              read_at                      started_at  \\\n",
       "66817  Fri Feb 15 08:23:33 -0800 2013  Wed Jan 30 00:00:00 -0800 2013   \n",
       "6270   Wed Apr 24 00:00:00 -0700 2013  Wed Apr 10 00:00:00 -0700 2013   \n",
       "64547  Thu Sep 02 00:00:00 -0700 2010                                   \n",
       "48187  Sun Nov 18 00:00:00 -0800 2012  Sat Nov 17 00:00:00 -0800 2012   \n",
       "24769  Wed Jul 15 00:00:00 -0700 2015                                   \n",
       "\n",
       "       n_votes  n_comments  \n",
       "66817        0           0  \n",
       "6270         0           0  \n",
       "64547        1           0  \n",
       "48187        0           0  \n",
       "24769        0           0  "
      ]
     },
     "execution_count": 21,
     "metadata": {},
     "output_type": "execute_result"
    }
   ],
   "source": [
    "df.sample(5)"
   ]
  },
  {
   "cell_type": "code",
   "execution_count": 22,
   "id": "80d78460",
   "metadata": {},
   "outputs": [
    {
     "name": "stdout",
     "output_type": "stream",
     "text": [
      "<class 'pandas.core.frame.DataFrame'>\n",
      "RangeIndex: 100000 entries, 0 to 99999\n",
      "Data columns (total 11 columns):\n",
      " #   Column        Non-Null Count   Dtype \n",
      "---  ------        --------------   ----- \n",
      " 0   user_id       100000 non-null  object\n",
      " 1   book_id       100000 non-null  object\n",
      " 2   review_id     100000 non-null  object\n",
      " 3   rating        100000 non-null  int64 \n",
      " 4   review_text   100000 non-null  object\n",
      " 5   date_added    100000 non-null  object\n",
      " 6   date_updated  100000 non-null  object\n",
      " 7   read_at       100000 non-null  object\n",
      " 8   started_at    100000 non-null  object\n",
      " 9   n_votes       100000 non-null  int64 \n",
      " 10  n_comments    100000 non-null  int64 \n",
      "dtypes: int64(3), object(8)\n",
      "memory usage: 8.4+ MB\n"
     ]
    }
   ],
   "source": [
    "df.info()"
   ]
  },
  {
   "cell_type": "code",
   "execution_count": 23,
   "id": "29446ee6",
   "metadata": {},
   "outputs": [
    {
     "data": {
      "text/plain": [
       "user_id             0\n",
       "book_id             0\n",
       "review_id           0\n",
       "rating              0\n",
       "review_text         0\n",
       "date_added          0\n",
       "date_updated        0\n",
       "read_at          9448\n",
       "started_at      32692\n",
       "n_votes             0\n",
       "n_comments          0\n",
       "dtype: int64"
      ]
     },
     "execution_count": 23,
     "metadata": {},
     "output_type": "execute_result"
    }
   ],
   "source": [
    "(df == \"\").sum()"
   ]
  },
  {
   "cell_type": "code",
   "execution_count": 24,
   "id": "4c56d8f7",
   "metadata": {},
   "outputs": [
    {
     "data": {
      "text/html": [
       "<div>\n",
       "<style scoped>\n",
       "    .dataframe tbody tr th:only-of-type {\n",
       "        vertical-align: middle;\n",
       "    }\n",
       "\n",
       "    .dataframe tbody tr th {\n",
       "        vertical-align: top;\n",
       "    }\n",
       "\n",
       "    .dataframe thead th {\n",
       "        text-align: right;\n",
       "    }\n",
       "</style>\n",
       "<table border=\"1\" class=\"dataframe\">\n",
       "  <thead>\n",
       "    <tr style=\"text-align: right;\">\n",
       "      <th></th>\n",
       "      <th>book_id</th>\n",
       "      <th>rating</th>\n",
       "      <th>n_votes</th>\n",
       "      <th>n_comments</th>\n",
       "    </tr>\n",
       "  </thead>\n",
       "  <tbody>\n",
       "    <tr>\n",
       "      <th>count</th>\n",
       "      <td>1.000000e+05</td>\n",
       "      <td>100000.000000</td>\n",
       "      <td>100000.000000</td>\n",
       "      <td>100000.000000</td>\n",
       "    </tr>\n",
       "    <tr>\n",
       "      <th>mean</th>\n",
       "      <td>1.339647e+07</td>\n",
       "      <td>3.725500</td>\n",
       "      <td>2.853350</td>\n",
       "      <td>0.953650</td>\n",
       "    </tr>\n",
       "    <tr>\n",
       "      <th>std</th>\n",
       "      <td>9.204385e+06</td>\n",
       "      <td>1.234085</td>\n",
       "      <td>12.840757</td>\n",
       "      <td>4.834416</td>\n",
       "    </tr>\n",
       "    <tr>\n",
       "      <th>min</th>\n",
       "      <td>1.000000e+00</td>\n",
       "      <td>0.000000</td>\n",
       "      <td>-2.000000</td>\n",
       "      <td>-1.000000</td>\n",
       "    </tr>\n",
       "    <tr>\n",
       "      <th>25%</th>\n",
       "      <td>6.339664e+06</td>\n",
       "      <td>3.000000</td>\n",
       "      <td>0.000000</td>\n",
       "      <td>0.000000</td>\n",
       "    </tr>\n",
       "    <tr>\n",
       "      <th>50%</th>\n",
       "      <td>1.354982e+07</td>\n",
       "      <td>4.000000</td>\n",
       "      <td>0.000000</td>\n",
       "      <td>0.000000</td>\n",
       "    </tr>\n",
       "    <tr>\n",
       "      <th>75%</th>\n",
       "      <td>1.935898e+07</td>\n",
       "      <td>5.000000</td>\n",
       "      <td>2.000000</td>\n",
       "      <td>0.000000</td>\n",
       "    </tr>\n",
       "    <tr>\n",
       "      <th>max</th>\n",
       "      <td>3.632868e+07</td>\n",
       "      <td>5.000000</td>\n",
       "      <td>931.000000</td>\n",
       "      <td>564.000000</td>\n",
       "    </tr>\n",
       "  </tbody>\n",
       "</table>\n",
       "</div>"
      ],
      "text/plain": [
       "            book_id         rating        n_votes     n_comments\n",
       "count  1.000000e+05  100000.000000  100000.000000  100000.000000\n",
       "mean   1.339647e+07       3.725500       2.853350       0.953650\n",
       "std    9.204385e+06       1.234085      12.840757       4.834416\n",
       "min    1.000000e+00       0.000000      -2.000000      -1.000000\n",
       "25%    6.339664e+06       3.000000       0.000000       0.000000\n",
       "50%    1.354982e+07       4.000000       0.000000       0.000000\n",
       "75%    1.935898e+07       5.000000       2.000000       0.000000\n",
       "max    3.632868e+07       5.000000     931.000000     564.000000"
      ]
     },
     "execution_count": 24,
     "metadata": {},
     "output_type": "execute_result"
    }
   ],
   "source": [
    "df[[\"book_id\", \"rating\", \"n_votes\", \"n_comments\"]].astype(np.int64).describe()"
   ]
  },
  {
   "cell_type": "markdown",
   "id": "0ecd64aa",
   "metadata": {},
   "source": [
    "Observamos valores negativos en `n_votes` y `n_comments` erróneos que asumiremos como valor correcto su valor absoluto. También vemos valores de `rating` = 0 que consideraremos como valores ausentes (`nan`)."
   ]
  },
  {
   "cell_type": "code",
   "execution_count": 25,
   "id": "2b845060",
   "metadata": {},
   "outputs": [
    {
     "data": {
      "text/plain": [
       "Timestamp('2006-08-29 18:20:05+0000', tz='UTC')"
      ]
     },
     "execution_count": 25,
     "metadata": {},
     "output_type": "execute_result"
    }
   ],
   "source": [
    "pd.to_datetime(df[\"date_added\"], format=\"%a %b %d %H:%M:%S %z %Y\", utc=True).min()"
   ]
  },
  {
   "cell_type": "code",
   "execution_count": 26,
   "id": "de703b2b",
   "metadata": {},
   "outputs": [
    {
     "data": {
      "text/plain": [
       "Timestamp('2017-10-27 17:15:51+0000', tz='UTC')"
      ]
     },
     "execution_count": 26,
     "metadata": {},
     "output_type": "execute_result"
    }
   ],
   "source": [
    "pd.to_datetime(df[\"date_added\"], format=\"%a %b %d %H:%M:%S %z %Y\", utc=True).max()"
   ]
  },
  {
   "cell_type": "code",
   "execution_count": 27,
   "id": "1598d544",
   "metadata": {},
   "outputs": [
    {
     "data": {
      "text/plain": [
       "Timestamp('2006-12-07 19:01:45+0000', tz='UTC')"
      ]
     },
     "execution_count": 27,
     "metadata": {},
     "output_type": "execute_result"
    }
   ],
   "source": [
    "pd.to_datetime(df[\"date_updated\"], format=\"%a %b %d %H:%M:%S %z %Y\", utc=True).min()"
   ]
  },
  {
   "cell_type": "code",
   "execution_count": 28,
   "id": "ece19f9d",
   "metadata": {},
   "outputs": [
    {
     "data": {
      "text/plain": [
       "Timestamp('2017-11-03 14:43:26+0000', tz='UTC')"
      ]
     },
     "execution_count": 28,
     "metadata": {},
     "output_type": "execute_result"
    }
   ],
   "source": [
    "pd.to_datetime(df[\"date_updated\"], format=\"%a %b %d %H:%M:%S %z %Y\", utc=True).max()"
   ]
  },
  {
   "cell_type": "code",
   "execution_count": 29,
   "id": "a9106355",
   "metadata": {},
   "outputs": [
    {
     "data": {
      "text/plain": [
       "np.int64(0)"
      ]
     },
     "execution_count": 29,
     "metadata": {},
     "output_type": "execute_result"
    }
   ],
   "source": [
    "df[\"review_id\"].duplicated().sum()"
   ]
  },
  {
   "cell_type": "markdown",
   "id": "7875587d",
   "metadata": {},
   "source": [
    "### Transformación\n",
    "1. Eliminar columnas que no aportan información útil.\n",
    "2. Correciión de erroes.\n",
    "3. Transformación de tipos de datos.\n",
    "4. Asignación de valores `nan`."
   ]
  },
  {
   "cell_type": "code",
   "execution_count": 30,
   "id": "7ee20d38",
   "metadata": {},
   "outputs": [],
   "source": [
    "df.drop(columns=[\"read_at\", \"started_at\"], inplace=True)"
   ]
  },
  {
   "cell_type": "code",
   "execution_count": 31,
   "id": "1fb1aa32",
   "metadata": {},
   "outputs": [],
   "source": [
    "df[\"user_id\"] = df[\"user_id\"].str.replace(r\"\\s+\", \"\", regex=True)\n",
    "df[\"book_id\"] = df[\"book_id\"].str.replace(r\"\\s+\", \"\", regex=True)\n",
    "df[\"review_id\"] = df[\"review_id\"].str.replace(r\"\\s+\", \"\", regex=True)\n",
    "df[\"review_text\"] = df[\"review_text\"].str.strip()\n",
    "df[\"date_added\"] = df[\"date_added\"].str.strip()\n",
    "df[\"date_updated\"] = df[\"date_updated\"].str.strip()\n",
    "\n",
    "df[\"n_votes\"] = df[\"n_votes\"].abs()\n",
    "df[\"n_coments\"] = df[\"n_comments\"].abs()"
   ]
  },
  {
   "cell_type": "code",
   "execution_count": 32,
   "id": "25a56a07",
   "metadata": {},
   "outputs": [],
   "source": [
    "r_nan = df[\"rating\"] == 0"
   ]
  },
  {
   "cell_type": "code",
   "execution_count": 33,
   "id": "f65ba425",
   "metadata": {},
   "outputs": [],
   "source": [
    "df[\"user_id\"] = df[\"user_id\"].astype(\"string\")\n",
    "df[\"book_id\"] = df[\"book_id\"].astype(np.uint32)\n",
    "df[\"review_id\"] = df[\"review_id\"].astype(\"string\")\n",
    "df[\"review_text\"] = df[\"review_text\"].astype(\"string\")\n",
    "df[\"date_added\"] = pd.to_datetime(df[\"date_added\"], format=\"%a %b %d %H:%M:%S %z %Y\", utc=True)\n",
    "df[\"date_updated\"] = pd.to_datetime(df[\"date_updated\"], format=\"%a %b %d %H:%M:%S %z %Y\", utc=True)\n",
    "\n",
    "df[\"n_votes\"] = df[\"n_votes\"].astype(np.uint16)\n",
    "df[\"n_coments\"] = df[\"n_comments\"].astype(np.uint16)\n",
    "df[\"rating\"] = df[\"rating\"].astype(np.uint8)"
   ]
  },
  {
   "cell_type": "code",
   "execution_count": 34,
   "id": "8006bb47",
   "metadata": {},
   "outputs": [
    {
     "data": {
      "text/plain": [
       "user_id            0\n",
       "book_id            0\n",
       "review_id          0\n",
       "rating          3077\n",
       "review_text        0\n",
       "date_added         0\n",
       "date_updated       0\n",
       "n_votes            0\n",
       "n_comments         0\n",
       "n_coments          0\n",
       "dtype: int64"
      ]
     },
     "execution_count": 34,
     "metadata": {},
     "output_type": "execute_result"
    }
   ],
   "source": [
    "df.loc[r_nan, \"rating\"] = np.nan\n",
    "df.isna().sum()"
   ]
  },
  {
   "cell_type": "code",
   "execution_count": 35,
   "id": "b6566dc2",
   "metadata": {},
   "outputs": [
    {
     "name": "stdout",
     "output_type": "stream",
     "text": [
      "<class 'pandas.core.frame.DataFrame'>\n",
      "RangeIndex: 100000 entries, 0 to 99999\n",
      "Data columns (total 10 columns):\n",
      " #   Column        Non-Null Count   Dtype              \n",
      "---  ------        --------------   -----              \n",
      " 0   user_id       100000 non-null  string             \n",
      " 1   book_id       100000 non-null  uint32             \n",
      " 2   review_id     100000 non-null  string             \n",
      " 3   rating        96923 non-null   float64            \n",
      " 4   review_text   100000 non-null  string             \n",
      " 5   date_added    100000 non-null  datetime64[ns, UTC]\n",
      " 6   date_updated  100000 non-null  datetime64[ns, UTC]\n",
      " 7   n_votes       100000 non-null  uint16             \n",
      " 8   n_comments    100000 non-null  int64              \n",
      " 9   n_coments     100000 non-null  uint16             \n",
      "dtypes: datetime64[ns, UTC](2), float64(1), int64(1), string(3), uint16(2), uint32(1)\n",
      "memory usage: 6.1 MB\n"
     ]
    }
   ],
   "source": [
    "df.info()"
   ]
  }
 ],
 "metadata": {
  "kernelspec": {
   "display_name": "ks-tfm.venv",
   "language": "python",
   "name": "python3"
  },
  "language_info": {
   "codemirror_mode": {
    "name": "ipython",
    "version": 3
   },
   "file_extension": ".py",
   "mimetype": "text/x-python",
   "name": "python",
   "nbconvert_exporter": "python",
   "pygments_lexer": "ipython3",
   "version": "3.12.7"
  }
 },
 "nbformat": 4,
 "nbformat_minor": 5
}
