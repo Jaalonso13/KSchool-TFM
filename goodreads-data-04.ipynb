{
 "cells": [
  {
   "cell_type": "code",
   "execution_count": 1,
   "id": "0f2ac045",
   "metadata": {},
   "outputs": [
    {
     "data": {
      "text/plain": [
       "'goodreads_book_genres_initial'"
      ]
     },
     "execution_count": 1,
     "metadata": {},
     "output_type": "execute_result"
    }
   ],
   "source": [
    "from core.goodreads import GoodReadsData\n",
    "import gc\n",
    "\n",
    "goodreads = GoodReadsData()\n",
    "filename = goodreads.file_names[4]\n",
    "filename"
   ]
  },
  {
   "cell_type": "code",
   "execution_count": 2,
   "id": "07d66748",
   "metadata": {},
   "outputs": [
    {
     "data": {
      "text/plain": [
       "0"
      ]
     },
     "execution_count": 2,
     "metadata": {},
     "output_type": "execute_result"
    }
   ],
   "source": [
    "gc.collect()"
   ]
  },
  {
   "cell_type": "markdown",
   "id": "c47b827f",
   "metadata": {},
   "source": [
    "# Análisis de `goodreads_book_genres_initial`"
   ]
  },
  {
   "cell_type": "code",
   "execution_count": 3,
   "id": "430c8dfa",
   "metadata": {},
   "outputs": [],
   "source": [
    "import os\n",
    "import numpy as np"
   ]
  },
  {
   "cell_type": "code",
   "execution_count": 4,
   "id": "a6fa0dff",
   "metadata": {},
   "outputs": [],
   "source": [
    "# Download\n",
    "if not os.path.exists(goodreads.get_file_path(filename)):\n",
    "    goodreads.download_file(filename)\n",
    "    \n",
    "# Load\n",
    "df = goodreads.load_file(filename)"
   ]
  },
  {
   "cell_type": "markdown",
   "id": "adf8144c",
   "metadata": {},
   "source": [
    "### Análisis\n",
    "1. Comprensión de los datos.\n",
    "2. Detección de errores.\n",
    "3. Ver duplicados."
   ]
  },
  {
   "cell_type": "code",
   "execution_count": 5,
   "id": "817b2f13",
   "metadata": {},
   "outputs": [
    {
     "data": {
      "text/html": [
       "<div>\n",
       "<style scoped>\n",
       "    .dataframe tbody tr th:only-of-type {\n",
       "        vertical-align: middle;\n",
       "    }\n",
       "\n",
       "    .dataframe tbody tr th {\n",
       "        vertical-align: top;\n",
       "    }\n",
       "\n",
       "    .dataframe thead th {\n",
       "        text-align: right;\n",
       "    }\n",
       "</style>\n",
       "<table border=\"1\" class=\"dataframe\">\n",
       "  <thead>\n",
       "    <tr style=\"text-align: right;\">\n",
       "      <th></th>\n",
       "      <th>book_id</th>\n",
       "      <th>genres</th>\n",
       "    </tr>\n",
       "  </thead>\n",
       "  <tbody>\n",
       "    <tr>\n",
       "      <th>1676998</th>\n",
       "      <td>32487673</td>\n",
       "      <td>{'history, historical fiction, biography': 179...</td>\n",
       "    </tr>\n",
       "    <tr>\n",
       "      <th>421284</th>\n",
       "      <td>24952882</td>\n",
       "      <td>{'fantasy, paranormal': 3}</td>\n",
       "    </tr>\n",
       "    <tr>\n",
       "      <th>521700</th>\n",
       "      <td>18705105</td>\n",
       "      <td>{'fiction': 137, 'history, historical fiction,...</td>\n",
       "    </tr>\n",
       "    <tr>\n",
       "      <th>1897479</th>\n",
       "      <td>30113756</td>\n",
       "      <td>{'romance': 11, 'fantasy, paranormal': 3, 'fic...</td>\n",
       "    </tr>\n",
       "    <tr>\n",
       "      <th>1205495</th>\n",
       "      <td>18246192</td>\n",
       "      <td>{'fiction': 4, 'fantasy, paranormal': 3}</td>\n",
       "    </tr>\n",
       "  </tbody>\n",
       "</table>\n",
       "</div>"
      ],
      "text/plain": [
       "          book_id                                             genres\n",
       "1676998  32487673  {'history, historical fiction, biography': 179...\n",
       "421284   24952882                         {'fantasy, paranormal': 3}\n",
       "521700   18705105  {'fiction': 137, 'history, historical fiction,...\n",
       "1897479  30113756  {'romance': 11, 'fantasy, paranormal': 3, 'fic...\n",
       "1205495  18246192           {'fiction': 4, 'fantasy, paranormal': 3}"
      ]
     },
     "execution_count": 5,
     "metadata": {},
     "output_type": "execute_result"
    }
   ],
   "source": [
    "df.sample(5)"
   ]
  },
  {
   "cell_type": "code",
   "execution_count": 6,
   "id": "f7ce1545",
   "metadata": {},
   "outputs": [
    {
     "name": "stdout",
     "output_type": "stream",
     "text": [
      "<class 'pandas.core.frame.DataFrame'>\n",
      "RangeIndex: 2360655 entries, 0 to 2360654\n",
      "Data columns (total 2 columns):\n",
      " #   Column   Dtype \n",
      "---  ------   ----- \n",
      " 0   book_id  int64 \n",
      " 1   genres   object\n",
      "dtypes: int64(1), object(1)\n",
      "memory usage: 36.0+ MB\n"
     ]
    }
   ],
   "source": [
    "df.info()"
   ]
  },
  {
   "cell_type": "code",
   "execution_count": 7,
   "id": "0515d359",
   "metadata": {},
   "outputs": [
    {
     "data": {
      "text/plain": [
       "book_id    0\n",
       "genres     0\n",
       "dtype: int64"
      ]
     },
     "execution_count": 7,
     "metadata": {},
     "output_type": "execute_result"
    }
   ],
   "source": [
    "df.isna().sum()"
   ]
  },
  {
   "cell_type": "code",
   "execution_count": 8,
   "id": "dbbad444",
   "metadata": {},
   "outputs": [
    {
     "data": {
      "text/plain": [
       "np.int64(409513)"
      ]
     },
     "execution_count": 8,
     "metadata": {},
     "output_type": "execute_result"
    }
   ],
   "source": [
    "df[\"genres\"].apply(lambda x: len(x) == 0).sum()"
   ]
  },
  {
   "cell_type": "code",
   "execution_count": 9,
   "id": "6338bafd",
   "metadata": {},
   "outputs": [
    {
     "data": {
      "text/plain": [
       "2211875    {'poetry': 35, 'romance': 20, 'fiction': 31, '...\n",
       "815504     {'poetry': 35, 'romance': 20, 'fiction': 31, '...\n",
       "1414828    {'poetry': 35, 'romance': 20, 'fiction': 31, '...\n",
       "2887       {'poetry': 35, 'romance': 20, 'fiction': 31, '...\n",
       "797604     {'poetry': 35, 'romance': 20, 'fiction': 31, '...\n",
       "Name: genres, dtype: object"
      ]
     },
     "execution_count": 9,
     "metadata": {},
     "output_type": "execute_result"
    }
   ],
   "source": [
    "df.loc[\n",
    "    df[\"genres\"].apply(lambda x: len(x)).sort_values(ascending=False).index[:5],\n",
    "    \"genres\"\n",
    "]"
   ]
  },
  {
   "cell_type": "code",
   "execution_count": 10,
   "id": "5bcf141c",
   "metadata": {},
   "outputs": [
    {
     "data": {
      "text/plain": [
       "{'poetry': 35,\n",
       " 'romance': 20,\n",
       " 'fiction': 31,\n",
       " 'history, historical fiction, biography': 22,\n",
       " 'children': 24,\n",
       " 'young-adult': 4,\n",
       " 'fantasy, paranormal': 2,\n",
       " 'comics, graphic': 2,\n",
       " 'mystery, thriller, crime': 2,\n",
       " 'non-fiction': 1}"
      ]
     },
     "execution_count": 10,
     "metadata": {},
     "output_type": "execute_result"
    }
   ],
   "source": [
    "df.loc[2211875, \"genres\"]"
   ]
  },
  {
   "cell_type": "code",
   "execution_count": 11,
   "id": "1fd06789",
   "metadata": {},
   "outputs": [
    {
     "data": {
      "text/plain": [
       "35"
      ]
     },
     "execution_count": 11,
     "metadata": {},
     "output_type": "execute_result"
    }
   ],
   "source": [
    "df.loc[2211875, \"genres\"][\"poetry\"]"
   ]
  },
  {
   "cell_type": "code",
   "execution_count": 12,
   "id": "6cc294cf",
   "metadata": {},
   "outputs": [
    {
     "data": {
      "text/plain": [
       "count    2.360655e+06\n",
       "mean     1.540953e+07\n",
       "std      1.081897e+07\n",
       "min      1.000000e+00\n",
       "25%      5.979046e+06\n",
       "50%      1.585681e+07\n",
       "75%      2.438194e+07\n",
       "max      3.653043e+07\n",
       "Name: book_id, dtype: float64"
      ]
     },
     "execution_count": 12,
     "metadata": {},
     "output_type": "execute_result"
    }
   ],
   "source": [
    "df[\"book_id\"].describe()"
   ]
  },
  {
   "cell_type": "code",
   "execution_count": 13,
   "id": "c79189e0",
   "metadata": {},
   "outputs": [
    {
     "data": {
      "text/plain": [
       "np.int64(0)"
      ]
     },
     "execution_count": 13,
     "metadata": {},
     "output_type": "execute_result"
    }
   ],
   "source": [
    "df[\"book_id\"].duplicated().sum()"
   ]
  },
  {
   "cell_type": "markdown",
   "id": "78b4223d",
   "metadata": {},
   "source": [
    "### Transformation\n",
    "1. Transformar tipos de datos.\n",
    "2. Añadir valores `nan`."
   ]
  },
  {
   "cell_type": "code",
   "execution_count": 14,
   "id": "9b176655",
   "metadata": {},
   "outputs": [],
   "source": [
    "g_nan = df[\"genres\"].apply(lambda x: len(x) == 0)"
   ]
  },
  {
   "cell_type": "code",
   "execution_count": 16,
   "id": "fc156ba6",
   "metadata": {},
   "outputs": [],
   "source": [
    "df[\"book_id\"] = df[\"book_id\"].astype(np.uint32)\n",
    "df[\"genres\"] = df[\"genres\"].apply(lambda d: {k: int(v) for k, v in d.items()})"
   ]
  },
  {
   "cell_type": "code",
   "execution_count": 17,
   "id": "858f272c",
   "metadata": {},
   "outputs": [
    {
     "data": {
      "text/plain": [
       "book_id         0\n",
       "genres     409513\n",
       "dtype: int64"
      ]
     },
     "execution_count": 17,
     "metadata": {},
     "output_type": "execute_result"
    }
   ],
   "source": [
    "df.loc[g_nan, \"genres\"] = np.nan\n",
    "df.isna().sum()"
   ]
  },
  {
   "cell_type": "code",
   "execution_count": 18,
   "id": "e5c77385",
   "metadata": {},
   "outputs": [
    {
     "name": "stdout",
     "output_type": "stream",
     "text": [
      "<class 'pandas.core.frame.DataFrame'>\n",
      "RangeIndex: 2360655 entries, 0 to 2360654\n",
      "Data columns (total 2 columns):\n",
      " #   Column   Dtype \n",
      "---  ------   ----- \n",
      " 0   book_id  uint32\n",
      " 1   genres   object\n",
      "dtypes: object(1), uint32(1)\n",
      "memory usage: 27.0+ MB\n"
     ]
    }
   ],
   "source": [
    "df.info()"
   ]
  }
 ],
 "metadata": {
  "kernelspec": {
   "display_name": "ks-tfm.venv",
   "language": "python",
   "name": "python3"
  },
  "language_info": {
   "codemirror_mode": {
    "name": "ipython",
    "version": 3
   },
   "file_extension": ".py",
   "mimetype": "text/x-python",
   "name": "python",
   "nbconvert_exporter": "python",
   "pygments_lexer": "ipython3",
   "version": "3.12.7"
  }
 },
 "nbformat": 4,
 "nbformat_minor": 5
}
