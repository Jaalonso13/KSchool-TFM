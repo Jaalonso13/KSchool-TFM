{
 "cells": [
  {
   "cell_type": "code",
   "execution_count": 1,
   "id": "1a4ec874",
   "metadata": {},
   "outputs": [
    {
     "data": {
      "text/plain": [
       "'goodreads_books'"
      ]
     },
     "execution_count": 1,
     "metadata": {},
     "output_type": "execute_result"
    }
   ],
   "source": [
    "from core.goodreads import GoodReadsData\n",
    "import gc\n",
    "\n",
    "goodreads = GoodReadsData()\n",
    "filename = goodreads.file_names[3]\n",
    "filename"
   ]
  },
  {
   "cell_type": "code",
   "execution_count": 2,
   "id": "f14aca2c",
   "metadata": {},
   "outputs": [
    {
     "data": {
      "text/plain": [
       "0"
      ]
     },
     "execution_count": 2,
     "metadata": {},
     "output_type": "execute_result"
    }
   ],
   "source": [
    "gc.collect()"
   ]
  },
  {
   "cell_type": "markdown",
   "id": "97b7c26e",
   "metadata": {},
   "source": [
    "# Análisis de `goodreads_books`"
   ]
  },
  {
   "cell_type": "code",
   "execution_count": 3,
   "id": "94cd5cd5",
   "metadata": {},
   "outputs": [],
   "source": [
    "import os\n",
    "import pandas as pd\n",
    "import numpy as np"
   ]
  },
  {
   "cell_type": "code",
   "execution_count": 4,
   "id": "2bbb4818",
   "metadata": {},
   "outputs": [
    {
     "data": {
      "text/plain": [
       "2360655"
      ]
     },
     "execution_count": 4,
     "metadata": {},
     "output_type": "execute_result"
    }
   ],
   "source": [
    "# Download\n",
    "if not os.path.exists(goodreads.get_file_path(filename)):\n",
    "    goodreads.download_file(filename)\n",
    "    \n",
    "goodreads.count_samples(\"goodreads_books\")"
   ]
  },
  {
   "cell_type": "code",
   "execution_count": 5,
   "id": "8ccbc146",
   "metadata": {},
   "outputs": [],
   "source": [
    "# Load\n",
    "df = goodreads.load_file_range(filename, (0, 99999))"
   ]
  },
  {
   "cell_type": "code",
   "execution_count": 6,
   "id": "4de8b1f9",
   "metadata": {},
   "outputs": [],
   "source": [
    "def get_limits(c: str) -> tuple[int, int]:\n",
    "    return df.loc[df[c]!=\"\", c].astype(np.int64).min(), df.loc[df[c]!=\"\", c].astype(np.int64).max()"
   ]
  },
  {
   "cell_type": "markdown",
   "id": "840387de",
   "metadata": {},
   "source": [
    "### Análisis"
   ]
  },
  {
   "cell_type": "code",
   "execution_count": 7,
   "id": "e6cbcf26",
   "metadata": {},
   "outputs": [
    {
     "data": {
      "text/html": [
       "<div>\n",
       "<style scoped>\n",
       "    .dataframe tbody tr th:only-of-type {\n",
       "        vertical-align: middle;\n",
       "    }\n",
       "\n",
       "    .dataframe tbody tr th {\n",
       "        vertical-align: top;\n",
       "    }\n",
       "\n",
       "    .dataframe thead th {\n",
       "        text-align: right;\n",
       "    }\n",
       "</style>\n",
       "<table border=\"1\" class=\"dataframe\">\n",
       "  <thead>\n",
       "    <tr style=\"text-align: right;\">\n",
       "      <th></th>\n",
       "      <th>isbn</th>\n",
       "      <th>text_reviews_count</th>\n",
       "      <th>series</th>\n",
       "      <th>country_code</th>\n",
       "      <th>language_code</th>\n",
       "      <th>popular_shelves</th>\n",
       "      <th>asin</th>\n",
       "      <th>is_ebook</th>\n",
       "      <th>average_rating</th>\n",
       "      <th>kindle_asin</th>\n",
       "      <th>...</th>\n",
       "      <th>publication_month</th>\n",
       "      <th>edition_information</th>\n",
       "      <th>publication_year</th>\n",
       "      <th>url</th>\n",
       "      <th>image_url</th>\n",
       "      <th>book_id</th>\n",
       "      <th>ratings_count</th>\n",
       "      <th>work_id</th>\n",
       "      <th>title</th>\n",
       "      <th>title_without_series</th>\n",
       "    </tr>\n",
       "  </thead>\n",
       "  <tbody>\n",
       "    <tr>\n",
       "      <th>55425</th>\n",
       "      <td>0646925504</td>\n",
       "      <td>1</td>\n",
       "      <td>[]</td>\n",
       "      <td>US</td>\n",
       "      <td>eng</td>\n",
       "      <td>[{'count': '21', 'name': 'to-read'}, {'count':...</td>\n",
       "      <td></td>\n",
       "      <td>false</td>\n",
       "      <td>5.00</td>\n",
       "      <td></td>\n",
       "      <td>...</td>\n",
       "      <td></td>\n",
       "      <td></td>\n",
       "      <td>2014</td>\n",
       "      <td>https://www.goodreads.com/book/show/26515578-d...</td>\n",
       "      <td>https://images.gr-assets.com/books/1442222561m...</td>\n",
       "      <td>26515578</td>\n",
       "      <td>2</td>\n",
       "      <td>46508006</td>\n",
       "      <td>Dear H</td>\n",
       "      <td>Dear H</td>\n",
       "    </tr>\n",
       "    <tr>\n",
       "      <th>42898</th>\n",
       "      <td></td>\n",
       "      <td>19</td>\n",
       "      <td>[]</td>\n",
       "      <td>US</td>\n",
       "      <td></td>\n",
       "      <td>[{'count': '890', 'name': 'to-read'}, {'count'...</td>\n",
       "      <td>B0069CJOEQ</td>\n",
       "      <td>true</td>\n",
       "      <td>3.93</td>\n",
       "      <td>B00BOATQBO</td>\n",
       "      <td>...</td>\n",
       "      <td>11</td>\n",
       "      <td></td>\n",
       "      <td>2011</td>\n",
       "      <td>https://www.goodreads.com/book/show/13511246-c...</td>\n",
       "      <td>https://images.gr-assets.com/books/1330891105m...</td>\n",
       "      <td>13511246</td>\n",
       "      <td>180</td>\n",
       "      <td>10525623</td>\n",
       "      <td>Cold Lonely Courage</td>\n",
       "      <td>Cold Lonely Courage</td>\n",
       "    </tr>\n",
       "    <tr>\n",
       "      <th>62286</th>\n",
       "      <td>0520038495</td>\n",
       "      <td>1</td>\n",
       "      <td>[]</td>\n",
       "      <td>US</td>\n",
       "      <td></td>\n",
       "      <td>[{'count': '15', 'name': 'to-read'}, {'count':...</td>\n",
       "      <td></td>\n",
       "      <td>false</td>\n",
       "      <td>3.12</td>\n",
       "      <td></td>\n",
       "      <td>...</td>\n",
       "      <td>7</td>\n",
       "      <td></td>\n",
       "      <td>1979</td>\n",
       "      <td>https://www.goodreads.com/book/show/1613415.Fo...</td>\n",
       "      <td>https://s.gr-assets.com/assets/nophoto/book/11...</td>\n",
       "      <td>1613415</td>\n",
       "      <td>8</td>\n",
       "      <td>1607220</td>\n",
       "      <td>For Harmony and Strength: Japanese White-Colla...</td>\n",
       "      <td>For Harmony and Strength: Japanese White-Colla...</td>\n",
       "    </tr>\n",
       "    <tr>\n",
       "      <th>85616</th>\n",
       "      <td>1605434159</td>\n",
       "      <td>1</td>\n",
       "      <td>[]</td>\n",
       "      <td>US</td>\n",
       "      <td></td>\n",
       "      <td>[{'count': '3', 'name': 'to-read'}, {'count': ...</td>\n",
       "      <td></td>\n",
       "      <td>false</td>\n",
       "      <td>3.00</td>\n",
       "      <td></td>\n",
       "      <td>...</td>\n",
       "      <td>5</td>\n",
       "      <td></td>\n",
       "      <td>2010</td>\n",
       "      <td>https://www.goodreads.com/book/show/8446276-th...</td>\n",
       "      <td>https://s.gr-assets.com/assets/nophoto/book/11...</td>\n",
       "      <td>8446276</td>\n",
       "      <td>5</td>\n",
       "      <td>13310172</td>\n",
       "      <td>The Trail of the Cloven Hoof</td>\n",
       "      <td>The Trail of the Cloven Hoof</td>\n",
       "    </tr>\n",
       "    <tr>\n",
       "      <th>14017</th>\n",
       "      <td></td>\n",
       "      <td>54</td>\n",
       "      <td>[702028]</td>\n",
       "      <td>US</td>\n",
       "      <td>eng</td>\n",
       "      <td>[{'count': '192', 'name': 'to-read'}, {'count'...</td>\n",
       "      <td>B00NH8G7TK</td>\n",
       "      <td>true</td>\n",
       "      <td>4.07</td>\n",
       "      <td></td>\n",
       "      <td>...</td>\n",
       "      <td></td>\n",
       "      <td></td>\n",
       "      <td></td>\n",
       "      <td>https://www.goodreads.com/book/show/23315077-l...</td>\n",
       "      <td>https://s.gr-assets.com/assets/nophoto/book/11...</td>\n",
       "      <td>23315077</td>\n",
       "      <td>1338</td>\n",
       "      <td>42869559</td>\n",
       "      <td>Love &amp; War (Chosen by the Vampire Kings, #0.3)</td>\n",
       "      <td>Love &amp; War (Chosen by the Vampire Kings, #0.3)</td>\n",
       "    </tr>\n",
       "  </tbody>\n",
       "</table>\n",
       "<p>5 rows × 29 columns</p>\n",
       "</div>"
      ],
      "text/plain": [
       "             isbn text_reviews_count    series country_code language_code  \\\n",
       "55425  0646925504                  1        []           US           eng   \n",
       "42898                             19        []           US                 \n",
       "62286  0520038495                  1        []           US                 \n",
       "85616  1605434159                  1        []           US                 \n",
       "14017                             54  [702028]           US           eng   \n",
       "\n",
       "                                         popular_shelves        asin is_ebook  \\\n",
       "55425  [{'count': '21', 'name': 'to-read'}, {'count':...                false   \n",
       "42898  [{'count': '890', 'name': 'to-read'}, {'count'...  B0069CJOEQ     true   \n",
       "62286  [{'count': '15', 'name': 'to-read'}, {'count':...                false   \n",
       "85616  [{'count': '3', 'name': 'to-read'}, {'count': ...                false   \n",
       "14017  [{'count': '192', 'name': 'to-read'}, {'count'...  B00NH8G7TK     true   \n",
       "\n",
       "      average_rating kindle_asin  ... publication_month edition_information  \\\n",
       "55425           5.00              ...                                         \n",
       "42898           3.93  B00BOATQBO  ...                11                       \n",
       "62286           3.12              ...                 7                       \n",
       "85616           3.00              ...                 5                       \n",
       "14017           4.07              ...                                         \n",
       "\n",
       "      publication_year                                                url  \\\n",
       "55425             2014  https://www.goodreads.com/book/show/26515578-d...   \n",
       "42898             2011  https://www.goodreads.com/book/show/13511246-c...   \n",
       "62286             1979  https://www.goodreads.com/book/show/1613415.Fo...   \n",
       "85616             2010  https://www.goodreads.com/book/show/8446276-th...   \n",
       "14017                   https://www.goodreads.com/book/show/23315077-l...   \n",
       "\n",
       "                                               image_url   book_id  \\\n",
       "55425  https://images.gr-assets.com/books/1442222561m...  26515578   \n",
       "42898  https://images.gr-assets.com/books/1330891105m...  13511246   \n",
       "62286  https://s.gr-assets.com/assets/nophoto/book/11...   1613415   \n",
       "85616  https://s.gr-assets.com/assets/nophoto/book/11...   8446276   \n",
       "14017  https://s.gr-assets.com/assets/nophoto/book/11...  23315077   \n",
       "\n",
       "      ratings_count   work_id  \\\n",
       "55425             2  46508006   \n",
       "42898           180  10525623   \n",
       "62286             8   1607220   \n",
       "85616             5  13310172   \n",
       "14017          1338  42869559   \n",
       "\n",
       "                                                   title  \\\n",
       "55425                                             Dear H   \n",
       "42898                                Cold Lonely Courage   \n",
       "62286  For Harmony and Strength: Japanese White-Colla...   \n",
       "85616                       The Trail of the Cloven Hoof   \n",
       "14017     Love & War (Chosen by the Vampire Kings, #0.3)   \n",
       "\n",
       "                                    title_without_series  \n",
       "55425                                             Dear H  \n",
       "42898                                Cold Lonely Courage  \n",
       "62286  For Harmony and Strength: Japanese White-Colla...  \n",
       "85616                       The Trail of the Cloven Hoof  \n",
       "14017     Love & War (Chosen by the Vampire Kings, #0.3)  \n",
       "\n",
       "[5 rows x 29 columns]"
      ]
     },
     "execution_count": 7,
     "metadata": {},
     "output_type": "execute_result"
    }
   ],
   "source": [
    "\n",
    "df.sample(5)"
   ]
  },
  {
   "cell_type": "code",
   "execution_count": 8,
   "id": "1b082953",
   "metadata": {},
   "outputs": [
    {
     "name": "stdout",
     "output_type": "stream",
     "text": [
      "<class 'pandas.core.frame.DataFrame'>\n",
      "RangeIndex: 100000 entries, 0 to 99999\n",
      "Data columns (total 29 columns):\n",
      " #   Column                Non-Null Count   Dtype \n",
      "---  ------                --------------   ----- \n",
      " 0   isbn                  100000 non-null  object\n",
      " 1   text_reviews_count    100000 non-null  object\n",
      " 2   series                100000 non-null  object\n",
      " 3   country_code          100000 non-null  object\n",
      " 4   language_code         100000 non-null  object\n",
      " 5   popular_shelves       100000 non-null  object\n",
      " 6   asin                  100000 non-null  object\n",
      " 7   is_ebook              100000 non-null  object\n",
      " 8   average_rating        100000 non-null  object\n",
      " 9   kindle_asin           100000 non-null  object\n",
      " 10  similar_books         100000 non-null  object\n",
      " 11  description           100000 non-null  object\n",
      " 12  format                100000 non-null  object\n",
      " 13  link                  100000 non-null  object\n",
      " 14  authors               100000 non-null  object\n",
      " 15  publisher             100000 non-null  object\n",
      " 16  num_pages             100000 non-null  object\n",
      " 17  publication_day       100000 non-null  object\n",
      " 18  isbn13                100000 non-null  object\n",
      " 19  publication_month     100000 non-null  object\n",
      " 20  edition_information   100000 non-null  object\n",
      " 21  publication_year      100000 non-null  object\n",
      " 22  url                   100000 non-null  object\n",
      " 23  image_url             100000 non-null  object\n",
      " 24  book_id               100000 non-null  object\n",
      " 25  ratings_count         100000 non-null  object\n",
      " 26  work_id               100000 non-null  object\n",
      " 27  title                 100000 non-null  object\n",
      " 28  title_without_series  100000 non-null  object\n",
      "dtypes: object(29)\n",
      "memory usage: 22.1+ MB\n"
     ]
    }
   ],
   "source": [
    "df.info()"
   ]
  },
  {
   "cell_type": "code",
   "execution_count": 9,
   "id": "51945941",
   "metadata": {},
   "outputs": [
    {
     "data": {
      "text/plain": [
       "isbn                    41381\n",
       "text_reviews_count         19\n",
       "series                      0\n",
       "country_code               18\n",
       "language_code           44885\n",
       "popular_shelves             0\n",
       "asin                    80114\n",
       "is_ebook                   18\n",
       "average_rating             19\n",
       "kindle_asin             56880\n",
       "similar_books               0\n",
       "description             17304\n",
       "format                  27459\n",
       "link                       19\n",
       "authors                     0\n",
       "publisher               27647\n",
       "num_pages               32376\n",
       "publication_day         43280\n",
       "isbn13                  32833\n",
       "publication_month       37302\n",
       "edition_information     90834\n",
       "publication_year        25447\n",
       "url                        19\n",
       "image_url                  18\n",
       "book_id                     0\n",
       "ratings_count              19\n",
       "work_id                    19\n",
       "title                       0\n",
       "title_without_series        0\n",
       "dtype: int64"
      ]
     },
     "execution_count": 9,
     "metadata": {},
     "output_type": "execute_result"
    }
   ],
   "source": [
    "(df == \"\").sum()"
   ]
  },
  {
   "cell_type": "code",
   "execution_count": 10,
   "id": "483ec8f0",
   "metadata": {},
   "outputs": [
    {
     "name": "stdout",
     "output_type": "stream",
     "text": [
      "series: 68481\n",
      "popular_shelves: 1665\n",
      "authors: 19\n",
      "similar_books: 53011\n"
     ]
    }
   ],
   "source": [
    "for c in [\"series\", \"popular_shelves\", \"authors\", \"similar_books\"]:\n",
    "    print(f\"{c}: {df[c].apply(lambda x: len(x) == 0).sum()}\")"
   ]
  },
  {
   "cell_type": "markdown",
   "id": "8900bac6",
   "metadata": {},
   "source": [
    "Exiten muchos `nan` ocultos pero sorprenden 19 de `authors`, `url`, `work_id`..."
   ]
  },
  {
   "cell_type": "code",
   "execution_count": 11,
   "id": "e3472547",
   "metadata": {},
   "outputs": [
    {
     "data": {
      "text/html": [
       "<div>\n",
       "<style scoped>\n",
       "    .dataframe tbody tr th:only-of-type {\n",
       "        vertical-align: middle;\n",
       "    }\n",
       "\n",
       "    .dataframe tbody tr th {\n",
       "        vertical-align: top;\n",
       "    }\n",
       "\n",
       "    .dataframe thead th {\n",
       "        text-align: right;\n",
       "    }\n",
       "</style>\n",
       "<table border=\"1\" class=\"dataframe\">\n",
       "  <thead>\n",
       "    <tr style=\"text-align: right;\">\n",
       "      <th></th>\n",
       "      <th>isbn</th>\n",
       "      <th>text_reviews_count</th>\n",
       "      <th>series</th>\n",
       "      <th>country_code</th>\n",
       "      <th>language_code</th>\n",
       "      <th>popular_shelves</th>\n",
       "      <th>asin</th>\n",
       "      <th>is_ebook</th>\n",
       "      <th>average_rating</th>\n",
       "      <th>kindle_asin</th>\n",
       "      <th>...</th>\n",
       "      <th>publication_month</th>\n",
       "      <th>edition_information</th>\n",
       "      <th>publication_year</th>\n",
       "      <th>url</th>\n",
       "      <th>image_url</th>\n",
       "      <th>book_id</th>\n",
       "      <th>ratings_count</th>\n",
       "      <th>work_id</th>\n",
       "      <th>title</th>\n",
       "      <th>title_without_series</th>\n",
       "    </tr>\n",
       "  </thead>\n",
       "  <tbody>\n",
       "    <tr>\n",
       "      <th>25874</th>\n",
       "      <td></td>\n",
       "      <td></td>\n",
       "      <td>[]</td>\n",
       "      <td>US</td>\n",
       "      <td>spa</td>\n",
       "      <td>[]</td>\n",
       "      <td></td>\n",
       "      <td>true</td>\n",
       "      <td></td>\n",
       "      <td></td>\n",
       "      <td>...</td>\n",
       "      <td></td>\n",
       "      <td></td>\n",
       "      <td></td>\n",
       "      <td></td>\n",
       "      <td>https://images.gr-assets.com/books/1427496832m...</td>\n",
       "      <td>25232185</td>\n",
       "      <td></td>\n",
       "      <td></td>\n",
       "      <td>El Remanso</td>\n",
       "      <td>El Remanso</td>\n",
       "    </tr>\n",
       "    <tr>\n",
       "      <th>26725</th>\n",
       "      <td></td>\n",
       "      <td></td>\n",
       "      <td>[]</td>\n",
       "      <td></td>\n",
       "      <td></td>\n",
       "      <td>[]</td>\n",
       "      <td></td>\n",
       "      <td></td>\n",
       "      <td></td>\n",
       "      <td></td>\n",
       "      <td>...</td>\n",
       "      <td></td>\n",
       "      <td></td>\n",
       "      <td></td>\n",
       "      <td></td>\n",
       "      <td></td>\n",
       "      <td>25763989</td>\n",
       "      <td></td>\n",
       "      <td></td>\n",
       "      <td>Until June (Until Her, #2)</td>\n",
       "      <td>Until June (Until Her, #2)</td>\n",
       "    </tr>\n",
       "    <tr>\n",
       "      <th>90860</th>\n",
       "      <td></td>\n",
       "      <td></td>\n",
       "      <td>[]</td>\n",
       "      <td></td>\n",
       "      <td></td>\n",
       "      <td>[]</td>\n",
       "      <td></td>\n",
       "      <td></td>\n",
       "      <td></td>\n",
       "      <td></td>\n",
       "      <td>...</td>\n",
       "      <td></td>\n",
       "      <td></td>\n",
       "      <td></td>\n",
       "      <td></td>\n",
       "      <td></td>\n",
       "      <td>31128368</td>\n",
       "      <td></td>\n",
       "      <td></td>\n",
       "      <td>The Silence of the Asonu</td>\n",
       "      <td>The Silence of the Asonu</td>\n",
       "    </tr>\n",
       "    <tr>\n",
       "      <th>1687</th>\n",
       "      <td></td>\n",
       "      <td></td>\n",
       "      <td>[]</td>\n",
       "      <td></td>\n",
       "      <td></td>\n",
       "      <td>[]</td>\n",
       "      <td></td>\n",
       "      <td></td>\n",
       "      <td></td>\n",
       "      <td></td>\n",
       "      <td>...</td>\n",
       "      <td></td>\n",
       "      <td></td>\n",
       "      <td></td>\n",
       "      <td></td>\n",
       "      <td></td>\n",
       "      <td>23699819</td>\n",
       "      <td></td>\n",
       "      <td></td>\n",
       "      <td>Infinity Man and the Forever People #1 (The Ne...</td>\n",
       "      <td>Infinity Man and the Forever People #1 (The Ne...</td>\n",
       "    </tr>\n",
       "    <tr>\n",
       "      <th>65712</th>\n",
       "      <td></td>\n",
       "      <td></td>\n",
       "      <td>[]</td>\n",
       "      <td></td>\n",
       "      <td></td>\n",
       "      <td>[]</td>\n",
       "      <td></td>\n",
       "      <td></td>\n",
       "      <td></td>\n",
       "      <td></td>\n",
       "      <td>...</td>\n",
       "      <td></td>\n",
       "      <td></td>\n",
       "      <td></td>\n",
       "      <td></td>\n",
       "      <td></td>\n",
       "      <td>36324095</td>\n",
       "      <td></td>\n",
       "      <td></td>\n",
       "      <td>SPOILED</td>\n",
       "      <td>SPOILED</td>\n",
       "    </tr>\n",
       "  </tbody>\n",
       "</table>\n",
       "<p>5 rows × 29 columns</p>\n",
       "</div>"
      ],
      "text/plain": [
       "      isbn text_reviews_count series country_code language_code  \\\n",
       "25874                             []           US           spa   \n",
       "26725                             []                              \n",
       "90860                             []                              \n",
       "1687                              []                              \n",
       "65712                             []                              \n",
       "\n",
       "      popular_shelves asin is_ebook average_rating kindle_asin  ...  \\\n",
       "25874              []          true                             ...   \n",
       "26725              []                                           ...   \n",
       "90860              []                                           ...   \n",
       "1687               []                                           ...   \n",
       "65712              []                                           ...   \n",
       "\n",
       "      publication_month edition_information publication_year url  \\\n",
       "25874                                                              \n",
       "26725                                                              \n",
       "90860                                                              \n",
       "1687                                                               \n",
       "65712                                                              \n",
       "\n",
       "                                               image_url   book_id  \\\n",
       "25874  https://images.gr-assets.com/books/1427496832m...  25232185   \n",
       "26725                                                     25763989   \n",
       "90860                                                     31128368   \n",
       "1687                                                      23699819   \n",
       "65712                                                     36324095   \n",
       "\n",
       "      ratings_count work_id  \\\n",
       "25874                         \n",
       "26725                         \n",
       "90860                         \n",
       "1687                          \n",
       "65712                         \n",
       "\n",
       "                                                   title  \\\n",
       "25874                                         El Remanso   \n",
       "26725                         Until June (Until Her, #2)   \n",
       "90860                           The Silence of the Asonu   \n",
       "1687   Infinity Man and the Forever People #1 (The Ne...   \n",
       "65712                                            SPOILED   \n",
       "\n",
       "                                    title_without_series  \n",
       "25874                                         El Remanso  \n",
       "26725                         Until June (Until Her, #2)  \n",
       "90860                           The Silence of the Asonu  \n",
       "1687   Infinity Man and the Forever People #1 (The Ne...  \n",
       "65712                                            SPOILED  \n",
       "\n",
       "[5 rows x 29 columns]"
      ]
     },
     "execution_count": 11,
     "metadata": {},
     "output_type": "execute_result"
    }
   ],
   "source": [
    "df[df[\"work_id\"]==\"\"].sample(5)"
   ]
  },
  {
   "cell_type": "code",
   "execution_count": 12,
   "id": "ede0561b",
   "metadata": {},
   "outputs": [
    {
     "data": {
      "text/plain": [
       "is_ebook                     3\n",
       "country_code                 2\n",
       "language_code               96\n",
       "publisher                22498\n",
       "isbn                     58620\n",
       "publication_year           241\n",
       "num_pages                 1194\n",
       "ratings_count             3762\n",
       "work_id                  92654\n",
       "image_url                58421\n",
       "description              81218\n",
       "asin                     19887\n",
       "link                     99982\n",
       "kindle_asin              41519\n",
       "book_id                 100000\n",
       "publication_day             32\n",
       "edition_information       3586\n",
       "text_reviews_count        1069\n",
       "publication_month           13\n",
       "format                     262\n",
       "title_without_series     95876\n",
       "isbn13                   67168\n",
       "title                    95876\n",
       "url                      99982\n",
       "average_rating             319\n",
       "dtype: int64"
      ]
     },
     "execution_count": 12,
     "metadata": {},
     "output_type": "execute_result"
    }
   ],
   "source": [
    "df[list(set(df.columns)-set({\"series\", \"popular_shelves\", \"authors\", \"similar_books\"}))].nunique()"
   ]
  },
  {
   "cell_type": "markdown",
   "id": "27551700",
   "metadata": {},
   "source": [
    "Observamos como algunas componentes es posible que se puedan trasnformar a `category`: `country_code`, `language_id` y `format`."
   ]
  },
  {
   "cell_type": "code",
   "execution_count": 13,
   "id": "112d3cac",
   "metadata": {},
   "outputs": [
    {
     "data": {
      "text/plain": [
       "Index(['isbn', 'text_reviews_count', 'series', 'country_code', 'language_code',\n",
       "       'popular_shelves', 'asin', 'is_ebook', 'average_rating', 'kindle_asin',\n",
       "       'similar_books', 'description', 'format', 'link', 'authors',\n",
       "       'publisher', 'num_pages', 'publication_day', 'isbn13',\n",
       "       'publication_month', 'edition_information', 'publication_year', 'url',\n",
       "       'image_url', 'book_id', 'ratings_count', 'work_id', 'title',\n",
       "       'title_without_series'],\n",
       "      dtype='object')"
      ]
     },
     "execution_count": 13,
     "metadata": {},
     "output_type": "execute_result"
    }
   ],
   "source": [
    "df.columns"
   ]
  },
  {
   "cell_type": "code",
   "execution_count": 14,
   "id": "2e8775aa",
   "metadata": {},
   "outputs": [
    {
     "data": {
      "text/plain": [
       "np.int64(28508)"
      ]
     },
     "execution_count": 14,
     "metadata": {},
     "output_type": "execute_result"
    }
   ],
   "source": [
    "df[\"isbn\"].str.strip().str.startswith(\"0\").sum()"
   ]
  },
  {
   "cell_type": "code",
   "execution_count": 15,
   "id": "0f166e77",
   "metadata": {},
   "outputs": [
    {
     "data": {
      "text/plain": [
       "np.int64(99)"
      ]
     },
     "execution_count": 15,
     "metadata": {},
     "output_type": "execute_result"
    }
   ],
   "source": [
    "df[\"isbn13\"].str.strip().str.startswith(\"0\").sum()"
   ]
  },
  {
   "cell_type": "code",
   "execution_count": 16,
   "id": "141ef5ab",
   "metadata": {},
   "outputs": [
    {
     "data": {
      "text/plain": [
       "np.int64(4)"
      ]
     },
     "execution_count": 16,
     "metadata": {},
     "output_type": "execute_result"
    }
   ],
   "source": [
    "((df[\"isbn\"]!=\"\") & (df[\"isbn13\"]!=\"\") & (df[\"isbn\"]==df[\"isbn13\"])).sum()"
   ]
  },
  {
   "cell_type": "code",
   "execution_count": 17,
   "id": "7582441f",
   "metadata": {},
   "outputs": [
    {
     "data": {
      "text/plain": [
       "np.int64(56108)"
      ]
     },
     "execution_count": 17,
     "metadata": {},
     "output_type": "execute_result"
    }
   ],
   "source": [
    "((df[\"isbn\"]!=\"\") & (df[\"isbn13\"]!=\"\") & (df[\"isbn\"]!=df[\"isbn13\"])).sum()"
   ]
  },
  {
   "cell_type": "markdown",
   "id": "9c226025",
   "metadata": {},
   "source": [
    "Son una `string` (no un `integer`) dado que muchos valores empiezan por `0`. Ambos, `isbn` e `isbn13`, aunque algunos coinciden, no tienen porqué ser el mismo."
   ]
  },
  {
   "cell_type": "code",
   "execution_count": 18,
   "id": "312415d4",
   "metadata": {},
   "outputs": [
    {
     "data": {
      "text/plain": [
       "count    99981.000000\n",
       "mean        29.506946\n",
       "std        338.328231\n",
       "min          0.000000\n",
       "25%          2.000000\n",
       "50%          4.000000\n",
       "75%         12.000000\n",
       "max      53601.000000\n",
       "Name: text_reviews_count, dtype: float64"
      ]
     },
     "execution_count": 18,
     "metadata": {},
     "output_type": "execute_result"
    }
   ],
   "source": [
    "df.loc[df[\"text_reviews_count\"]!=\"\", \"text_reviews_count\"].astype(np.int64).describe()"
   ]
  },
  {
   "cell_type": "markdown",
   "id": "80fe5d40",
   "metadata": {},
   "source": [
    "Aunque se podría utilizar `uint16` es posible que algunos registros que no se está analizando superen la cifra máxima y se necesiten 32 bits."
   ]
  },
  {
   "cell_type": "code",
   "execution_count": 19,
   "id": "cb8599bd",
   "metadata": {},
   "outputs": [
    {
     "data": {
      "text/plain": [
       "59884    [389764, 430319, 1102675, 1111645]\n",
       "Name: series, dtype: object"
      ]
     },
     "execution_count": 19,
     "metadata": {},
     "output_type": "execute_result"
    }
   ],
   "source": [
    "df.loc[df[\"series\"].apply(lambda x: len(x)).sort_values(ascending=False).index, \"series\"].head(1)"
   ]
  },
  {
   "cell_type": "code",
   "execution_count": 20,
   "id": "02c15b29",
   "metadata": {},
   "outputs": [
    {
     "data": {
      "text/plain": [
       "['389764', '430319', '1102675', '1111645']"
      ]
     },
     "execution_count": 20,
     "metadata": {},
     "output_type": "execute_result"
    }
   ],
   "source": [
    "df.loc[59884, \"series\"]"
   ]
  },
  {
   "cell_type": "markdown",
   "id": "1e209fd6",
   "metadata": {},
   "source": [
    "Se corresponden con índices que se debrán transformar en `integers`."
   ]
  },
  {
   "cell_type": "code",
   "execution_count": 21,
   "id": "4e721178",
   "metadata": {},
   "outputs": [
    {
     "data": {
      "text/plain": [
       "array(['US', ''], dtype=object)"
      ]
     },
     "execution_count": 21,
     "metadata": {},
     "output_type": "execute_result"
    }
   ],
   "source": [
    "df[\"country_code\"].unique()"
   ]
  },
  {
   "cell_type": "code",
   "execution_count": 22,
   "id": "abcd92d2",
   "metadata": {},
   "outputs": [
    {
     "data": {
      "text/plain": [
       "array(['', 'eng', 'ger', 'spa', 'en-US', 'ita', 'per', 'en-GB', 'tur',\n",
       "       'ind', 'mon', 'fre', 'por', 'ara', 'en-CA', 'tha', 'lav', 'jpn',\n",
       "       'pol', 'swe', 'kor', 'fin', 'msa', 'bul', 'nl', 'gre', 'slo',\n",
       "       'nor', 'heb', 'hun', 'ben', 'scr', 'zho', 'fil', 'rus', 'lit',\n",
       "       'rum', 'cze', 'dan', 'slv', 'nno', 'pes', 'hye', 'nob', 'cat',\n",
       "       'en', 'vie', 'nep', 'mar', 'srp', 'urd', 'guj', 'est', 'sqi',\n",
       "       'ukr', 'afr', 'mul', 'grc', 'kat', 'mkd', 'hin', 'tam', 'mus',\n",
       "       '--', 'bos', 'enm', 'gla', 'isl', 'glg', 'mal', 'kur', 'wel',\n",
       "       'pt-BR', 'crh', 'tel', 'es-MX', 'kan', 'mya', 'fao', 'aze', 'ota',\n",
       "       'arw', 'pra', 'tgl', 'lat', 'dum', 'eus', 'sin', 'mlt', 'ada',\n",
       "       'apa', 'udm', 'peo', 'bel', 'iro', 'nld'], dtype=object)"
      ]
     },
     "execution_count": 22,
     "metadata": {},
     "output_type": "execute_result"
    }
   ],
   "source": [
    "df[\"language_code\"].unique()"
   ]
  },
  {
   "cell_type": "code",
   "execution_count": 23,
   "id": "d80930f0",
   "metadata": {},
   "outputs": [
    {
     "data": {
      "text/plain": [
       "99999    [{'count': '687', 'name': 'to-read'}, {'count'...\n",
       "Name: popular_shelves, dtype: object"
      ]
     },
     "execution_count": 23,
     "metadata": {},
     "output_type": "execute_result"
    }
   ],
   "source": [
    "df.loc[df[\"popular_shelves\"].apply(lambda x: len(x)).sort_values(ascending=False).index, \"popular_shelves\"].head(1)"
   ]
  },
  {
   "cell_type": "code",
   "execution_count": 24,
   "id": "ccb47145",
   "metadata": {},
   "outputs": [
    {
     "data": {
      "text/plain": [
       "[{'count': '687', 'name': 'to-read'},\n",
       " {'count': '61', 'name': 'historical-fiction'},\n",
       " {'count': '16', 'name': 'fiction'},\n",
       " {'count': '10', 'name': 'historical'},\n",
       " {'count': '10', 'name': 'currently-reading'},\n",
       " {'count': '5', 'name': 'romance'},\n",
       " {'count': '4', 'name': 'fantasy'},\n",
       " {'count': '3', 'name': 'ghosts'},\n",
       " {'count': '3', 'name': 'owned'},\n",
       " {'count': '3', 'name': 'ya'},\n",
       " {'count': '3', 'name': 'books-i-own'},\n",
       " {'count': '3', 'name': 'kindle'},\n",
       " {'count': '3', 'name': 'history'},\n",
       " {'count': '2', 'name': 'historical-fiction-romance'},\n",
       " {'count': '2', 'name': 'paranormal'},\n",
       " {'count': '2', 'name': 'favorites'},\n",
       " {'count': '2', 'name': 'american'},\n",
       " {'count': '2', 'name': 'borrowed-library'},\n",
       " {'count': '2', 'name': 'english'},\n",
       " {'count': '2', 'name': '19th-century'},\n",
       " {'count': '2', 'name': 'library'},\n",
       " {'count': '2', 'name': 'wish-list'},\n",
       " {'count': '1', 'name': 'writers'},\n",
       " {'count': '1', 'name': 'books-i-want-to-read-fiction'},\n",
       " {'count': '1', 'name': 'books'},\n",
       " {'count': '1', 'name': 'my-crazy-long-tbr'},\n",
       " {'count': '1', 'name': 'to-read-get'},\n",
       " {'count': '1', 'name': 'little-library'},\n",
       " {'count': '1', 'name': 'no-thanks-sir-ghost'},\n",
       " {'count': '1', 'name': 'up-all-nights'},\n",
       " {'count': '1', 'name': 'next-in-line'},\n",
       " {'count': '1', 'name': 'real-life-authors-in-fiction'},\n",
       " {'count': '1', 'name': 'letdown-or-tried-too-hard'},\n",
       " {'count': '1', 'name': 'books-about-books'},\n",
       " {'count': '1', 'name': 'order-soon'},\n",
       " {'count': '1', 'name': 'poeish'},\n",
       " {'count': '1', 'name': 'adult-non-ya-fiction'},\n",
       " {'count': '1', 'name': '2017-reading'},\n",
       " {'count': '1', 'name': 'ya-to-read'},\n",
       " {'count': '1', 'name': 'books-owned-but-unread'},\n",
       " {'count': '1', 'name': 'tr-fan-nov'},\n",
       " {'count': '1', 'name': 'books-to-borrow'},\n",
       " {'count': '1', 'name': 'kindle-wishlist'},\n",
       " {'count': '1', 'name': 'read-owned'},\n",
       " {'count': '1', 'name': 'general-fiction'},\n",
       " {'count': '1', 'name': 'curious'},\n",
       " {'count': '1', 'name': 'next-up'},\n",
       " {'count': '1', 'name': 'book-i-own-to-read'},\n",
       " {'count': '1', 'name': 'poe'},\n",
       " {'count': '1', 'name': 'not-owned-or-library'},\n",
       " {'count': '1', 'name': 'adult-historical-fiction'},\n",
       " {'count': '1', 'name': 'own-but-haven-t-read-yet'},\n",
       " {'count': '1', 'name': 'upcoming'},\n",
       " {'count': '1', 'name': 'bc95'},\n",
       " {'count': '1', 'name': 'postponed'},\n",
       " {'count': '1', 'name': 'currently-reading-but-not-reading'},\n",
       " {'count': '1', 'name': 'to-read-h'},\n",
       " {'count': '1', 'name': 'favorite-authors'},\n",
       " {'count': '1', 'name': 'unread-1800s'},\n",
       " {'count': '1', 'name': 'the-south'},\n",
       " {'count': '1', 'name': 'poelandia'},\n",
       " {'count': '1', 'name': 'novels'},\n",
       " {'count': '1', 'name': 'from-the-stacks'},\n",
       " {'count': '1', 'name': 'chestnut-lodge'},\n",
       " {'count': '1', 'name': 'to-read-in-my-lifetime'},\n",
       " {'count': '1', 'name': 'rip-reading-challenge'},\n",
       " {'count': '1', 'name': 'buy'},\n",
       " {'count': '1', 'name': 'physical-bookshelf'},\n",
       " {'count': '1', 'name': 'have-but-not-read'},\n",
       " {'count': '1', 'name': 'library-sp'},\n",
       " {'count': '1', 'name': 'books-jo-read-in-high-school'},\n",
       " {'count': '1', 'name': 'fantasy-horror-paranormal-syfy'},\n",
       " {'count': '1', 'name': 'historical-novel'},\n",
       " {'count': '1', 'name': '2015-mount-tbr'},\n",
       " {'count': '1', 'name': 'based-on-real-people'},\n",
       " {'count': '1', 'name': 'contemporary-historical-fiction'},\n",
       " {'count': '1', 'name': 'need-to-get'},\n",
       " {'count': '1', 'name': 'half-read'},\n",
       " {'count': '1', 'name': 'need-to-recommend-to-my-library'},\n",
       " {'count': '1', 'name': 'to-read-ya'},\n",
       " {'count': '1', 'name': 'to-read-own'},\n",
       " {'count': '1', 'name': 'did-not-finish-read'},\n",
       " {'count': '1', 'name': 'need-to-read-now'},\n",
       " {'count': '1', 'name': 'kindle-owned-not-read'},\n",
       " {'count': '1', 'name': 'victorian-era'},\n",
       " {'count': '1', 'name': 'fiction-contemporary'},\n",
       " {'count': '1', 'name': 'no-overdrive-fiction'},\n",
       " {'count': '1', 'name': 'random'},\n",
       " {'count': '1', 'name': '2011-books'},\n",
       " {'count': '1', 'name': 'set-aside'},\n",
       " {'count': '1', 'name': 'jmrl'},\n",
       " {'count': '1', 'name': 'young-adult-fiction'},\n",
       " {'count': '1', 'name': 'first-40-books'},\n",
       " {'count': '1', 'name': 'box-5-bcb'},\n",
       " {'count': '1', 'name': 'books-in-staff-room'},\n",
       " {'count': '1', 'name': 'bird-endcaps'},\n",
       " {'count': '1', 'name': 'artists'},\n",
       " {'count': '1', 'name': 'library-books'},\n",
       " {'count': '1', 'name': 'dnf-but-will-finish'},\n",
       " {'count': '1', 'name': 'not-yet'}]"
      ]
     },
     "execution_count": 24,
     "metadata": {},
     "output_type": "execute_result"
    }
   ],
   "source": [
    "df.loc[99999, \"popular_shelves\"]"
   ]
  },
  {
   "cell_type": "code",
   "execution_count": 25,
   "id": "4d29be8f",
   "metadata": {},
   "outputs": [
    {
     "data": {
      "text/plain": [
       "43353    B00DP6478C\n",
       "34557    B002D48Q84\n",
       "22738    B00164X2N6\n",
       "40332    B01DQ8I982\n",
       "45318    B00H8ZTZVK\n",
       "Name: asin, dtype: object"
      ]
     },
     "execution_count": 25,
     "metadata": {},
     "output_type": "execute_result"
    }
   ],
   "source": [
    "df.loc[df[\"asin\"]!=\"\", \"asin\"].str.strip().sample(5)"
   ]
  },
  {
   "cell_type": "code",
   "execution_count": 26,
   "id": "fa47e66f",
   "metadata": {},
   "outputs": [
    {
     "data": {
      "text/plain": [
       "array(['false', 'true', ''], dtype=object)"
      ]
     },
     "execution_count": 26,
     "metadata": {},
     "output_type": "execute_result"
    }
   ],
   "source": [
    "df[\"is_ebook\"].unique()"
   ]
  },
  {
   "cell_type": "code",
   "execution_count": 27,
   "id": "9ffde6fd",
   "metadata": {},
   "outputs": [
    {
     "data": {
      "text/plain": [
       "46       B01AKT6JC8\n",
       "96654    B01D2CSUJU\n",
       "80180    B004OL2C7U\n",
       "53812    B00TYVPDRG\n",
       "21320    B00LIBM8KU\n",
       "Name: kindle_asin, dtype: object"
      ]
     },
     "execution_count": 27,
     "metadata": {},
     "output_type": "execute_result"
    }
   ],
   "source": [
    "df.loc[df[\"kindle_asin\"]!=\"\", \"kindle_asin\"].sample(5)"
   ]
  },
  {
   "cell_type": "code",
   "execution_count": 28,
   "id": "e9abcd89",
   "metadata": {},
   "outputs": [
    {
     "data": {
      "text/plain": [
       "np.int64(14921)"
      ]
     },
     "execution_count": 28,
     "metadata": {},
     "output_type": "execute_result"
    }
   ],
   "source": [
    "((df[\"asin\"]!=\"\") & (df[\"kindle_asin\"]!=\"\") & (df[\"asin\"]==df[\"kindle_asin\"])).sum()"
   ]
  },
  {
   "cell_type": "code",
   "execution_count": 29,
   "id": "e321c62b",
   "metadata": {},
   "outputs": [
    {
     "data": {
      "text/plain": [
       "np.int64(1066)"
      ]
     },
     "execution_count": 29,
     "metadata": {},
     "output_type": "execute_result"
    }
   ],
   "source": [
    "((df[\"asin\"]!=\"\") & (df[\"kindle_asin\"]!=\"\") & (df[\"asin\"]!=df[\"kindle_asin\"])).sum()"
   ]
  },
  {
   "cell_type": "code",
   "execution_count": 30,
   "id": "7e2d7d20",
   "metadata": {},
   "outputs": [
    {
     "data": {
      "text/html": [
       "<div>\n",
       "<style scoped>\n",
       "    .dataframe tbody tr th:only-of-type {\n",
       "        vertical-align: middle;\n",
       "    }\n",
       "\n",
       "    .dataframe tbody tr th {\n",
       "        vertical-align: top;\n",
       "    }\n",
       "\n",
       "    .dataframe thead th {\n",
       "        text-align: right;\n",
       "    }\n",
       "</style>\n",
       "<table border=\"1\" class=\"dataframe\">\n",
       "  <thead>\n",
       "    <tr style=\"text-align: right;\">\n",
       "      <th></th>\n",
       "      <th>title</th>\n",
       "      <th>asin</th>\n",
       "      <th>kindle_asin</th>\n",
       "    </tr>\n",
       "  </thead>\n",
       "  <tbody>\n",
       "    <tr>\n",
       "      <th>11124</th>\n",
       "      <td>The Little Book of Titanic</td>\n",
       "      <td>B004ZH809C</td>\n",
       "      <td>B00P7SWDAU</td>\n",
       "    </tr>\n",
       "    <tr>\n",
       "      <th>44311</th>\n",
       "      <td>British Railways in the 1970s and '80s</td>\n",
       "      <td>B00D0O6UM0</td>\n",
       "      <td>B01BY349LW</td>\n",
       "    </tr>\n",
       "    <tr>\n",
       "      <th>16847</th>\n",
       "      <td>Hindu Sex Aliens (The Island Trilogy,#3)</td>\n",
       "      <td>B015X0V244</td>\n",
       "      <td>B01GFCWSQA</td>\n",
       "    </tr>\n",
       "    <tr>\n",
       "      <th>46477</th>\n",
       "      <td>Objects in Mirror (Stonegate Series)</td>\n",
       "      <td>B06WD5N492</td>\n",
       "      <td>B071DFM63C</td>\n",
       "    </tr>\n",
       "    <tr>\n",
       "      <th>67641</th>\n",
       "      <td>The Man in the Iron Mask (The D'Artagnan Roman...</td>\n",
       "      <td>B003BVIXTU</td>\n",
       "      <td>B0083Z50Z4</td>\n",
       "    </tr>\n",
       "  </tbody>\n",
       "</table>\n",
       "</div>"
      ],
      "text/plain": [
       "                                                   title        asin  \\\n",
       "11124                         The Little Book of Titanic  B004ZH809C   \n",
       "44311             British Railways in the 1970s and '80s  B00D0O6UM0   \n",
       "16847           Hindu Sex Aliens (The Island Trilogy,#3)  B015X0V244   \n",
       "46477               Objects in Mirror (Stonegate Series)  B06WD5N492   \n",
       "67641  The Man in the Iron Mask (The D'Artagnan Roman...  B003BVIXTU   \n",
       "\n",
       "      kindle_asin  \n",
       "11124  B00P7SWDAU  \n",
       "44311  B01BY349LW  \n",
       "16847  B01GFCWSQA  \n",
       "46477  B071DFM63C  \n",
       "67641  B0083Z50Z4  "
      ]
     },
     "execution_count": 30,
     "metadata": {},
     "output_type": "execute_result"
    }
   ],
   "source": [
    "df[(df[\"asin\"]!=\"\") & (df[\"kindle_asin\"]!=\"\") & (df[\"asin\"]!=df[\"kindle_asin\"])][[\"title\", \"asin\", \"kindle_asin\"]].sample(5)"
   ]
  },
  {
   "cell_type": "markdown",
   "id": "d850518a",
   "metadata": {},
   "source": [
    "Aunque la mayoría de valores coinciden, exsiten algunos que no."
   ]
  },
  {
   "cell_type": "code",
   "execution_count": 31,
   "id": "341446e3",
   "metadata": {},
   "outputs": [
    {
     "data": {
      "text/plain": [
       "count    99981.000000\n",
       "mean         3.866388\n",
       "std          0.535863\n",
       "min          0.000000\n",
       "25%          3.630000\n",
       "50%          3.910000\n",
       "75%          4.160000\n",
       "max          5.000000\n",
       "Name: average_rating, dtype: float64"
      ]
     },
     "execution_count": 31,
     "metadata": {},
     "output_type": "execute_result"
    }
   ],
   "source": [
    "df.loc[df[\"average_rating\"]!=\"\", \"average_rating\"].astype(np.float32).describe()"
   ]
  },
  {
   "cell_type": "code",
   "execution_count": 32,
   "id": "090c4388",
   "metadata": {},
   "outputs": [
    {
     "data": {
      "text/plain": [
       "99999    [8581015, 9673072, 79381, 7755381, 8546464, 12...\n",
       "Name: similar_books, dtype: object"
      ]
     },
     "execution_count": 32,
     "metadata": {},
     "output_type": "execute_result"
    }
   ],
   "source": [
    "df.loc[df[\"similar_books\"].apply(lambda x: len(x)).sort_values(ascending=False).index, \"similar_books\"].head(1)"
   ]
  },
  {
   "cell_type": "code",
   "execution_count": 33,
   "id": "2dc2c984",
   "metadata": {},
   "outputs": [
    {
     "data": {
      "text/plain": [
       "['8581015',\n",
       " '9673072',\n",
       " '79381',\n",
       " '7755381',\n",
       " '8546464',\n",
       " '12910647',\n",
       " '8501353',\n",
       " '10616074',\n",
       " '11891563',\n",
       " '9559404',\n",
       " '10190826',\n",
       " '6931179',\n",
       " '10176903',\n",
       " '11495306',\n",
       " '3248557',\n",
       " '9554907',\n",
       " '9591515',\n",
       " '3864007']"
      ]
     },
     "execution_count": 33,
     "metadata": {},
     "output_type": "execute_result"
    }
   ],
   "source": [
    "df.loc[99999, \"similar_books\"]"
   ]
  },
  {
   "cell_type": "code",
   "execution_count": 34,
   "id": "4a6f97cb",
   "metadata": {},
   "outputs": [
    {
     "data": {
      "text/plain": [
       "68408    THE NEW CHILLING, PROPULSIVE NOVEL FROM THE AU...\n",
       "Name: description, dtype: object"
      ]
     },
     "execution_count": 34,
     "metadata": {},
     "output_type": "execute_result"
    }
   ],
   "source": [
    "df.loc[df[\"description\"]!=\"\", \"description\"].sample(1)"
   ]
  },
  {
   "cell_type": "code",
   "execution_count": 35,
   "id": "ae5686c6",
   "metadata": {},
   "outputs": [
    {
     "data": {
      "text/plain": [
       "\"Hamburg'un eski mahallesindeki kucuk bir evde, genc ve cekingen Axel, amcasi jeolog ve madenbilimci Profesor Lidenbrock'la birlikte calismaktadir. Delikanli, bu sabirsiz ve ofkeli profesorun yaninda yasayan guzel bir Estonyali kiza, Grauben'e asiktir. Bir gun profesor, eski bir elyazmasinin icinde bir sifre bulur ve hayatlari o andan itibaren altust olur. Onaltinci yuzyilin unlu Izlandali bilgini Arne Saknussemm, bu sifrede, Izlanda'daki sonmus yanardag Sneffels'in kraterinden Dunya'nin merkezine indigini aciklamaktadir! Profesor Lidenbrock buyuk bir heyecana kapilir ve yegeni Axel'le birlikte Izlanda'ya gider. Sakin ve sogukkanli rehberleri Hans'in esliginde, yanardagin gizemli derinliklerine inerler... Yerin altinda, surprizlerle dolu bir yolculuk onlari beklemektedir. Belleklere kazinmis bir Jules Verne klasigi... (Turkce'ye tam metin ceviri).\""
      ]
     },
     "execution_count": 35,
     "metadata": {},
     "output_type": "execute_result"
    }
   ],
   "source": [
    "df.loc[39401, \"description\"]"
   ]
  },
  {
   "cell_type": "code",
   "execution_count": 36,
   "id": "f2ff1530",
   "metadata": {},
   "outputs": [
    {
     "data": {
      "text/plain": [
       "array(['', \"'rb`@ 'jz fy mjlWdyn\", '106x180', '13x20 cm', '14 x 21 cm',\n",
       "       '15 x 22 cm', \"4''x5'' Hardcover\", 'A5 Paperback', 'Album',\n",
       "       'Audible Audio', 'Audio', 'Audio CD', 'Audio CD (4 CD Set)',\n",
       "       'Audio CD - Narrated by Campbell Scott', \"Audio CD's\", 'Audio CDs',\n",
       "       'Audio Cassette', 'Audio Play', 'Audio mp3', 'Audiobook',\n",
       "       'Audiobook, Unabridged Audiobook (11hrs 41min)',\n",
       "       'Audiobook, Unabridged Audiobook (23hrs 30min)',\n",
       "       'Audiobook, Unabridged Audiobook (8hrs 55min)', 'Bath Book',\n",
       "       'Beauty', 'Bia mem', 'Board Book', 'Board book', 'Bolsillo',\n",
       "       'Bolsillo con sobrecubierta', 'Book', 'Box', 'Boxed Set', 'Broche',\n",
       "       'Brochura', 'Broschur', 'Brossura', 'Buku',\n",
       "       'CBR - Comic Book Reader', 'CD-ROM', 'Capa Mole', 'Capa mole',\n",
       "       'Casebound', 'Cell Phone Novel', 'Chapbook', \"Children's Foam\",\n",
       "       'Cloth', 'Collection', 'Comic', 'Comic Book', 'Comics',\n",
       "       'Custom Handmade Binding', 'DC Elseworld Series',\n",
       "       'DVD lecture series', 'Dan Xing Ben', 'Dan Xing Ben (sohutokaba)',\n",
       "       'Digital', 'Digital Comic', 'Download', 'E-Book, html, pdf',\n",
       "       'E-book', 'E-chap', 'FC', 'Fancomic', 'Fanfiction (Harry Potter)',\n",
       "       'Flexbound', 'Flexcover', 'Flipback', 'Folletin',\n",
       "       'Free Online Fiction', 'Free Online Read', 'Free online fiction',\n",
       "       'Free online read', 'Gebunden', 'Gebundene Ausgabe', 'Glf `dy',\n",
       "       'Grapa', 'Graphic Novel', 'Graphic Novels', 'HARDCOVER',\n",
       "       'Handmade Chapbook', 'Hard Cover', 'Hard cover', 'Hardback',\n",
       "       'Hardbound', 'Hardcover', 'Hardcover with dust jacket',\n",
       "       'Hardcover, illustrated', 'Illustrated', 'Inbunden', 'Innbundet',\n",
       "       'Interactive eBook', 'Issue', 'Kindle &amp; Paperback edition',\n",
       "       'Kindle Edition', 'Kindle Edition and Paperback',\n",
       "       'Kindle edition and paperback', 'Klappbroschur', 'Klappenbroschur',\n",
       "       'Large Hard Cover', 'Large Paperback', 'Large Print',\n",
       "       'Large Print Paperback', 'Large print', 'Leather Bound',\n",
       "       'Leather-Cloth', 'Leatherbound', 'Library Binding',\n",
       "       'Library Bound', 'Livre ferme comme une boite', 'Livro de Bolso',\n",
       "       'Livro papel', 'MP3 Audio', 'MP3 AudioBook', 'MP3 Audiobook',\n",
       "       'MP3 Book', 'MP3 CD', 'Magazine', 'Mass Market',\n",
       "       'Mass Market Paperback', 'NOOK ebook', 'Newsprint', 'Nook',\n",
       "       'Novelty Book', 'Online', 'Online Fiction',\n",
       "       'Online Fiction - Complete', 'Online Free Fiction',\n",
       "       'Original online fiction', 'Other Format', 'Overdrive Audiobook',\n",
       "       'PDF', 'Pamphlet', 'Papaerback', 'Papeback', 'Paper Back',\n",
       "       'Paper back', 'Paper book', 'PaperBack', 'Paperback',\n",
       "       'Paperback &amp; E-Book', 'Paperback (Large Print)',\n",
       "       'Paperback , Ebook', 'Paperback - Ebook',\n",
       "       'Paperback - Large Print', 'Paperback Manga',\n",
       "       'Paperback and eBook', 'Paperback comic book',\n",
       "       'Paperback in CD case', 'Paperback w/music CD',\n",
       "       'Paperback with Connect Access', 'Paperback with flaps',\n",
       "       'Paperback, ebook', 'Part-In-Omnibus', 'Pdf', 'Perfect Paperback',\n",
       "       'Play Script', 'Poche', 'Pocket', 'Pocketbook', 'Podiobook',\n",
       "       'Poetry', 'Preloaded Digital Audio Player', 'Proof',\n",
       "       'Question/ Answer', 'Roman', 'Ruan Jing Zhuang', 'Russian',\n",
       "       'Rustica', 'Rustica con sobrecubierta',\n",
       "       'School &amp; Library Binding', 'Short Story', 'Short story',\n",
       "       'Slipcased Hardcover', 'Soft Cover', 'Soft Cover Flap',\n",
       "       'Softcover', 'Sony Reader', 'Spiral-bound', 'Stationery',\n",
       "       'TAPA BLANDA CON SOLAPA', 'Tapa blanda con solapas',\n",
       "       'Tapa flexible con solapas', 'Taschenbuch', 'Textbook Binding',\n",
       "       'Trade', 'Trade Paperback', 'Trade paperback', 'Turtleback',\n",
       "       'Tverdyi pereplet', 'Tverdyi pereplet (Hardcover)', 'Unbound',\n",
       "       'Unknown Binding', 'Verse in categories', 'Wattpad',\n",
       "       'Website Series', 'Webtoon', 'Wen Ku', 'Zine', 'a3',\n",
       "       \"artist's book\", 'audio', 'audio cassette', 'audiobook', 'broche',\n",
       "       'chapbook', 'chapbook with DVD', 'cloth', 'comics', 'diagram',\n",
       "       'e book', 'e-book, digital format', 'e-chap', 'eBook Kindle',\n",
       "       'ePUB', 'ebook', 'ebook &amp; paperback',\n",
       "       'ebook and paperback option', 'free manga scanlation',\n",
       "       'free online', 'free online fiction', 'glyngwr',\n",
       "       'hand bound, saddle-stitched', 'hardback', 'hardcover', 'html',\n",
       "       'journal', 'kovakantinen', 'krtwn mqwW~', 'mass market',\n",
       "       'mass market paperback', 'multiformat ebook',\n",
       "       'newsprint stapled folio', 'nook book', 'novel',\n",
       "       'online fanfiction', 'online fiction', 'online novel',\n",
       "       'online short story', 'pamphlet', 'paper', 'paperback',\n",
       "       'paperback B format 197mm x 128mm', 'paperback and ebook',\n",
       "       'paperbook &amp; ebook', 'paperfomat', 'papperback', 'pbk', 'pdf',\n",
       "       'pepabatsuku', 'poetry chapbook', 'print or download', 'rq`y',\n",
       "       'soft cover', 'softcover', 'tankoubon', 'trade paper',\n",
       "       'trade paperback', 'unknown', 'wattpad', 'webtoon', 'wzyry'],\n",
       "      dtype=object)"
      ]
     },
     "execution_count": 36,
     "metadata": {},
     "output_type": "execute_result"
    }
   ],
   "source": [
    "df[\"format\"].sort_values().str.strip().unique()"
   ]
  },
  {
   "cell_type": "markdown",
   "id": "175127ca",
   "metadata": {},
   "source": [
    "Se podría convertir a `category`. Se observa que existen valores similares que podrían pertencer a la misma categoría (tiene el mismo formato) por lo que es posible que valga la pena agrupar los formatos en formatos más generalizados."
   ]
  },
  {
   "cell_type": "code",
   "execution_count": 37,
   "id": "dec8e2a3",
   "metadata": {},
   "outputs": [
    {
     "data": {
      "text/plain": [
       "99019    [{'author_id': '1337779', 'role': 'Editor'}, {...\n",
       "Name: authors, dtype: object"
      ]
     },
     "execution_count": 37,
     "metadata": {},
     "output_type": "execute_result"
    }
   ],
   "source": [
    "df.loc[df[\"authors\"].apply(lambda x: len(x)).sort_values(ascending=False).index, \"authors\"].head(1)"
   ]
  },
  {
   "cell_type": "code",
   "execution_count": 38,
   "id": "f13cae05",
   "metadata": {},
   "outputs": [
    {
     "data": {
      "text/plain": [
       "[{'author_id': '1337779', 'role': 'Editor'},\n",
       " {'author_id': '345630', 'role': 'Editor'},\n",
       " {'author_id': '330967', 'role': 'Contributor'},\n",
       " {'author_id': '1246635', 'role': 'Contributor'},\n",
       " {'author_id': '266774', 'role': 'Contributor'},\n",
       " {'author_id': '1463436', 'role': 'Contributor'},\n",
       " {'author_id': '202438', 'role': 'Contributor'},\n",
       " {'author_id': '93220', 'role': 'Contributor'},\n",
       " {'author_id': '3418947', 'role': 'Contributor'},\n",
       " {'author_id': '712210', 'role': 'Contributor'},\n",
       " {'author_id': '752161', 'role': 'Contributor'},\n",
       " {'author_id': '1404210', 'role': 'Contributor'},\n",
       " {'author_id': '1651879', 'role': 'Contributor'},\n",
       " {'author_id': '641402', 'role': 'Contributor'},\n",
       " {'author_id': '1686343', 'role': 'Contributor'},\n",
       " {'author_id': '200317', 'role': 'Contributor'},\n",
       " {'author_id': '20092', 'role': 'Contributor'},\n",
       " {'author_id': '2871046', 'role': 'Contributor'},\n",
       " {'author_id': '2096360', 'role': 'Contributor'},\n",
       " {'author_id': '27621', 'role': 'Contributor'},\n",
       " {'author_id': '1443712', 'role': 'Contributor'},\n",
       " {'author_id': '146783', 'role': 'Contributor'},\n",
       " {'author_id': '293603', 'role': 'Contributor'},\n",
       " {'author_id': '2989576', 'role': 'Contributor'},\n",
       " {'author_id': '237175', 'role': 'Contributor'},\n",
       " {'author_id': '286059', 'role': 'Contributor'},\n",
       " {'author_id': '1164465', 'role': 'Contributor'},\n",
       " {'author_id': '253326', 'role': 'Contributor'},\n",
       " {'author_id': '5176161', 'role': 'Contributor'},\n",
       " {'author_id': '27318', 'role': 'Contributor'},\n",
       " {'author_id': '62448', 'role': 'Contributor'},\n",
       " {'author_id': '3027554', 'role': 'Contributor'},\n",
       " {'author_id': '165006', 'role': 'Contributor'},\n",
       " {'author_id': '1435023', 'role': 'Contributor'},\n",
       " {'author_id': '3161105', 'role': 'Contributor'},\n",
       " {'author_id': '119814', 'role': 'Contributor'},\n",
       " {'author_id': '2905297', 'role': 'Contributor'},\n",
       " {'author_id': '2936493', 'role': 'Contributor'},\n",
       " {'author_id': '77172', 'role': 'Contributor'},\n",
       " {'author_id': '767547', 'role': 'Contributor'},\n",
       " {'author_id': '588558', 'role': 'Contributor'},\n",
       " {'author_id': '135047', 'role': 'Contributor'},\n",
       " {'author_id': '2765438', 'role': 'Contributor'},\n",
       " {'author_id': '3041743', 'role': 'Contributor'},\n",
       " {'author_id': '270479', 'role': 'Contributor'},\n",
       " {'author_id': '225455', 'role': 'Contributor'},\n",
       " {'author_id': '79922', 'role': 'Contributor'},\n",
       " {'author_id': '13730', 'role': 'Contributor'},\n",
       " {'author_id': '321338', 'role': 'Contributor'},\n",
       " {'author_id': '2821144', 'role': 'Contributor'},\n",
       " {'author_id': '58846', 'role': 'Contributor'}]"
      ]
     },
     "execution_count": 38,
     "metadata": {},
     "output_type": "execute_result"
    }
   ],
   "source": [
    "df.loc[99019, \"authors\"]"
   ]
  },
  {
   "cell_type": "code",
   "execution_count": 39,
   "id": "b9b7aa2e",
   "metadata": {},
   "outputs": [
    {
     "name": "stdout",
     "output_type": "stream",
     "text": [
      "['Editor', 'Contributor']\n"
     ]
    }
   ],
   "source": [
    "roles = []\n",
    "for a in df.loc[99019, \"authors\"]:\n",
    "    if (rol := a[\"role\"]) not in roles: roles.append(rol)\n",
    "\n",
    "print(roles)"
   ]
  },
  {
   "cell_type": "code",
   "execution_count": 40,
   "id": "d1746723",
   "metadata": {},
   "outputs": [
    {
     "data": {
      "text/plain": [
       "54524                        \n",
       "50479    Precious Pages Corp.\n",
       "20420               JRT Books\n",
       "99366        Siren Publishing\n",
       "61127                        \n",
       "Name: publisher, dtype: object"
      ]
     },
     "execution_count": 40,
     "metadata": {},
     "output_type": "execute_result"
    }
   ],
   "source": [
    "df[\"publisher\"].sample(5)"
   ]
  },
  {
   "cell_type": "code",
   "execution_count": 41,
   "id": "077fd013",
   "metadata": {},
   "outputs": [
    {
     "data": {
      "text/plain": [
       "count     67624.000000\n",
       "mean        276.302629\n",
       "std        3638.023322\n",
       "min           0.000000\n",
       "25%         147.000000\n",
       "50%         246.000000\n",
       "75%         344.000000\n",
       "max      945077.000000\n",
       "Name: num_pages, dtype: float64"
      ]
     },
     "execution_count": 41,
     "metadata": {},
     "output_type": "execute_result"
    }
   ],
   "source": [
    "df.loc[df[\"num_pages\"]!=\"\", \"num_pages\"].astype(np.int64).describe()"
   ]
  },
  {
   "cell_type": "code",
   "execution_count": 42,
   "id": "58d41e34",
   "metadata": {},
   "outputs": [
    {
     "data": {
      "text/plain": [
       "49685    0\n",
       "36980    0\n",
       "52002    0\n",
       "81967    0\n",
       "82778    0\n",
       "Name: num_pages, dtype: int64"
      ]
     },
     "execution_count": 42,
     "metadata": {},
     "output_type": "execute_result"
    }
   ],
   "source": [
    "df.loc[df[\"num_pages\"]!=\"\", \"num_pages\"].astype(np.int64).sort_values().head(5)"
   ]
  },
  {
   "cell_type": "code",
   "execution_count": 43,
   "id": "92cd1062",
   "metadata": {},
   "outputs": [
    {
     "data": {
      "text/html": [
       "<div>\n",
       "<style scoped>\n",
       "    .dataframe tbody tr th:only-of-type {\n",
       "        vertical-align: middle;\n",
       "    }\n",
       "\n",
       "    .dataframe tbody tr th {\n",
       "        vertical-align: top;\n",
       "    }\n",
       "\n",
       "    .dataframe thead th {\n",
       "        text-align: right;\n",
       "    }\n",
       "</style>\n",
       "<table border=\"1\" class=\"dataframe\">\n",
       "  <thead>\n",
       "    <tr style=\"text-align: right;\">\n",
       "      <th></th>\n",
       "      <th>isbn</th>\n",
       "      <th>text_reviews_count</th>\n",
       "      <th>series</th>\n",
       "      <th>country_code</th>\n",
       "      <th>language_code</th>\n",
       "      <th>popular_shelves</th>\n",
       "      <th>asin</th>\n",
       "      <th>is_ebook</th>\n",
       "      <th>average_rating</th>\n",
       "      <th>kindle_asin</th>\n",
       "      <th>...</th>\n",
       "      <th>publication_month</th>\n",
       "      <th>edition_information</th>\n",
       "      <th>publication_year</th>\n",
       "      <th>url</th>\n",
       "      <th>image_url</th>\n",
       "      <th>book_id</th>\n",
       "      <th>ratings_count</th>\n",
       "      <th>work_id</th>\n",
       "      <th>title</th>\n",
       "      <th>title_without_series</th>\n",
       "    </tr>\n",
       "  </thead>\n",
       "  <tbody>\n",
       "    <tr>\n",
       "      <th>49685</th>\n",
       "      <td>0545169771</td>\n",
       "      <td>1</td>\n",
       "      <td>[815645]</td>\n",
       "      <td>US</td>\n",
       "      <td></td>\n",
       "      <td>[{'count': '43', 'name': 'to-read'}, {'count':...</td>\n",
       "      <td></td>\n",
       "      <td>false</td>\n",
       "      <td>3.88</td>\n",
       "      <td>B0040ZNZI0</td>\n",
       "      <td>...</td>\n",
       "      <td>2</td>\n",
       "      <td></td>\n",
       "      <td>2010</td>\n",
       "      <td>https://www.goodreads.com/book/show/7531795-mo...</td>\n",
       "      <td>https://images.gr-assets.com/books/1360057567m...</td>\n",
       "      <td>7531795</td>\n",
       "      <td>0</td>\n",
       "      <td>6904379</td>\n",
       "      <td>Mom, There's A Dinosaur In Beeson's Lake - Audio</td>\n",
       "      <td>Mom, There's A Dinosaur In Beeson's Lake - Audio</td>\n",
       "    </tr>\n",
       "    <tr>\n",
       "      <th>36980</th>\n",
       "      <td>0307755495</td>\n",
       "      <td>12</td>\n",
       "      <td>[532020]</td>\n",
       "      <td>US</td>\n",
       "      <td></td>\n",
       "      <td>[{'count': '22439', 'name': 'to-read'}, {'coun...</td>\n",
       "      <td></td>\n",
       "      <td>true</td>\n",
       "      <td>3.95</td>\n",
       "      <td></td>\n",
       "      <td>...</td>\n",
       "      <td>5</td>\n",
       "      <td></td>\n",
       "      <td>2010</td>\n",
       "      <td>https://www.goodreads.com/book/show/8297770-a-...</td>\n",
       "      <td>https://s.gr-assets.com/assets/nophoto/book/11...</td>\n",
       "      <td>8297770</td>\n",
       "      <td>65</td>\n",
       "      <td>940715</td>\n",
       "      <td>A Year in Provence</td>\n",
       "      <td>A Year in Provence</td>\n",
       "    </tr>\n",
       "    <tr>\n",
       "      <th>52002</th>\n",
       "      <td>0739321161</td>\n",
       "      <td>5</td>\n",
       "      <td>[181943]</td>\n",
       "      <td>US</td>\n",
       "      <td></td>\n",
       "      <td>[{'count': '592', 'name': 'to-read'}, {'count'...</td>\n",
       "      <td></td>\n",
       "      <td>false</td>\n",
       "      <td>3.95</td>\n",
       "      <td>B000FBJAZA</td>\n",
       "      <td>...</td>\n",
       "      <td>9</td>\n",
       "      <td></td>\n",
       "      <td>2006</td>\n",
       "      <td>https://www.goodreads.com/book/show/5312294-mu...</td>\n",
       "      <td>https://images.gr-assets.com/books/1320550066m...</td>\n",
       "      <td>5312294</td>\n",
       "      <td>10</td>\n",
       "      <td>2216846</td>\n",
       "      <td>Mustang Man</td>\n",
       "      <td>Mustang Man</td>\n",
       "    </tr>\n",
       "    <tr>\n",
       "      <th>81967</th>\n",
       "      <td>1610452933</td>\n",
       "      <td>1</td>\n",
       "      <td>[]</td>\n",
       "      <td>US</td>\n",
       "      <td></td>\n",
       "      <td>[{'count': '100758', 'name': 'to-read'}, {'cou...</td>\n",
       "      <td></td>\n",
       "      <td>false</td>\n",
       "      <td>4.18</td>\n",
       "      <td>B006OTFP7E</td>\n",
       "      <td>...</td>\n",
       "      <td>11</td>\n",
       "      <td></td>\n",
       "      <td>2011</td>\n",
       "      <td>https://www.goodreads.com/book/show/12318376-t...</td>\n",
       "      <td>https://images.gr-assets.com/books/1344675049m...</td>\n",
       "      <td>12318376</td>\n",
       "      <td>5</td>\n",
       "      <td>6552198</td>\n",
       "      <td>The Idiot</td>\n",
       "      <td>The Idiot</td>\n",
       "    </tr>\n",
       "    <tr>\n",
       "      <th>82778</th>\n",
       "      <td>1598596136</td>\n",
       "      <td>2</td>\n",
       "      <td>[204694]</td>\n",
       "      <td>US</td>\n",
       "      <td>eng</td>\n",
       "      <td>[{'count': '878', 'name': 'to-read'}, {'count'...</td>\n",
       "      <td></td>\n",
       "      <td>false</td>\n",
       "      <td>3.68</td>\n",
       "      <td>B007FZOXJM</td>\n",
       "      <td>...</td>\n",
       "      <td>4</td>\n",
       "      <td></td>\n",
       "      <td>2009</td>\n",
       "      <td>https://www.goodreads.com/book/show/6504625-fa...</td>\n",
       "      <td>https://s.gr-assets.com/assets/nophoto/book/11...</td>\n",
       "      <td>6504625</td>\n",
       "      <td>12</td>\n",
       "      <td>6292986</td>\n",
       "      <td>Face of Betrayal</td>\n",
       "      <td>Face of Betrayal</td>\n",
       "    </tr>\n",
       "  </tbody>\n",
       "</table>\n",
       "<p>5 rows × 29 columns</p>\n",
       "</div>"
      ],
      "text/plain": [
       "             isbn text_reviews_count    series country_code language_code  \\\n",
       "49685  0545169771                  1  [815645]           US                 \n",
       "36980  0307755495                 12  [532020]           US                 \n",
       "52002  0739321161                  5  [181943]           US                 \n",
       "81967  1610452933                  1        []           US                 \n",
       "82778  1598596136                  2  [204694]           US           eng   \n",
       "\n",
       "                                         popular_shelves asin is_ebook  \\\n",
       "49685  [{'count': '43', 'name': 'to-read'}, {'count':...         false   \n",
       "36980  [{'count': '22439', 'name': 'to-read'}, {'coun...          true   \n",
       "52002  [{'count': '592', 'name': 'to-read'}, {'count'...         false   \n",
       "81967  [{'count': '100758', 'name': 'to-read'}, {'cou...         false   \n",
       "82778  [{'count': '878', 'name': 'to-read'}, {'count'...         false   \n",
       "\n",
       "      average_rating kindle_asin  ... publication_month edition_information  \\\n",
       "49685           3.88  B0040ZNZI0  ...                 2                       \n",
       "36980           3.95              ...                 5                       \n",
       "52002           3.95  B000FBJAZA  ...                 9                       \n",
       "81967           4.18  B006OTFP7E  ...                11                       \n",
       "82778           3.68  B007FZOXJM  ...                 4                       \n",
       "\n",
       "      publication_year                                                url  \\\n",
       "49685             2010  https://www.goodreads.com/book/show/7531795-mo...   \n",
       "36980             2010  https://www.goodreads.com/book/show/8297770-a-...   \n",
       "52002             2006  https://www.goodreads.com/book/show/5312294-mu...   \n",
       "81967             2011  https://www.goodreads.com/book/show/12318376-t...   \n",
       "82778             2009  https://www.goodreads.com/book/show/6504625-fa...   \n",
       "\n",
       "                                               image_url   book_id  \\\n",
       "49685  https://images.gr-assets.com/books/1360057567m...   7531795   \n",
       "36980  https://s.gr-assets.com/assets/nophoto/book/11...   8297770   \n",
       "52002  https://images.gr-assets.com/books/1320550066m...   5312294   \n",
       "81967  https://images.gr-assets.com/books/1344675049m...  12318376   \n",
       "82778  https://s.gr-assets.com/assets/nophoto/book/11...   6504625   \n",
       "\n",
       "      ratings_count  work_id  \\\n",
       "49685             0  6904379   \n",
       "36980            65   940715   \n",
       "52002            10  2216846   \n",
       "81967             5  6552198   \n",
       "82778            12  6292986   \n",
       "\n",
       "                                                  title  \\\n",
       "49685  Mom, There's A Dinosaur In Beeson's Lake - Audio   \n",
       "36980                                A Year in Provence   \n",
       "52002                                       Mustang Man   \n",
       "81967                                         The Idiot   \n",
       "82778                                  Face of Betrayal   \n",
       "\n",
       "                                   title_without_series  \n",
       "49685  Mom, There's A Dinosaur In Beeson's Lake - Audio  \n",
       "36980                                A Year in Provence  \n",
       "52002                                       Mustang Man  \n",
       "81967                                         The Idiot  \n",
       "82778                                  Face of Betrayal  \n",
       "\n",
       "[5 rows x 29 columns]"
      ]
     },
     "execution_count": 43,
     "metadata": {},
     "output_type": "execute_result"
    }
   ],
   "source": [
    "df.loc[[49685, 36980, 52002, 81967, 82778]]"
   ]
  },
  {
   "cell_type": "code",
   "execution_count": 44,
   "id": "5e4daec4",
   "metadata": {},
   "outputs": [
    {
     "data": {
      "text/plain": [
       "array(['9', '10', '', '7', '3', '5', '4', '6', '11', '12', '8', '1', '2'],\n",
       "      dtype=object)"
      ]
     },
     "execution_count": 44,
     "metadata": {},
     "output_type": "execute_result"
    }
   ],
   "source": [
    "df[\"publication_month\"].unique()"
   ]
  },
  {
   "cell_type": "code",
   "execution_count": 45,
   "id": "4d585d17",
   "metadata": {},
   "outputs": [
    {
     "data": {
      "text/plain": [
       "array(['1', '', '14', '13', '3', '6', '10', '25', '8', '28', '31', '22',\n",
       "       '9', '4', '20', '26', '2', '24', '23', '16', '7', '30', '12', '17',\n",
       "       '11', '18', '15', '21', '27', '29', '19', '5'], dtype=object)"
      ]
     },
     "execution_count": 45,
     "metadata": {},
     "output_type": "execute_result"
    }
   ],
   "source": [
    "df[\"publication_day\"].unique()"
   ]
  },
  {
   "cell_type": "code",
   "execution_count": 46,
   "id": "dae08a0b",
   "metadata": {},
   "outputs": [
    {
     "data": {
      "text/plain": [
       "38347                          Gli Adelphi  #355\n",
       "63334                                      First\n",
       "7736                                       First\n",
       "63756    Classic Edition (Original 1937 Edition)\n",
       "92195         Silhouette Romantic Suspense #1586\n",
       "Name: edition_information, dtype: object"
      ]
     },
     "execution_count": 46,
     "metadata": {},
     "output_type": "execute_result"
    }
   ],
   "source": [
    "df.loc[df[\"edition_information\"]!=\"\", \"edition_information\"].sample(5)"
   ]
  },
  {
   "cell_type": "code",
   "execution_count": 47,
   "id": "ebaef7b0",
   "metadata": {},
   "outputs": [
    {
     "data": {
      "text/plain": [
       "count    74553.000000\n",
       "mean      2007.530817\n",
       "std        281.158530\n",
       "min          0.000000\n",
       "25%       2004.000000\n",
       "50%       2011.000000\n",
       "75%       2014.000000\n",
       "max      65535.000000\n",
       "Name: publication_year, dtype: float64"
      ]
     },
     "execution_count": 47,
     "metadata": {},
     "output_type": "execute_result"
    }
   ],
   "source": [
    "df.loc[df[\"publication_year\"]!=\"\", \"publication_year\"].astype(np.int64).describe()"
   ]
  },
  {
   "cell_type": "code",
   "execution_count": 48,
   "id": "2802cfd8",
   "metadata": {},
   "outputs": [
    {
     "data": {
      "text/plain": [
       "89562     0\n",
       "8465     10\n",
       "89458    12\n",
       "34083    12\n",
       "28048    12\n",
       "Name: publication_year, dtype: int64"
      ]
     },
     "execution_count": 48,
     "metadata": {},
     "output_type": "execute_result"
    }
   ],
   "source": [
    "df.loc[df[\"publication_year\"]!=\"\", \"publication_year\"].astype(np.int64).sort_values().head()"
   ]
  },
  {
   "cell_type": "code",
   "execution_count": 49,
   "id": "8b2d80c3",
   "metadata": {},
   "outputs": [
    {
     "data": {
      "text/html": [
       "<div>\n",
       "<style scoped>\n",
       "    .dataframe tbody tr th:only-of-type {\n",
       "        vertical-align: middle;\n",
       "    }\n",
       "\n",
       "    .dataframe tbody tr th {\n",
       "        vertical-align: top;\n",
       "    }\n",
       "\n",
       "    .dataframe thead th {\n",
       "        text-align: right;\n",
       "    }\n",
       "</style>\n",
       "<table border=\"1\" class=\"dataframe\">\n",
       "  <thead>\n",
       "    <tr style=\"text-align: right;\">\n",
       "      <th></th>\n",
       "      <th>isbn</th>\n",
       "      <th>text_reviews_count</th>\n",
       "      <th>series</th>\n",
       "      <th>country_code</th>\n",
       "      <th>language_code</th>\n",
       "      <th>popular_shelves</th>\n",
       "      <th>asin</th>\n",
       "      <th>is_ebook</th>\n",
       "      <th>average_rating</th>\n",
       "      <th>kindle_asin</th>\n",
       "      <th>...</th>\n",
       "      <th>publication_month</th>\n",
       "      <th>edition_information</th>\n",
       "      <th>publication_year</th>\n",
       "      <th>url</th>\n",
       "      <th>image_url</th>\n",
       "      <th>book_id</th>\n",
       "      <th>ratings_count</th>\n",
       "      <th>work_id</th>\n",
       "      <th>title</th>\n",
       "      <th>title_without_series</th>\n",
       "    </tr>\n",
       "  </thead>\n",
       "  <tbody>\n",
       "    <tr>\n",
       "      <th>89562</th>\n",
       "      <td></td>\n",
       "      <td>2</td>\n",
       "      <td>[]</td>\n",
       "      <td>US</td>\n",
       "      <td></td>\n",
       "      <td>[{'count': '18', 'name': 'to-read'}, {'count':...</td>\n",
       "      <td></td>\n",
       "      <td>false</td>\n",
       "      <td>3.79</td>\n",
       "      <td></td>\n",
       "      <td>...</td>\n",
       "      <td></td>\n",
       "      <td></td>\n",
       "      <td>0</td>\n",
       "      <td>https://www.goodreads.com/book/show/1947739.al...</td>\n",
       "      <td>https://s.gr-assets.com/assets/nophoto/book/11...</td>\n",
       "      <td>1947739</td>\n",
       "      <td>19</td>\n",
       "      <td>1950555</td>\n",
       "      <td>alfred hitchcock's shrouds and pockets 29 shor...</td>\n",
       "      <td>alfred hitchcock's shrouds and pockets 29 shor...</td>\n",
       "    </tr>\n",
       "    <tr>\n",
       "      <th>8465</th>\n",
       "      <td></td>\n",
       "      <td>1</td>\n",
       "      <td>[]</td>\n",
       "      <td>US</td>\n",
       "      <td></td>\n",
       "      <td>[{'count': '1', 'name': 'to-read'}]</td>\n",
       "      <td></td>\n",
       "      <td>true</td>\n",
       "      <td>5.00</td>\n",
       "      <td></td>\n",
       "      <td>...</td>\n",
       "      <td>10</td>\n",
       "      <td></td>\n",
       "      <td>10</td>\n",
       "      <td>https://www.goodreads.com/book/show/20518358-n...</td>\n",
       "      <td>https://images.gr-assets.com/books/1389537603m...</td>\n",
       "      <td>20518358</td>\n",
       "      <td>2</td>\n",
       "      <td>36379662</td>\n",
       "      <td>night song of the last train: a glasgow story</td>\n",
       "      <td>night song of the last train: a glasgow story</td>\n",
       "    </tr>\n",
       "    <tr>\n",
       "      <th>89458</th>\n",
       "      <td></td>\n",
       "      <td>10</td>\n",
       "      <td>[612606]</td>\n",
       "      <td>US</td>\n",
       "      <td>eng</td>\n",
       "      <td>[{'count': '132', 'name': 'to-read'}, {'count'...</td>\n",
       "      <td></td>\n",
       "      <td>true</td>\n",
       "      <td>3.48</td>\n",
       "      <td></td>\n",
       "      <td>...</td>\n",
       "      <td>12</td>\n",
       "      <td>eBook</td>\n",
       "      <td>12</td>\n",
       "      <td>https://www.goodreads.com/book/show/17187684-m...</td>\n",
       "      <td>https://images.gr-assets.com/books/1356744245m...</td>\n",
       "      <td>17187684</td>\n",
       "      <td>12</td>\n",
       "      <td>23638037</td>\n",
       "      <td>Mulogo's Treatise on Wizardry - A Wizard's Gui...</td>\n",
       "      <td>Mulogo's Treatise on Wizardry - A Wizard's Gui...</td>\n",
       "    </tr>\n",
       "    <tr>\n",
       "      <th>34083</th>\n",
       "      <td></td>\n",
       "      <td>9</td>\n",
       "      <td>[]</td>\n",
       "      <td>US</td>\n",
       "      <td>en-GB</td>\n",
       "      <td>[{'count': '39', 'name': 'to-read'}, {'count':...</td>\n",
       "      <td>B0089B2QP4</td>\n",
       "      <td>true</td>\n",
       "      <td>4.07</td>\n",
       "      <td>B0089B2QP4</td>\n",
       "      <td>...</td>\n",
       "      <td>6</td>\n",
       "      <td>1</td>\n",
       "      <td>12</td>\n",
       "      <td>https://www.goodreads.com/book/show/15702377-b...</td>\n",
       "      <td>https://images.gr-assets.com/books/1375092118m...</td>\n",
       "      <td>15702377</td>\n",
       "      <td>29</td>\n",
       "      <td>21362753</td>\n",
       "      <td>Beatitudes: How to Live a Blessed Life</td>\n",
       "      <td>Beatitudes: How to Live a Blessed Life</td>\n",
       "    </tr>\n",
       "    <tr>\n",
       "      <th>28048</th>\n",
       "      <td></td>\n",
       "      <td>5</td>\n",
       "      <td>[]</td>\n",
       "      <td>US</td>\n",
       "      <td>eng</td>\n",
       "      <td>[{'count': '69', 'name': 'to-read'}, {'count':...</td>\n",
       "      <td></td>\n",
       "      <td>true</td>\n",
       "      <td>4.05</td>\n",
       "      <td></td>\n",
       "      <td>...</td>\n",
       "      <td>10</td>\n",
       "      <td></td>\n",
       "      <td>12</td>\n",
       "      <td>https://www.goodreads.com/book/show/16055111-h...</td>\n",
       "      <td>https://images.gr-assets.com/books/1349017905m...</td>\n",
       "      <td>16055111</td>\n",
       "      <td>13</td>\n",
       "      <td>21840363</td>\n",
       "      <td>Halloween Heat II Menage</td>\n",
       "      <td>Halloween Heat II Menage</td>\n",
       "    </tr>\n",
       "  </tbody>\n",
       "</table>\n",
       "<p>5 rows × 29 columns</p>\n",
       "</div>"
      ],
      "text/plain": [
       "      isbn text_reviews_count    series country_code language_code  \\\n",
       "89562                       2        []           US                 \n",
       "8465                        1        []           US                 \n",
       "89458                      10  [612606]           US           eng   \n",
       "34083                       9        []           US         en-GB   \n",
       "28048                       5        []           US           eng   \n",
       "\n",
       "                                         popular_shelves        asin is_ebook  \\\n",
       "89562  [{'count': '18', 'name': 'to-read'}, {'count':...                false   \n",
       "8465                 [{'count': '1', 'name': 'to-read'}]                 true   \n",
       "89458  [{'count': '132', 'name': 'to-read'}, {'count'...                 true   \n",
       "34083  [{'count': '39', 'name': 'to-read'}, {'count':...  B0089B2QP4     true   \n",
       "28048  [{'count': '69', 'name': 'to-read'}, {'count':...                 true   \n",
       "\n",
       "      average_rating kindle_asin  ... publication_month edition_information  \\\n",
       "89562           3.79              ...                                         \n",
       "8465            5.00              ...                10                       \n",
       "89458           3.48              ...                12               eBook   \n",
       "34083           4.07  B0089B2QP4  ...                 6                   1   \n",
       "28048           4.05              ...                10                       \n",
       "\n",
       "      publication_year                                                url  \\\n",
       "89562                0  https://www.goodreads.com/book/show/1947739.al...   \n",
       "8465                10  https://www.goodreads.com/book/show/20518358-n...   \n",
       "89458               12  https://www.goodreads.com/book/show/17187684-m...   \n",
       "34083               12  https://www.goodreads.com/book/show/15702377-b...   \n",
       "28048               12  https://www.goodreads.com/book/show/16055111-h...   \n",
       "\n",
       "                                               image_url   book_id  \\\n",
       "89562  https://s.gr-assets.com/assets/nophoto/book/11...   1947739   \n",
       "8465   https://images.gr-assets.com/books/1389537603m...  20518358   \n",
       "89458  https://images.gr-assets.com/books/1356744245m...  17187684   \n",
       "34083  https://images.gr-assets.com/books/1375092118m...  15702377   \n",
       "28048  https://images.gr-assets.com/books/1349017905m...  16055111   \n",
       "\n",
       "      ratings_count   work_id  \\\n",
       "89562            19   1950555   \n",
       "8465              2  36379662   \n",
       "89458            12  23638037   \n",
       "34083            29  21362753   \n",
       "28048            13  21840363   \n",
       "\n",
       "                                                   title  \\\n",
       "89562  alfred hitchcock's shrouds and pockets 29 shor...   \n",
       "8465       night song of the last train: a glasgow story   \n",
       "89458  Mulogo's Treatise on Wizardry - A Wizard's Gui...   \n",
       "34083             Beatitudes: How to Live a Blessed Life   \n",
       "28048                           Halloween Heat II Menage   \n",
       "\n",
       "                                    title_without_series  \n",
       "89562  alfred hitchcock's shrouds and pockets 29 shor...  \n",
       "8465       night song of the last train: a glasgow story  \n",
       "89458  Mulogo's Treatise on Wizardry - A Wizard's Gui...  \n",
       "34083             Beatitudes: How to Live a Blessed Life  \n",
       "28048                           Halloween Heat II Menage  \n",
       "\n",
       "[5 rows x 29 columns]"
      ]
     },
     "execution_count": 49,
     "metadata": {},
     "output_type": "execute_result"
    }
   ],
   "source": [
    "df.loc[[89562, 8465, 89458, 34083, 28048]]"
   ]
  },
  {
   "cell_type": "code",
   "execution_count": 50,
   "id": "7d105b5a",
   "metadata": {},
   "outputs": [
    {
     "data": {
      "text/plain": [
       "85035    65535\n",
       "67328    21017\n",
       "25109    20122\n",
       "23531    20112\n",
       "83963    20112\n",
       "Name: publication_year, dtype: int64"
      ]
     },
     "execution_count": 50,
     "metadata": {},
     "output_type": "execute_result"
    }
   ],
   "source": [
    "df.loc[df[\"publication_year\"]!=\"\", \"publication_year\"].astype(np.int64).sort_values(ascending=False).head()"
   ]
  },
  {
   "cell_type": "code",
   "execution_count": 51,
   "id": "64e53e8c",
   "metadata": {},
   "outputs": [
    {
     "data": {
      "text/html": [
       "<div>\n",
       "<style scoped>\n",
       "    .dataframe tbody tr th:only-of-type {\n",
       "        vertical-align: middle;\n",
       "    }\n",
       "\n",
       "    .dataframe tbody tr th {\n",
       "        vertical-align: top;\n",
       "    }\n",
       "\n",
       "    .dataframe thead th {\n",
       "        text-align: right;\n",
       "    }\n",
       "</style>\n",
       "<table border=\"1\" class=\"dataframe\">\n",
       "  <thead>\n",
       "    <tr style=\"text-align: right;\">\n",
       "      <th></th>\n",
       "      <th>isbn</th>\n",
       "      <th>text_reviews_count</th>\n",
       "      <th>series</th>\n",
       "      <th>country_code</th>\n",
       "      <th>language_code</th>\n",
       "      <th>popular_shelves</th>\n",
       "      <th>asin</th>\n",
       "      <th>is_ebook</th>\n",
       "      <th>average_rating</th>\n",
       "      <th>kindle_asin</th>\n",
       "      <th>...</th>\n",
       "      <th>publication_month</th>\n",
       "      <th>edition_information</th>\n",
       "      <th>publication_year</th>\n",
       "      <th>url</th>\n",
       "      <th>image_url</th>\n",
       "      <th>book_id</th>\n",
       "      <th>ratings_count</th>\n",
       "      <th>work_id</th>\n",
       "      <th>title</th>\n",
       "      <th>title_without_series</th>\n",
       "    </tr>\n",
       "  </thead>\n",
       "  <tbody>\n",
       "    <tr>\n",
       "      <th>85035</th>\n",
       "      <td>1500962074</td>\n",
       "      <td>3</td>\n",
       "      <td>[]</td>\n",
       "      <td>US</td>\n",
       "      <td>eng</td>\n",
       "      <td>[{'count': '238', 'name': 'to-read'}, {'count'...</td>\n",
       "      <td></td>\n",
       "      <td>false</td>\n",
       "      <td>4.33</td>\n",
       "      <td>B00OQKUALE</td>\n",
       "      <td>...</td>\n",
       "      <td>10</td>\n",
       "      <td>1st</td>\n",
       "      <td>65535</td>\n",
       "      <td>https://www.goodreads.com/book/show/23622693-n...</td>\n",
       "      <td>https://images.gr-assets.com/books/1417069505m...</td>\n",
       "      <td>23622693</td>\n",
       "      <td>3</td>\n",
       "      <td>43228172</td>\n",
       "      <td>Nobody's Here But Us</td>\n",
       "      <td>Nobody's Here But Us</td>\n",
       "    </tr>\n",
       "    <tr>\n",
       "      <th>67328</th>\n",
       "      <td>9025873014</td>\n",
       "      <td>1</td>\n",
       "      <td>[]</td>\n",
       "      <td>US</td>\n",
       "      <td>nl</td>\n",
       "      <td>[{'count': '17', 'name': 'to-read'}, {'count':...</td>\n",
       "      <td></td>\n",
       "      <td>false</td>\n",
       "      <td>3.57</td>\n",
       "      <td></td>\n",
       "      <td>...</td>\n",
       "      <td>9</td>\n",
       "      <td></td>\n",
       "      <td>21017</td>\n",
       "      <td>https://www.goodreads.com/book/show/36412964-i...</td>\n",
       "      <td>https://images.gr-assets.com/books/1508008537m...</td>\n",
       "      <td>36412964</td>\n",
       "      <td>2</td>\n",
       "      <td>57660890</td>\n",
       "      <td>Imagine</td>\n",
       "      <td>Imagine</td>\n",
       "    </tr>\n",
       "    <tr>\n",
       "      <th>25109</th>\n",
       "      <td></td>\n",
       "      <td>1</td>\n",
       "      <td>[]</td>\n",
       "      <td>US</td>\n",
       "      <td>rus</td>\n",
       "      <td>[{'count': '1', 'name': 'sunday-read'}]</td>\n",
       "      <td></td>\n",
       "      <td>false</td>\n",
       "      <td>3.60</td>\n",
       "      <td></td>\n",
       "      <td>...</td>\n",
       "      <td></td>\n",
       "      <td></td>\n",
       "      <td>20122</td>\n",
       "      <td>https://www.goodreads.com/book/show/17288842</td>\n",
       "      <td>https://images.gr-assets.com/books/1359291670m...</td>\n",
       "      <td>17288842</td>\n",
       "      <td>5</td>\n",
       "      <td>23910042</td>\n",
       "      <td>Разделить на сто</td>\n",
       "      <td>Разделить на сто</td>\n",
       "    </tr>\n",
       "    <tr>\n",
       "      <th>23531</th>\n",
       "      <td></td>\n",
       "      <td>1</td>\n",
       "      <td>[]</td>\n",
       "      <td>US</td>\n",
       "      <td>eng</td>\n",
       "      <td>[{'count': '270', 'name': 'to-read'}, {'count'...</td>\n",
       "      <td>B008G1BT78</td>\n",
       "      <td>true</td>\n",
       "      <td>3.65</td>\n",
       "      <td>B008G1BT78</td>\n",
       "      <td>...</td>\n",
       "      <td>6</td>\n",
       "      <td>Kindle Edition</td>\n",
       "      <td>20112</td>\n",
       "      <td>https://www.goodreads.com/book/show/15729997-t...</td>\n",
       "      <td>https://images.gr-assets.com/books/1341086921m...</td>\n",
       "      <td>15729997</td>\n",
       "      <td>1</td>\n",
       "      <td>43249310</td>\n",
       "      <td>The Fractured Hues of White Light</td>\n",
       "      <td>The Fractured Hues of White Light</td>\n",
       "    </tr>\n",
       "    <tr>\n",
       "      <th>83963</th>\n",
       "      <td></td>\n",
       "      <td>3</td>\n",
       "      <td>[]</td>\n",
       "      <td>US</td>\n",
       "      <td>eng</td>\n",
       "      <td>[{'count': '1', 'name': 'did-not-finish'}, {'c...</td>\n",
       "      <td>B0089MSVKW</td>\n",
       "      <td>true</td>\n",
       "      <td>4.50</td>\n",
       "      <td>B0089MSVKW</td>\n",
       "      <td>...</td>\n",
       "      <td>6</td>\n",
       "      <td></td>\n",
       "      <td>20112</td>\n",
       "      <td>https://www.goodreads.com/book/show/15739299-p...</td>\n",
       "      <td>https://images.gr-assets.com/books/1341602006m...</td>\n",
       "      <td>15739299</td>\n",
       "      <td>2</td>\n",
       "      <td>21424560</td>\n",
       "      <td>Presage</td>\n",
       "      <td>Presage</td>\n",
       "    </tr>\n",
       "  </tbody>\n",
       "</table>\n",
       "<p>5 rows × 29 columns</p>\n",
       "</div>"
      ],
      "text/plain": [
       "             isbn text_reviews_count series country_code language_code  \\\n",
       "85035  1500962074                  3     []           US           eng   \n",
       "67328  9025873014                  1     []           US            nl   \n",
       "25109                              1     []           US           rus   \n",
       "23531                              1     []           US           eng   \n",
       "83963                              3     []           US           eng   \n",
       "\n",
       "                                         popular_shelves        asin is_ebook  \\\n",
       "85035  [{'count': '238', 'name': 'to-read'}, {'count'...                false   \n",
       "67328  [{'count': '17', 'name': 'to-read'}, {'count':...                false   \n",
       "25109            [{'count': '1', 'name': 'sunday-read'}]                false   \n",
       "23531  [{'count': '270', 'name': 'to-read'}, {'count'...  B008G1BT78     true   \n",
       "83963  [{'count': '1', 'name': 'did-not-finish'}, {'c...  B0089MSVKW     true   \n",
       "\n",
       "      average_rating kindle_asin  ... publication_month edition_information  \\\n",
       "85035           4.33  B00OQKUALE  ...                10                 1st   \n",
       "67328           3.57              ...                 9                       \n",
       "25109           3.60              ...                                         \n",
       "23531           3.65  B008G1BT78  ...                 6      Kindle Edition   \n",
       "83963           4.50  B0089MSVKW  ...                 6                       \n",
       "\n",
       "      publication_year                                                url  \\\n",
       "85035            65535  https://www.goodreads.com/book/show/23622693-n...   \n",
       "67328            21017  https://www.goodreads.com/book/show/36412964-i...   \n",
       "25109            20122       https://www.goodreads.com/book/show/17288842   \n",
       "23531            20112  https://www.goodreads.com/book/show/15729997-t...   \n",
       "83963            20112  https://www.goodreads.com/book/show/15739299-p...   \n",
       "\n",
       "                                               image_url   book_id  \\\n",
       "85035  https://images.gr-assets.com/books/1417069505m...  23622693   \n",
       "67328  https://images.gr-assets.com/books/1508008537m...  36412964   \n",
       "25109  https://images.gr-assets.com/books/1359291670m...  17288842   \n",
       "23531  https://images.gr-assets.com/books/1341086921m...  15729997   \n",
       "83963  https://images.gr-assets.com/books/1341602006m...  15739299   \n",
       "\n",
       "      ratings_count   work_id                              title  \\\n",
       "85035             3  43228172               Nobody's Here But Us   \n",
       "67328             2  57660890                            Imagine   \n",
       "25109             5  23910042                   Разделить на сто   \n",
       "23531             1  43249310  The Fractured Hues of White Light   \n",
       "83963             2  21424560                            Presage   \n",
       "\n",
       "                    title_without_series  \n",
       "85035               Nobody's Here But Us  \n",
       "67328                            Imagine  \n",
       "25109                   Разделить на сто  \n",
       "23531  The Fractured Hues of White Light  \n",
       "83963                            Presage  \n",
       "\n",
       "[5 rows x 29 columns]"
      ]
     },
     "execution_count": 51,
     "metadata": {},
     "output_type": "execute_result"
    }
   ],
   "source": [
    "df.loc[[85035, 67328, 25109, 23531, 83963]]"
   ]
  },
  {
   "cell_type": "code",
   "execution_count": 52,
   "id": "530de13f",
   "metadata": {},
   "outputs": [
    {
     "data": {
      "text/plain": [
       "'https://www.goodreads.com/book/show/15729997-the-fractured-hues-of-white-light'"
      ]
     },
     "execution_count": 52,
     "metadata": {},
     "output_type": "execute_result"
    }
   ],
   "source": [
    "df.loc[23531, \"url\"]"
   ]
  },
  {
   "cell_type": "markdown",
   "id": "af753670",
   "metadata": {},
   "source": [
    "Comprobando las fechas, aunque las de años tempranos resultan extrañas, así están indicadas en la web. sin embargo, las de años altos, observamos algunas diferencias con la web, ya sea porque en el momento de captura la información de la web no era correcta (como sucede actualmente con `23531`) o errores al guardar el dato."
   ]
  },
  {
   "cell_type": "code",
   "execution_count": 53,
   "id": "c58c028d",
   "metadata": {},
   "outputs": [
    {
     "data": {
      "text/plain": [
       "np.int64(0)"
      ]
     },
     "execution_count": 53,
     "metadata": {},
     "output_type": "execute_result"
    }
   ],
   "source": [
    "((df[\"url\"]!=\"\") & (df[\"link\"]!=\"\") & (df[\"url\"]!=df[\"link\"])).sum()"
   ]
  },
  {
   "cell_type": "code",
   "execution_count": 54,
   "id": "faa17024",
   "metadata": {},
   "outputs": [
    {
     "data": {
      "text/plain": [
       "url     19\n",
       "link    19\n",
       "dtype: int64"
      ]
     },
     "execution_count": 54,
     "metadata": {},
     "output_type": "execute_result"
    }
   ],
   "source": [
    "(df[[\"url\", \"link\"]] == \"\").sum()"
   ]
  },
  {
   "cell_type": "markdown",
   "id": "2d77a8c5",
   "metadata": {},
   "source": [
    "Ambas columnas `link` e `url` son exactamente iguales."
   ]
  },
  {
   "cell_type": "code",
   "execution_count": 55,
   "id": "8e27e75c",
   "metadata": {},
   "outputs": [
    {
     "data": {
      "text/plain": [
       "3392    https://images.gr-assets.com/books/1344865442m...\n",
       "Name: image_url, dtype: object"
      ]
     },
     "execution_count": 55,
     "metadata": {},
     "output_type": "execute_result"
    }
   ],
   "source": [
    "df[\"image_url\"].sample()"
   ]
  },
  {
   "cell_type": "markdown",
   "id": "1dbdb527",
   "metadata": {},
   "source": [
    "Liks desactualizados (`Not Found`)"
   ]
  },
  {
   "cell_type": "code",
   "execution_count": 56,
   "id": "96d2ed2a",
   "metadata": {},
   "outputs": [
    {
     "data": {
      "text/plain": [
       "np.int64(0)"
      ]
     },
     "execution_count": 56,
     "metadata": {},
     "output_type": "execute_result"
    }
   ],
   "source": [
    "df[\"book_id\"].astype(np.int64).duplicated().sum()"
   ]
  },
  {
   "cell_type": "code",
   "execution_count": 57,
   "id": "5768f519",
   "metadata": {},
   "outputs": [
    {
     "data": {
      "text/plain": [
       "np.int64(12171)"
      ]
     },
     "execution_count": 57,
     "metadata": {},
     "output_type": "execute_result"
    }
   ],
   "source": [
    "df.loc[df[\"work_id\"]!=\"\", \"work_id\"].astype(np.int64).duplicated(keep=False).sum()"
   ]
  },
  {
   "cell_type": "code",
   "execution_count": 58,
   "id": "33253e63",
   "metadata": {},
   "outputs": [
    {
     "data": {
      "text/html": [
       "<div>\n",
       "<style scoped>\n",
       "    .dataframe tbody tr th:only-of-type {\n",
       "        vertical-align: middle;\n",
       "    }\n",
       "\n",
       "    .dataframe tbody tr th {\n",
       "        vertical-align: top;\n",
       "    }\n",
       "\n",
       "    .dataframe thead th {\n",
       "        text-align: right;\n",
       "    }\n",
       "</style>\n",
       "<table border=\"1\" class=\"dataframe\">\n",
       "  <thead>\n",
       "    <tr style=\"text-align: right;\">\n",
       "      <th></th>\n",
       "      <th>isbn</th>\n",
       "      <th>text_reviews_count</th>\n",
       "      <th>series</th>\n",
       "      <th>country_code</th>\n",
       "      <th>language_code</th>\n",
       "      <th>popular_shelves</th>\n",
       "      <th>asin</th>\n",
       "      <th>is_ebook</th>\n",
       "      <th>average_rating</th>\n",
       "      <th>kindle_asin</th>\n",
       "      <th>...</th>\n",
       "      <th>publication_month</th>\n",
       "      <th>edition_information</th>\n",
       "      <th>publication_year</th>\n",
       "      <th>url</th>\n",
       "      <th>image_url</th>\n",
       "      <th>book_id</th>\n",
       "      <th>ratings_count</th>\n",
       "      <th>work_id</th>\n",
       "      <th>title</th>\n",
       "      <th>title_without_series</th>\n",
       "    </tr>\n",
       "  </thead>\n",
       "  <tbody>\n",
       "    <tr>\n",
       "      <th>28164</th>\n",
       "      <td>0330507419</td>\n",
       "      <td>2</td>\n",
       "      <td>[629650]</td>\n",
       "      <td>US</td>\n",
       "      <td>en-US</td>\n",
       "      <td>[{'count': '3688', 'name': 'to-read'}, {'count...</td>\n",
       "      <td></td>\n",
       "      <td>false</td>\n",
       "      <td>4.47</td>\n",
       "      <td></td>\n",
       "      <td>...</td>\n",
       "      <td>3</td>\n",
       "      <td>Special 10th Anniversary Edition</td>\n",
       "      <td>2009</td>\n",
       "      <td>https://www.goodreads.com/book/show/7947324-th...</td>\n",
       "      <td>https://images.gr-assets.com/books/1353994921m...</td>\n",
       "      <td>7947324</td>\n",
       "      <td>7</td>\n",
       "      <td>999507</td>\n",
       "      <td>The Gruffalo</td>\n",
       "      <td>The Gruffalo</td>\n",
       "    </tr>\n",
       "    <tr>\n",
       "      <th>33583</th>\n",
       "      <td>0142403873</td>\n",
       "      <td>31</td>\n",
       "      <td>[629650]</td>\n",
       "      <td>US</td>\n",
       "      <td>en-US</td>\n",
       "      <td>[{'count': '3688', 'name': 'to-read'}, {'count...</td>\n",
       "      <td></td>\n",
       "      <td>false</td>\n",
       "      <td>4.47</td>\n",
       "      <td></td>\n",
       "      <td>...</td>\n",
       "      <td>3</td>\n",
       "      <td></td>\n",
       "      <td>2006</td>\n",
       "      <td>https://www.goodreads.com/book/show/1066190.Th...</td>\n",
       "      <td>https://images.gr-assets.com/books/1309287212m...</td>\n",
       "      <td>1066190</td>\n",
       "      <td>516</td>\n",
       "      <td>999507</td>\n",
       "      <td>The Gruffalo</td>\n",
       "      <td>The Gruffalo</td>\n",
       "    </tr>\n",
       "    <tr>\n",
       "      <th>63348</th>\n",
       "      <td></td>\n",
       "      <td>3</td>\n",
       "      <td>[629650]</td>\n",
       "      <td>US</td>\n",
       "      <td>nl</td>\n",
       "      <td>[{'count': '3688', 'name': 'to-read'}, {'count...</td>\n",
       "      <td></td>\n",
       "      <td>false</td>\n",
       "      <td>4.47</td>\n",
       "      <td></td>\n",
       "      <td>...</td>\n",
       "      <td>4</td>\n",
       "      <td></td>\n",
       "      <td>2017</td>\n",
       "      <td>https://www.goodreads.com/book/show/34835662-d...</td>\n",
       "      <td>https://images.gr-assets.com/books/1491857519m...</td>\n",
       "      <td>34835662</td>\n",
       "      <td>12</td>\n",
       "      <td>999507</td>\n",
       "      <td>De Gruffalo</td>\n",
       "      <td>De Gruffalo</td>\n",
       "    </tr>\n",
       "    <tr>\n",
       "      <th>63612</th>\n",
       "      <td>0064400808</td>\n",
       "      <td>169</td>\n",
       "      <td>[242797]</td>\n",
       "      <td>US</td>\n",
       "      <td>eng</td>\n",
       "      <td>[{'count': '2743', 'name': 'to-read'}, {'count...</td>\n",
       "      <td></td>\n",
       "      <td>false</td>\n",
       "      <td>4.08</td>\n",
       "      <td></td>\n",
       "      <td>...</td>\n",
       "      <td>10</td>\n",
       "      <td></td>\n",
       "      <td>1976</td>\n",
       "      <td>https://www.goodreads.com/book/show/278223.On_...</td>\n",
       "      <td>https://images.gr-assets.com/books/1310688796m...</td>\n",
       "      <td>278223</td>\n",
       "      <td>7813</td>\n",
       "      <td>999046</td>\n",
       "      <td>On the Way Home: The Diary of a Trip from Sout...</td>\n",
       "      <td>On the Way Home: The Diary of a Trip from Sout...</td>\n",
       "    </tr>\n",
       "  </tbody>\n",
       "</table>\n",
       "<p>4 rows × 29 columns</p>\n",
       "</div>"
      ],
      "text/plain": [
       "             isbn text_reviews_count    series country_code language_code  \\\n",
       "28164  0330507419                  2  [629650]           US         en-US   \n",
       "33583  0142403873                 31  [629650]           US         en-US   \n",
       "63348                              3  [629650]           US            nl   \n",
       "63612  0064400808                169  [242797]           US           eng   \n",
       "\n",
       "                                         popular_shelves asin is_ebook  \\\n",
       "28164  [{'count': '3688', 'name': 'to-read'}, {'count...         false   \n",
       "33583  [{'count': '3688', 'name': 'to-read'}, {'count...         false   \n",
       "63348  [{'count': '3688', 'name': 'to-read'}, {'count...         false   \n",
       "63612  [{'count': '2743', 'name': 'to-read'}, {'count...         false   \n",
       "\n",
       "      average_rating kindle_asin  ... publication_month  \\\n",
       "28164           4.47              ...                 3   \n",
       "33583           4.47              ...                 3   \n",
       "63348           4.47              ...                 4   \n",
       "63612           4.08              ...                10   \n",
       "\n",
       "                    edition_information publication_year  \\\n",
       "28164  Special 10th Anniversary Edition             2009   \n",
       "33583                                               2006   \n",
       "63348                                               2017   \n",
       "63612                                               1976   \n",
       "\n",
       "                                                     url  \\\n",
       "28164  https://www.goodreads.com/book/show/7947324-th...   \n",
       "33583  https://www.goodreads.com/book/show/1066190.Th...   \n",
       "63348  https://www.goodreads.com/book/show/34835662-d...   \n",
       "63612  https://www.goodreads.com/book/show/278223.On_...   \n",
       "\n",
       "                                               image_url   book_id  \\\n",
       "28164  https://images.gr-assets.com/books/1353994921m...   7947324   \n",
       "33583  https://images.gr-assets.com/books/1309287212m...   1066190   \n",
       "63348  https://images.gr-assets.com/books/1491857519m...  34835662   \n",
       "63612  https://images.gr-assets.com/books/1310688796m...    278223   \n",
       "\n",
       "      ratings_count work_id  \\\n",
       "28164             7  999507   \n",
       "33583           516  999507   \n",
       "63348            12  999507   \n",
       "63612          7813  999046   \n",
       "\n",
       "                                                   title  \\\n",
       "28164                                       The Gruffalo   \n",
       "33583                                       The Gruffalo   \n",
       "63348                                        De Gruffalo   \n",
       "63612  On the Way Home: The Diary of a Trip from Sout...   \n",
       "\n",
       "                                    title_without_series  \n",
       "28164                                       The Gruffalo  \n",
       "33583                                       The Gruffalo  \n",
       "63348                                        De Gruffalo  \n",
       "63612  On the Way Home: The Diary of a Trip from Sout...  \n",
       "\n",
       "[4 rows x 29 columns]"
      ]
     },
     "execution_count": 58,
     "metadata": {},
     "output_type": "execute_result"
    }
   ],
   "source": [
    "df[df[\"work_id\"].duplicated(keep=False)].sort_values(\"work_id\", ascending=False).head(4)"
   ]
  },
  {
   "cell_type": "code",
   "execution_count": 59,
   "id": "9d1c9dee",
   "metadata": {},
   "outputs": [
    {
     "data": {
      "text/plain": [
       "28164    https://www.goodreads.com/book/show/7947324-th...\n",
       "33583    https://www.goodreads.com/book/show/1066190.Th...\n",
       "63348    https://www.goodreads.com/book/show/34835662-d...\n",
       "Name: url, dtype: object"
      ]
     },
     "execution_count": 59,
     "metadata": {},
     "output_type": "execute_result"
    }
   ],
   "source": [
    "df.loc[[28164, 33583, 63348], \"url\"]"
   ]
  },
  {
   "cell_type": "markdown",
   "id": "8450c8a0",
   "metadata": {},
   "source": [
    "Existen `work_id` duplicados que pertenecen al mismo libro pero a ediciones diferentes."
   ]
  },
  {
   "cell_type": "code",
   "execution_count": 60,
   "id": "8b53965a",
   "metadata": {},
   "outputs": [
    {
     "data": {
      "text/plain": [
       "count    9.998100e+04\n",
       "mean     3.997095e+02\n",
       "std      8.288495e+03\n",
       "min      0.000000e+00\n",
       "25%      6.000000e+00\n",
       "50%      2.100000e+01\n",
       "75%      8.100000e+01\n",
       "max      1.848782e+06\n",
       "Name: ratings_count, dtype: float64"
      ]
     },
     "execution_count": 60,
     "metadata": {},
     "output_type": "execute_result"
    }
   ],
   "source": [
    "df.loc[df[\"ratings_count\"]!=\"\", \"ratings_count\"].astype(np.int64).describe()"
   ]
  },
  {
   "cell_type": "code",
   "execution_count": 61,
   "id": "29370c57",
   "metadata": {},
   "outputs": [
    {
     "data": {
      "text/plain": [
       "np.int64(0)"
      ]
     },
     "execution_count": 61,
     "metadata": {},
     "output_type": "execute_result"
    }
   ],
   "source": [
    "(df[\"title\"].str.strip() != df[\"title_without_series\"].str.strip()).sum()"
   ]
  },
  {
   "cell_type": "code",
   "execution_count": 62,
   "id": "e3b9d6c2",
   "metadata": {},
   "outputs": [
    {
     "data": {
      "text/plain": [
       "np.int64(0)"
      ]
     },
     "execution_count": 62,
     "metadata": {},
     "output_type": "execute_result"
    }
   ],
   "source": [
    "(df[\"title_without_series\"].str.strip() != df[\"title\"].str.strip()).sum()"
   ]
  },
  {
   "cell_type": "markdown",
   "id": "9f5a5763",
   "metadata": {},
   "source": [
    "Ambas columnas `title` y `title_without_series` contienen exactamente la misma información."
   ]
  },
  {
   "cell_type": "markdown",
   "id": "5903797f",
   "metadata": {},
   "source": [
    "### Transformación\n",
    "1. Eliminamos columnas redundantes o sin información relevante.\n",
    "2. Calculamos valores mínimos y máximos.\n",
    "3. Aplicamos transformaciones.\n",
    "4. Añadimos valores `nan`."
   ]
  },
  {
   "cell_type": "code",
   "execution_count": 63,
   "id": "0e6d2ff4",
   "metadata": {},
   "outputs": [],
   "source": [
    "df.drop(columns=[\"title_without_series\", \"link\", \"image_url\", \"edition_information\"], inplace=True)"
   ]
  },
  {
   "cell_type": "code",
   "execution_count": 64,
   "id": "08cae4b4",
   "metadata": {},
   "outputs": [
    {
     "data": {
      "text/plain": [
       "Index(['isbn', 'text_reviews_count', 'series', 'country_code', 'language_code',\n",
       "       'popular_shelves', 'asin', 'is_ebook', 'average_rating', 'kindle_asin',\n",
       "       'similar_books', 'description', 'format', 'authors', 'publisher',\n",
       "       'num_pages', 'publication_day', 'isbn13', 'publication_month',\n",
       "       'publication_year', 'url', 'book_id', 'ratings_count', 'work_id',\n",
       "       'title'],\n",
       "      dtype='object')"
      ]
     },
     "execution_count": 64,
     "metadata": {},
     "output_type": "execute_result"
    }
   ],
   "source": [
    "df.columns"
   ]
  },
  {
   "cell_type": "code",
   "execution_count": 65,
   "id": "a579219a",
   "metadata": {},
   "outputs": [
    {
     "name": "stdout",
     "output_type": "stream",
     "text": [
      "text_reviews_count: min=0, max=53601\n",
      "num_pages: min=0, max=945077\n",
      "publication_day: min=1, max=31\n",
      "publication_month: min=1, max=12\n",
      "publication_year: min=0, max=65535\n",
      "book_id: min=224, max=36524503\n",
      "work_id: min=40, max=58364079\n"
     ]
    }
   ],
   "source": [
    "for c in [\"text_reviews_count\", \"num_pages\", \"publication_day\", \"publication_month\", \n",
    "          \"publication_year\", \"book_id\", \"work_id\"]:\n",
    "      \n",
    "      min, max = get_limits(c)\n",
    "      print(f\"{c}: min={min}, max={max}\")"
   ]
  },
  {
   "cell_type": "code",
   "execution_count": 66,
   "id": "1613f0f6",
   "metadata": {},
   "outputs": [],
   "source": [
    "i_nan = df[\"isbn\"] == \"\"\n",
    "trc_nan = df[\"text_reviews_count\"] == \"\"\n",
    "s_nan = df[\"series\"].apply(lambda x: len(x)==0)\n",
    "cc_nan = df[\"country_code\"] == \"\"\n",
    "lc_nan = df[\"language_code\"] == \"\"\n",
    "ps_nan = df[\"popular_shelves\"].apply(lambda x: len(x)==0)\n",
    "as_nan = df[\"asin\"] == \"\"\n",
    "ie_nan = df[\"is_ebook\"] == \"\"\n",
    "ar_nan = df[\"average_rating\"] == \"\"\n",
    "ka_nan = df[\"kindle_asin\"] == \"\"\n",
    "sm_nan = df[\"similar_books\"].apply(lambda x: len(x)==0)\n",
    "d_nan = df[\"description\"] == \"\"\n",
    "f_nan = df[\"format\"] == \"\"\n",
    "a_nan = df[\"authors\"].apply(lambda x: len(x)==0)\n",
    "p_nan = df[\"publisher\"] == \"\"\n",
    "np_nan = df[\"num_pages\"] == \"\"\n",
    "pd_nan = df[\"publication_day\"] == \"\"\n",
    "pm_nan = df[\"publication_month\"] == \"\"\n",
    "py_nan = df[\"publication_year\"] == \"\"\n",
    "i13 = df[\"isbn13\"] == \"\"\n",
    "u_nan = df[\"url\"] == \"\"\n",
    "rc_nan = df[\"ratings_count\"] == \"\"\n",
    "wi_nan = df[\"work_id\"] == \"\""
   ]
  },
  {
   "cell_type": "code",
   "execution_count": 67,
   "id": "1abd39be",
   "metadata": {},
   "outputs": [],
   "source": [
    "df.loc[trc_nan, \"text_reviews_count\"] = 0\n",
    "df.loc[ar_nan, \"average_rating\"] = 0\n",
    "df.loc[np_nan, \"num_pages\"] = 0\n",
    "df.loc[pd_nan, \"publication_day\"] = 0\n",
    "df.loc[pm_nan, \"publication_month\"] = 0\n",
    "df.loc[py_nan, \"publication_year\"] = 0\n",
    "df.loc[rc_nan, \"ratings_count\"] = 0\n",
    "df.loc[wi_nan, \"work_id\"] = 0\n",
    "\n",
    "df[\"isbn\"] = df[\"isbn\"].str.replace(r\"\\s+\", \"\", regex=True)\n",
    "df[\"country_code\"] = df[\"country_code\"].str.replace(r\"\\s+\", \"\", regex=True)\n",
    "df[\"language_code\"] = df[\"language_code\"].str.replace(r\"\\s+\", \"\", regex=True)\n",
    "df[\"asin\"] = df[\"asin\"].replace(r\"\\s+\", \"\", regex=True)\n",
    "df[\"kindle_asin\"] = df[\"kindle_asin\"].str.replace(r\"\\s+\", \"\", regex=True)\n",
    "df[\"description\"] = df[\"description\"].str.strip()\n",
    "df[\"format\"] = df[\"format\"].str.strip()\n",
    "df[\"publisher\"] = df[\"publisher\"].str.strip()\n",
    "df[\"isbn13\"] = df[\"isbn13\"].str.replace(r\"\\s+\", \"\", regex=True)\n",
    "df[\"url\"] = df[\"url\"].str.replace(r\"\\s+\", \"\", regex=True)"
   ]
  },
  {
   "cell_type": "code",
   "execution_count": 68,
   "id": "ccce06f2",
   "metadata": {},
   "outputs": [
    {
     "name": "stderr",
     "output_type": "stream",
     "text": [
      "/var/folders/m7/77lvlvzx48l12lyd4t6xxy4w0000gn/T/ipykernel_14445/1590059559.py:1: FutureWarning: Downcasting behavior in `replace` is deprecated and will be removed in a future version. To retain the old behavior, explicitly call `result.infer_objects(copy=False)`. To opt-in to the future behavior, set `pd.set_option('future.no_silent_downcasting', True)`\n",
      "  df[\"is_ebook\"] = df[\"is_ebook\"].replace({\"true\": 1, \"false\": 0, \"\": 0}).astype(int)\n"
     ]
    }
   ],
   "source": [
    "df[\"is_ebook\"] = df[\"is_ebook\"].replace({\"true\": 1, \"false\": 0, \"\": 0}).astype(int)"
   ]
  },
  {
   "cell_type": "code",
   "execution_count": 69,
   "id": "7e6dfe66",
   "metadata": {},
   "outputs": [],
   "source": [
    "df[\"isbn\"] = df[\"isbn\"].astype(\"string\")\n",
    "df[\"text_reviews_count\"] = df[\"text_reviews_count\"].astype(np.uint32)\n",
    "df[\"series\"] = df[\"series\"].apply(lambda lst: [int(s_id) for s_id in lst])\n",
    "df[\"country_code\"] = df[\"country_code\"].astype(\"category\")\n",
    "df[\"language_code\"] = df[\"language_code\"].astype(\"category\")\n",
    "df[\"popular_shelves\"] = df[\"popular_shelves\"].apply(\n",
    "    lambda lst: [{\"count\": int(shelf[\"count\"]), \"name\": shelf[\"name\"]} for shelf in lst])\n",
    "df[\"asin\"] = df[\"asin\"].astype(\"string\")\n",
    "df[\"is_ebook\"] = df[\"is_ebook\"].astype(np.uint8)\n",
    "df[\"average_rating\"] = df[\"average_rating\"].astype(np.float16)\n",
    "df[\"kindle_asin\"] = df[\"kindle_asin\"].astype(\"string\")\n",
    "df[\"similar_books\"] = df[\"similar_books\"].apply(lambda lst: [int(b_id) for b_id in lst])\n",
    "df[\"description\"] = df[\"description\"].astype(\"string\")\n",
    "df[\"format\"] = df[\"format\"].astype(\"category\")\n",
    "df[\"authors\"] = df[\"authors\"].apply(\n",
    "    lambda lst: [{\"author_id\": int(a[\"author_id\"]), \"role\": a[\"role\"]} for a in lst]) \n",
    "df[\"publisher\"] = df[\"publisher\"].astype(\"string\") # ¿¿ category ??\n",
    "df[\"num_pages\"] = df[\"num_pages\"].astype(np.uint32)\n",
    "df[\"isbn13\"] = df[\"isbn13\"].astype(\"string\")\n",
    "df[\"publication_month\"] = df[\"publication_month\"].astype(np.uint8)\n",
    "df[\"publication_day\"] = df[\"publication_day\"].astype(np.uint8)\n",
    "df[\"publication_year\"] = df[\"publication_year\"].astype(np.uint16)\n",
    "df[\"url\"] = df[\"url\"].astype(\"string\")\n",
    "df[\"book_id\"] = df[\"book_id\"].astype(np.uint32)\n",
    "df[\"ratings_count\"] = df[\"ratings_count\"].astype(np.uint32)\n",
    "df[\"work_id\"] = df[\"work_id\"].astype(np.uint32)\n",
    "df[\"title\"] = df[\"title\"].astype(\"string\")"
   ]
  },
  {
   "cell_type": "code",
   "execution_count": 70,
   "id": "72817ec1",
   "metadata": {},
   "outputs": [
    {
     "data": {
      "text/plain": [
       "[246830, 362583, 362581, 623032]"
      ]
     },
     "execution_count": 70,
     "metadata": {},
     "output_type": "execute_result"
    }
   ],
   "source": [
    "df.loc[84, \"series\"]"
   ]
  },
  {
   "cell_type": "code",
   "execution_count": 71,
   "id": "7fb71ad9",
   "metadata": {},
   "outputs": [
    {
     "data": {
      "text/plain": [
       "[{'count': 2634, 'name': 'to-read'},\n",
       " {'count': 160, 'name': 'fiction'},\n",
       " {'count': 92, 'name': 'currently-reading'},\n",
       " {'count': 25, 'name': 'contemporary-fiction'},\n",
       " {'count': 22, 'name': 'owned'},\n",
       " {'count': 19, 'name': 'book-club'},\n",
       " {'count': 17, 'name': 'chick-lit'},\n",
       " {'count': 16, 'name': 'friendship'},\n",
       " {'count': 15, 'name': 'books-i-own'},\n",
       " {'count': 12, 'name': 'novel'},\n",
       " {'count': 12, 'name': 'general-fiction'},\n",
       " {'count': 11, 'name': 'anita-diamant'},\n",
       " {'count': 10, 'name': 'owned-books'},\n",
       " {'count': 10, 'name': 'contemporary'},\n",
       " {'count': 10, 'name': 'women'},\n",
       " {'count': 8, 'name': 'adult'},\n",
       " {'count': 7, 'name': 'default'},\n",
       " {'count': 7, 'name': 'favorites'},\n",
       " {'count': 7, 'name': 'didn-t-finish'},\n",
       " {'count': 6, 'name': 'own-it'},\n",
       " {'count': 6, 'name': 'library'},\n",
       " {'count': 6, 'name': 'new-england'},\n",
       " {'count': 6, 'name': 'bookclub'},\n",
       " {'count': 6, 'name': 'women-s-fiction'},\n",
       " {'count': 5, 'name': 'breast-cancer'},\n",
       " {'count': 5, 'name': 'beach-ocean'},\n",
       " {'count': 5, 'name': 'audio-book'},\n",
       " {'count': 5, 'name': 'historical-fiction'},\n",
       " {'count': 5, 'name': 'my-library'},\n",
       " {'count': 5, 'name': '2006'},\n",
       " {'count': 5, 'name': 'literature'},\n",
       " {'count': 5, 'name': 'audiobook'},\n",
       " {'count': 4, 'name': 'read-2015'},\n",
       " {'count': 4, 'name': 'diamant'},\n",
       " {'count': 4, 'name': 'audio-books'},\n",
       " {'count': 4, 'name': 'diamant-anita'},\n",
       " {'count': 4, 'name': 'adult-fiction'},\n",
       " {'count': 4, 'name': 'my-books'},\n",
       " {'count': 4, 'name': 'jewish'},\n",
       " {'count': 4, 'name': 'novels'},\n",
       " {'count': 4, 'name': 'library-book'},\n",
       " {'count': 4, 'name': '2002'},\n",
       " {'count': 3, 'name': 'read-2016'},\n",
       " {'count': 3, 'name': 'relationships'},\n",
       " {'count': 3, 'name': 'female-friendship'},\n",
       " {'count': 3, 'name': 'favorite-authors'},\n",
       " {'count': 3, 'name': 'kindle'},\n",
       " {'count': 3, 'name': 'have'},\n",
       " {'count': 3, 'name': 'strong-women'},\n",
       " {'count': 3, 'name': 'cancer'},\n",
       " {'count': 3, 'name': 'own-to-read'},\n",
       " {'count': 3, 'name': 'audiobooks'},\n",
       " {'count': 3, 'name': 'read-2011'},\n",
       " {'count': 3, 'name': 'audio'},\n",
       " {'count': 3, 'name': 'drama'},\n",
       " {'count': 3, 'name': 'read-2009'},\n",
       " {'count': 3, 'name': 'i-own'},\n",
       " {'count': 3, 'name': 'book-group'},\n",
       " {'count': 3, 'name': 'american'},\n",
       " {'count': 3, 'name': 'fiction-general'},\n",
       " {'count': 3, 'name': 'chicklit'},\n",
       " {'count': 3, 'name': 'book-club-books'},\n",
       " {'count': 2, 'name': 'hardback'},\n",
       " {'count': 2, 'name': 'my-personal-library'},\n",
       " {'count': 2, 'name': 'read-in-2017'},\n",
       " {'count': 2, 'name': 'read-2017'},\n",
       " {'count': 2, 'name': 'the-lewis-library'},\n",
       " {'count': 2, 'name': 'ficton'},\n",
       " {'count': 2, 'name': 'home'},\n",
       " {'count': 2, 'name': 'books'},\n",
       " {'count': 2, 'name': 'read-in-2015'},\n",
       " {'count': 2, 'name': 'listened'},\n",
       " {'count': 2, 'name': 'ebook'},\n",
       " {'count': 2, 'name': 'bookclub-books'},\n",
       " {'count': 2, 'name': 'to-buy'},\n",
       " {'count': 2, 'name': 'my-home-library'},\n",
       " {'count': 2, 'name': 'summer-reading'},\n",
       " {'count': 2, 'name': 'home-bookshelf'},\n",
       " {'count': 2, 'name': 'family'},\n",
       " {'count': 2, 'name': 'tbi-book-club'},\n",
       " {'count': 2, 'name': 'wish-list'},\n",
       " {'count': 2, 'name': 'own-book'},\n",
       " {'count': 2, 'name': 'unfinished'},\n",
       " {'count': 2, 'name': 'fiction-contemporary'},\n",
       " {'count': 2, 'name': 'adult-books'},\n",
       " {'count': 2, 'name': 'books-i-have'},\n",
       " {'count': 2, 'name': 'paperback'},\n",
       " {'count': 2, 'name': 'books-in-my-library'},\n",
       " {'count': 2, 'name': 'summer-reads'},\n",
       " {'count': 2, 'name': 'read-in-2011'},\n",
       " {'count': 2, 'name': 'read-in-2010'},\n",
       " {'count': 2, 'name': 'gave-up'},\n",
       " {'count': 2, 'name': 'book-club-picks'},\n",
       " {'count': 2, 'name': 'spiritual'},\n",
       " {'count': 2, 'name': 'realistic-fiction'},\n",
       " {'count': 2, 'name': 'beach-read'},\n",
       " {'count': 2, 'name': 'unread-books-i-own'},\n",
       " {'count': 2, 'name': 'read-in-2008'},\n",
       " {'count': 2, 'name': 'in-my-library'},\n",
       " {'count': 2, 'name': 'general'}]"
      ]
     },
     "execution_count": 71,
     "metadata": {},
     "output_type": "execute_result"
    }
   ],
   "source": [
    "df[\"popular_shelves\"].iloc[1]"
   ]
  },
  {
   "cell_type": "code",
   "execution_count": 72,
   "id": "dbfa2542",
   "metadata": {},
   "outputs": [
    {
     "data": {
      "text/plain": [
       "[8709549,\n",
       " 17074050,\n",
       " 28937,\n",
       " 158816,\n",
       " 228563,\n",
       " 11296581,\n",
       " 1073987,\n",
       " 7298465,\n",
       " 1274862,\n",
       " 18290554,\n",
       " 86382,\n",
       " 343067,\n",
       " 2774907,\n",
       " 663892,\n",
       " 1233981,\n",
       " 298912,\n",
       " 401091,\n",
       " 307575]"
      ]
     },
     "execution_count": 72,
     "metadata": {},
     "output_type": "execute_result"
    }
   ],
   "source": [
    "df.loc[1, \"similar_books\"]"
   ]
  },
  {
   "cell_type": "code",
   "execution_count": 73,
   "id": "646fdee9",
   "metadata": {},
   "outputs": [
    {
     "data": {
      "text/plain": [
       "[{'author_id': 166520, 'role': ''},\n",
       " {'author_id': 166517, 'role': 'Editor'},\n",
       " {'author_id': 3958428, 'role': 'Editor'},\n",
       " {'author_id': 3958429, 'role': 'Translator'}]"
      ]
     },
     "execution_count": 73,
     "metadata": {},
     "output_type": "execute_result"
    }
   ],
   "source": [
    "df.loc[26, \"authors\"]"
   ]
  },
  {
   "cell_type": "code",
   "execution_count": 74,
   "id": "f51550c8",
   "metadata": {},
   "outputs": [
    {
     "data": {
      "text/plain": [
       "isbn                  41381\n",
       "text_reviews_count       19\n",
       "series                68481\n",
       "country_code             18\n",
       "language_code         44885\n",
       "popular_shelves        1665\n",
       "asin                  80114\n",
       "is_ebook                 18\n",
       "average_rating           19\n",
       "kindle_asin           56880\n",
       "similar_books         53011\n",
       "description           17304\n",
       "format                27459\n",
       "authors                  19\n",
       "publisher             27647\n",
       "num_pages             32376\n",
       "publication_day       43280\n",
       "isbn13                32833\n",
       "publication_month     37302\n",
       "publication_year      25447\n",
       "url                      19\n",
       "book_id                   0\n",
       "ratings_count            19\n",
       "work_id                  19\n",
       "title                     0\n",
       "dtype: int64"
      ]
     },
     "execution_count": 74,
     "metadata": {},
     "output_type": "execute_result"
    }
   ],
   "source": [
    "df.loc[i_nan, \"isbn\"] = np.nan\n",
    "df.loc[trc_nan, \"text_reviews_count\"] = np.nan\n",
    "df.loc[s_nan, \"series\"] = np.nan\n",
    "df.loc[cc_nan, \"country_code\"] = np.nan\n",
    "df.loc[lc_nan, \"language_code\"] = np.nan\n",
    "df.loc[ps_nan, \"popular_shelves\"] = np.nan\n",
    "df.loc[as_nan, \"asin\"] = np.nan\n",
    "df.loc[ie_nan, \"is_ebook\"] = np.nan\n",
    "df.loc[ar_nan, \"average_rating\"] = np.nan\n",
    "df.loc[ka_nan, \"kindle_asin\"] = np.nan\n",
    "df.loc[sm_nan, \"similar_books\"] = np.nan\n",
    "df.loc[d_nan, \"description\"] = np.nan\n",
    "df.loc[f_nan, \"format\"] = np.nan\n",
    "df.loc[a_nan, \"authors\"] = np.nan\n",
    "df.loc[p_nan, \"publisher\"] = np.nan\n",
    "df.loc[np_nan, \"num_pages\"] = np.nan\n",
    "df.loc[pd_nan, \"publication_day\"] = np.nan\n",
    "df.loc[pm_nan, \"publication_month\"] = np.nan\n",
    "df.loc[py_nan, \"publication_year\"] = np.nan\n",
    "df.loc[i13, \"isbn13\"] = np.nan\n",
    "df.loc[u_nan, \"url\"] = np.nan\n",
    "df.loc[rc_nan, \"ratings_count\"] = np.nan\n",
    "df.loc[wi_nan, \"work_id\"] = np.nan\n",
    "\n",
    "df.isna().sum()"
   ]
  },
  {
   "cell_type": "code",
   "execution_count": 75,
   "id": "03664500",
   "metadata": {},
   "outputs": [
    {
     "name": "stdout",
     "output_type": "stream",
     "text": [
      "<class 'pandas.core.frame.DataFrame'>\n",
      "RangeIndex: 100000 entries, 0 to 99999\n",
      "Data columns (total 25 columns):\n",
      " #   Column              Non-Null Count   Dtype   \n",
      "---  ------              --------------   -----   \n",
      " 0   isbn                58619 non-null   string  \n",
      " 1   text_reviews_count  99981 non-null   float64 \n",
      " 2   series              31519 non-null   object  \n",
      " 3   country_code        99982 non-null   category\n",
      " 4   language_code       55115 non-null   category\n",
      " 5   popular_shelves     98335 non-null   object  \n",
      " 6   asin                19886 non-null   string  \n",
      " 7   is_ebook            99982 non-null   float64 \n",
      " 8   average_rating      99981 non-null   float16 \n",
      " 9   kindle_asin         43120 non-null   string  \n",
      " 10  similar_books       46989 non-null   object  \n",
      " 11  description         82696 non-null   string  \n",
      " 12  format              72541 non-null   category\n",
      " 13  authors             99981 non-null   object  \n",
      " 14  publisher           72353 non-null   string  \n",
      " 15  num_pages           67624 non-null   float64 \n",
      " 16  publication_day     56720 non-null   float64 \n",
      " 17  isbn13              67167 non-null   string  \n",
      " 18  publication_month   62698 non-null   float64 \n",
      " 19  publication_year    74553 non-null   float64 \n",
      " 20  url                 99981 non-null   string  \n",
      " 21  book_id             100000 non-null  uint32  \n",
      " 22  ratings_count       99981 non-null   float64 \n",
      " 23  work_id             99981 non-null   float64 \n",
      " 24  title               100000 non-null  string  \n",
      "dtypes: category(3), float16(1), float64(8), object(4), string(8), uint32(1)\n",
      "memory usage: 16.2+ MB\n"
     ]
    }
   ],
   "source": [
    "df.info()"
   ]
  }
 ],
 "metadata": {
  "kernelspec": {
   "display_name": "ks-tfm.venv",
   "language": "python",
   "name": "python3"
  },
  "language_info": {
   "codemirror_mode": {
    "name": "ipython",
    "version": 3
   },
   "file_extension": ".py",
   "mimetype": "text/x-python",
   "name": "python",
   "nbconvert_exporter": "python",
   "pygments_lexer": "ipython3",
   "version": "3.12.7"
  }
 },
 "nbformat": 4,
 "nbformat_minor": 5
}
