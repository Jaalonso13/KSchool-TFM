{
 "cells": [
  {
   "cell_type": "markdown",
   "id": "efd08f7f",
   "metadata": {},
   "source": []
  },
  {
   "cell_type": "code",
   "execution_count": null,
   "id": "efc8d7db",
   "metadata": {},
   "outputs": [],
   "source": []
  },
  {
   "cell_type": "markdown",
   "id": "69e72cb6",
   "metadata": {},
   "source": [
    "## GoodReads API\n",
    "[API Documentation](https://rapidapi.com/UnitedAPI/api/goodreads12/playground/apiendpoint_0df34d9b-343a-43a7-8e12-e6867741f23b)"
   ]
  },
  {
   "cell_type": "code",
   "execution_count": null,
   "id": "9618b404",
   "metadata": {},
   "outputs": [],
   "source": [
    "from core.goodreads import GoodReadsApi\n",
    "\n",
    "api = GoodReadsApi()"
   ]
  },
  {
   "cell_type": "markdown",
   "id": "290ffe81",
   "metadata": {},
   "source": [
    "##### Test Endpoints"
   ]
  },
  {
   "cell_type": "code",
   "execution_count": 2,
   "id": "324fac30",
   "metadata": {},
   "outputs": [],
   "source": [
    "id = \"42844155\""
   ]
  },
  {
   "cell_type": "code",
   "execution_count": 3,
   "id": "156a79fc",
   "metadata": {},
   "outputs": [],
   "source": [
    "url = \"https://www.goodreads.com/book/show/42844155-harry-potter-and-the-philosopher-s-stone\""
   ]
  },
  {
   "cell_type": "code",
   "execution_count": 4,
   "id": "f9186559",
   "metadata": {},
   "outputs": [],
   "source": [
    "author_id = \"1077326\""
   ]
  },
  {
   "cell_type": "markdown",
   "id": "c5eb0175",
   "metadata": {},
   "source": [
    "## GoodReads Dataset\n",
    "\n",
    "[Dataset Info](https://cseweb.ucsd.edu/~jmcauley/datasets/goodreads.html)"
   ]
  },
  {
   "cell_type": "code",
   "execution_count": 5,
   "id": "1cdb8753",
   "metadata": {},
   "outputs": [],
   "source": [
    "import pandas as pd\n",
    "\n",
    "from core.goodreads import GoodReadsData\n",
    "\n",
    "goodreads_data = GoodReadsData()"
   ]
  },
  {
   "cell_type": "markdown",
   "id": "0a080e94",
   "metadata": {},
   "source": [
    "##### Download"
   ]
  },
  {
   "cell_type": "code",
   "execution_count": 6,
   "id": "66aa0da1",
   "metadata": {},
   "outputs": [],
   "source": [
    "# goodreads_data.download_all()"
   ]
  },
  {
   "cell_type": "markdown",
   "id": "ce5817e9",
   "metadata": {},
   "source": [
    "### Inspección de datos"
   ]
  },
  {
   "cell_type": "code",
   "execution_count": null,
   "id": "23886c14",
   "metadata": {},
   "outputs": [
    {
     "data": {
      "text/plain": [
       "\"['goodreads_book_works', 'goodreads_book_authors', 'goodreads_book_series', 'goodreads_books', 'goodreads_book_genres_initial', 'goodreads_reviews_dedup', 'goodreads_reviews_spoiler', 'goodreads_reviews_spoiler_raw', 'book_id_map', 'user_id_map', 'goodreads_interactions', 'goodreads_interactions_dedup', 'book_clubs', 'goodreads_books_children', 'goodreads_books_comics_graphic', 'goodreads_books_fantasy_paranormal', 'goodreads_books_history_biography', 'goodreads_books_mystery_thriller_crime', 'goodreads_books_poetry', 'goodreads_books_romance', 'goodreads_books_young_adult', 'goodreads_interactions_children', 'goodreads_interactions_comics_graphic', 'goodreads_interactions_fantasy_paranormal', 'goodreads_interactions_history_biography', 'goodreads_interactions_mystery_thriller_crime', 'goodreads_interactions_poetry', 'goodreads_interactions_romance', 'goodreads_interactions_young_adult', 'goodreads_reviews_children', 'goodreads_reviews_comics_graphic', 'goodreads_reviews_fantasy_paranormal', 'goodreads_reviews_history_biography', 'goodreads_reviews_mystery_thriller_crime', 'goodreads_reviews_poetry', 'goodreads_reviews_romance', 'goodreads_reviews_young_adult']\""
      ]
     },
     "execution_count": 7,
     "metadata": {},
     "output_type": "execute_result"
    },
    {
     "ename": "",
     "evalue": "",
     "output_type": "error",
     "traceback": [
      "\u001b[1;31mThe Kernel crashed while executing code in the current cell or a previous cell. \n",
      "\u001b[1;31mPlease review the code in the cell(s) to identify a possible cause of the failure. \n",
      "\u001b[1;31mClick <a href='https://aka.ms/vscodeJupyterKernelCrash'>here</a> for more info. \n",
      "\u001b[1;31mView Jupyter <a href='command:jupyter.viewOutput'>log</a> for further details."
     ]
    }
   ],
   "source": [
    "f\"{goodreads_data.file_names}\""
   ]
  },
  {
   "cell_type": "code",
   "execution_count": null,
   "id": "58d4e5a9",
   "metadata": {},
   "outputs": [],
   "source": [
    "pd.read_json(goodreads_data.get_file_path(\"goodreads_books\"), lines=True, compression=\"gzip\")"
   ]
  },
  {
   "cell_type": "code",
   "execution_count": null,
   "id": "d35ad549",
   "metadata": {},
   "outputs": [
    {
     "name": "stdout",
     "output_type": "stream",
     "text": [
      "Loading goodreads_book_works\n",
      "************ Ok ************\n",
      "Loading goodreads_book_authors\n",
      "************ Ok ************\n",
      "Loading goodreads_book_series\n",
      "************ Ok ************\n",
      "Loading goodreads_books\n"
     ]
    }
   ],
   "source": [
    "for filename in goodreads_data.file_names:\n",
    "    print(f\"Loading {filename}\")\n",
    "    if goodreads_data.load_file(filename) is None:\n",
    "        print(f\"----------- Fail -----------\")\n",
    "    else:\n",
    "        print(f\"************ Ok ************\")"
   ]
  },
  {
   "cell_type": "markdown",
   "id": "191fa57c",
   "metadata": {},
   "source": [
    "#### goodreads_book_works"
   ]
  },
  {
   "cell_type": "code",
   "execution_count": null,
   "id": "81bca060",
   "metadata": {},
   "outputs": [
    {
     "ename": "FileNotFoundError",
     "evalue": "File /Volumes/TOSHIBA EXT/goodreads/books/goodreads_book_works.json.gz does not exist",
     "output_type": "error",
     "traceback": [
      "\u001b[31m---------------------------------------------------------------------------\u001b[39m",
      "\u001b[31mFileNotFoundError\u001b[39m                         Traceback (most recent call last)",
      "\u001b[36mCell\u001b[39m\u001b[36m \u001b[39m\u001b[32mIn[9]\u001b[39m\u001b[32m, line 1\u001b[39m\n\u001b[32m----> \u001b[39m\u001b[32m1\u001b[39m goodreads_book_works = \u001b[43mgoodreads_data\u001b[49m\u001b[43m.\u001b[49m\u001b[43mload_file\u001b[49m\u001b[43m(\u001b[49m\u001b[33;43m\"\u001b[39;49m\u001b[33;43mgoodreads_book_works\u001b[39;49m\u001b[33;43m\"\u001b[39;49m\u001b[43m)\u001b[49m\n\u001b[32m      2\u001b[39m goodreads_book_works\n",
      "\u001b[36mFile \u001b[39m\u001b[32m~/Repos/in-progress/KSchool-TFM/core/goodreads.py:72\u001b[39m, in \u001b[36mGoodReadsData.load_file\u001b[39m\u001b[34m(self, filename)\u001b[39m\n\u001b[32m     70\u001b[39m file_path = \u001b[38;5;28mself\u001b[39m.get_file_path(filename)\n\u001b[32m     71\u001b[39m \u001b[38;5;28;01mif\u001b[39;00m (ext := os.path.splitext(file_path)[-\u001b[32m1\u001b[39m]) == \u001b[33m\"\u001b[39m\u001b[33m.gz\u001b[39m\u001b[33m\"\u001b[39m:\n\u001b[32m---> \u001b[39m\u001b[32m72\u001b[39m     \u001b[38;5;28;01mreturn\u001b[39;00m \u001b[43mpd\u001b[49m\u001b[43m.\u001b[49m\u001b[43mread_json\u001b[49m\u001b[43m(\u001b[49m\u001b[43mfile_path\u001b[49m\u001b[43m,\u001b[49m\u001b[43m \u001b[49m\u001b[43mlines\u001b[49m\u001b[43m=\u001b[49m\u001b[38;5;28;43;01mTrue\u001b[39;49;00m\u001b[43m,\u001b[49m\u001b[43m \u001b[49m\u001b[43mcompression\u001b[49m\u001b[43m=\u001b[49m\u001b[33;43m\"\u001b[39;49m\u001b[33;43mgzip\u001b[39;49m\u001b[33;43m\"\u001b[39;49m\u001b[43m)\u001b[49m\n\u001b[32m     73\u001b[39m \u001b[38;5;28;01melif\u001b[39;00m ext == \u001b[33m\"\u001b[39m\u001b[33m.json\u001b[39m\u001b[33m\"\u001b[39m:\n\u001b[32m     74\u001b[39m     \u001b[38;5;28;01mreturn\u001b[39;00m pd.read_json(file_path)\n",
      "\u001b[36mFile \u001b[39m\u001b[32m~/Repos/in-progress/KSchool-TFM/ks-tfm.venv/lib/python3.12/site-packages/pandas/io/json/_json.py:791\u001b[39m, in \u001b[36mread_json\u001b[39m\u001b[34m(path_or_buf, orient, typ, dtype, convert_axes, convert_dates, keep_default_dates, precise_float, date_unit, encoding, encoding_errors, lines, chunksize, compression, nrows, storage_options, dtype_backend, engine)\u001b[39m\n\u001b[32m    788\u001b[39m \u001b[38;5;28;01mif\u001b[39;00m convert_axes \u001b[38;5;129;01mis\u001b[39;00m \u001b[38;5;28;01mNone\u001b[39;00m \u001b[38;5;129;01mand\u001b[39;00m orient != \u001b[33m\"\u001b[39m\u001b[33mtable\u001b[39m\u001b[33m\"\u001b[39m:\n\u001b[32m    789\u001b[39m     convert_axes = \u001b[38;5;28;01mTrue\u001b[39;00m\n\u001b[32m--> \u001b[39m\u001b[32m791\u001b[39m json_reader = \u001b[43mJsonReader\u001b[49m\u001b[43m(\u001b[49m\n\u001b[32m    792\u001b[39m \u001b[43m    \u001b[49m\u001b[43mpath_or_buf\u001b[49m\u001b[43m,\u001b[49m\n\u001b[32m    793\u001b[39m \u001b[43m    \u001b[49m\u001b[43morient\u001b[49m\u001b[43m=\u001b[49m\u001b[43morient\u001b[49m\u001b[43m,\u001b[49m\n\u001b[32m    794\u001b[39m \u001b[43m    \u001b[49m\u001b[43mtyp\u001b[49m\u001b[43m=\u001b[49m\u001b[43mtyp\u001b[49m\u001b[43m,\u001b[49m\n\u001b[32m    795\u001b[39m \u001b[43m    \u001b[49m\u001b[43mdtype\u001b[49m\u001b[43m=\u001b[49m\u001b[43mdtype\u001b[49m\u001b[43m,\u001b[49m\n\u001b[32m    796\u001b[39m \u001b[43m    \u001b[49m\u001b[43mconvert_axes\u001b[49m\u001b[43m=\u001b[49m\u001b[43mconvert_axes\u001b[49m\u001b[43m,\u001b[49m\n\u001b[32m    797\u001b[39m \u001b[43m    \u001b[49m\u001b[43mconvert_dates\u001b[49m\u001b[43m=\u001b[49m\u001b[43mconvert_dates\u001b[49m\u001b[43m,\u001b[49m\n\u001b[32m    798\u001b[39m \u001b[43m    \u001b[49m\u001b[43mkeep_default_dates\u001b[49m\u001b[43m=\u001b[49m\u001b[43mkeep_default_dates\u001b[49m\u001b[43m,\u001b[49m\n\u001b[32m    799\u001b[39m \u001b[43m    \u001b[49m\u001b[43mprecise_float\u001b[49m\u001b[43m=\u001b[49m\u001b[43mprecise_float\u001b[49m\u001b[43m,\u001b[49m\n\u001b[32m    800\u001b[39m \u001b[43m    \u001b[49m\u001b[43mdate_unit\u001b[49m\u001b[43m=\u001b[49m\u001b[43mdate_unit\u001b[49m\u001b[43m,\u001b[49m\n\u001b[32m    801\u001b[39m \u001b[43m    \u001b[49m\u001b[43mencoding\u001b[49m\u001b[43m=\u001b[49m\u001b[43mencoding\u001b[49m\u001b[43m,\u001b[49m\n\u001b[32m    802\u001b[39m \u001b[43m    \u001b[49m\u001b[43mlines\u001b[49m\u001b[43m=\u001b[49m\u001b[43mlines\u001b[49m\u001b[43m,\u001b[49m\n\u001b[32m    803\u001b[39m \u001b[43m    \u001b[49m\u001b[43mchunksize\u001b[49m\u001b[43m=\u001b[49m\u001b[43mchunksize\u001b[49m\u001b[43m,\u001b[49m\n\u001b[32m    804\u001b[39m \u001b[43m    \u001b[49m\u001b[43mcompression\u001b[49m\u001b[43m=\u001b[49m\u001b[43mcompression\u001b[49m\u001b[43m,\u001b[49m\n\u001b[32m    805\u001b[39m \u001b[43m    \u001b[49m\u001b[43mnrows\u001b[49m\u001b[43m=\u001b[49m\u001b[43mnrows\u001b[49m\u001b[43m,\u001b[49m\n\u001b[32m    806\u001b[39m \u001b[43m    \u001b[49m\u001b[43mstorage_options\u001b[49m\u001b[43m=\u001b[49m\u001b[43mstorage_options\u001b[49m\u001b[43m,\u001b[49m\n\u001b[32m    807\u001b[39m \u001b[43m    \u001b[49m\u001b[43mencoding_errors\u001b[49m\u001b[43m=\u001b[49m\u001b[43mencoding_errors\u001b[49m\u001b[43m,\u001b[49m\n\u001b[32m    808\u001b[39m \u001b[43m    \u001b[49m\u001b[43mdtype_backend\u001b[49m\u001b[43m=\u001b[49m\u001b[43mdtype_backend\u001b[49m\u001b[43m,\u001b[49m\n\u001b[32m    809\u001b[39m \u001b[43m    \u001b[49m\u001b[43mengine\u001b[49m\u001b[43m=\u001b[49m\u001b[43mengine\u001b[49m\u001b[43m,\u001b[49m\n\u001b[32m    810\u001b[39m \u001b[43m\u001b[49m\u001b[43m)\u001b[49m\n\u001b[32m    812\u001b[39m \u001b[38;5;28;01mif\u001b[39;00m chunksize:\n\u001b[32m    813\u001b[39m     \u001b[38;5;28;01mreturn\u001b[39;00m json_reader\n",
      "\u001b[36mFile \u001b[39m\u001b[32m~/Repos/in-progress/KSchool-TFM/ks-tfm.venv/lib/python3.12/site-packages/pandas/io/json/_json.py:904\u001b[39m, in \u001b[36mJsonReader.__init__\u001b[39m\u001b[34m(self, filepath_or_buffer, orient, typ, dtype, convert_axes, convert_dates, keep_default_dates, precise_float, date_unit, encoding, lines, chunksize, compression, nrows, storage_options, encoding_errors, dtype_backend, engine)\u001b[39m\n\u001b[32m    902\u001b[39m     \u001b[38;5;28mself\u001b[39m.data = filepath_or_buffer\n\u001b[32m    903\u001b[39m \u001b[38;5;28;01melif\u001b[39;00m \u001b[38;5;28mself\u001b[39m.engine == \u001b[33m\"\u001b[39m\u001b[33mujson\u001b[39m\u001b[33m\"\u001b[39m:\n\u001b[32m--> \u001b[39m\u001b[32m904\u001b[39m     data = \u001b[38;5;28;43mself\u001b[39;49m\u001b[43m.\u001b[49m\u001b[43m_get_data_from_filepath\u001b[49m\u001b[43m(\u001b[49m\u001b[43mfilepath_or_buffer\u001b[49m\u001b[43m)\u001b[49m\n\u001b[32m    905\u001b[39m     \u001b[38;5;28mself\u001b[39m.data = \u001b[38;5;28mself\u001b[39m._preprocess_data(data)\n",
      "\u001b[36mFile \u001b[39m\u001b[32m~/Repos/in-progress/KSchool-TFM/ks-tfm.venv/lib/python3.12/site-packages/pandas/io/json/_json.py:960\u001b[39m, in \u001b[36mJsonReader._get_data_from_filepath\u001b[39m\u001b[34m(self, filepath_or_buffer)\u001b[39m\n\u001b[32m    952\u001b[39m     filepath_or_buffer = \u001b[38;5;28mself\u001b[39m.handles.handle\n\u001b[32m    953\u001b[39m \u001b[38;5;28;01melif\u001b[39;00m (\n\u001b[32m    954\u001b[39m     \u001b[38;5;28misinstance\u001b[39m(filepath_or_buffer, \u001b[38;5;28mstr\u001b[39m)\n\u001b[32m    955\u001b[39m     \u001b[38;5;129;01mand\u001b[39;00m filepath_or_buffer.lower().endswith(\n\u001b[32m   (...)\u001b[39m\u001b[32m    958\u001b[39m     \u001b[38;5;129;01mand\u001b[39;00m \u001b[38;5;129;01mnot\u001b[39;00m file_exists(filepath_or_buffer)\n\u001b[32m    959\u001b[39m ):\n\u001b[32m--> \u001b[39m\u001b[32m960\u001b[39m     \u001b[38;5;28;01mraise\u001b[39;00m \u001b[38;5;167;01mFileNotFoundError\u001b[39;00m(\u001b[33mf\u001b[39m\u001b[33m\"\u001b[39m\u001b[33mFile \u001b[39m\u001b[38;5;132;01m{\u001b[39;00mfilepath_or_buffer\u001b[38;5;132;01m}\u001b[39;00m\u001b[33m does not exist\u001b[39m\u001b[33m\"\u001b[39m)\n\u001b[32m    961\u001b[39m \u001b[38;5;28;01melse\u001b[39;00m:\n\u001b[32m    962\u001b[39m     warnings.warn(\n\u001b[32m    963\u001b[39m         \u001b[33m\"\u001b[39m\u001b[33mPassing literal json to \u001b[39m\u001b[33m'\u001b[39m\u001b[33mread_json\u001b[39m\u001b[33m'\u001b[39m\u001b[33m is deprecated and \u001b[39m\u001b[33m\"\u001b[39m\n\u001b[32m    964\u001b[39m         \u001b[33m\"\u001b[39m\u001b[33mwill be removed in a future version. To read from a \u001b[39m\u001b[33m\"\u001b[39m\n\u001b[32m   (...)\u001b[39m\u001b[32m    967\u001b[39m         stacklevel=find_stack_level(),\n\u001b[32m    968\u001b[39m     )\n",
      "\u001b[31mFileNotFoundError\u001b[39m: File /Volumes/TOSHIBA EXT/goodreads/books/goodreads_book_works.json.gz does not exist"
     ]
    }
   ],
   "source": [
    "goodreads_book_works = goodreads_data.load_file(\"goodreads_book_works\")\n",
    "goodreads_book_works"
   ]
  },
  {
   "cell_type": "markdown",
   "id": "3ba69bbe",
   "metadata": {},
   "source": [
    "#### goodreads_book_authors"
   ]
  },
  {
   "cell_type": "code",
   "execution_count": null,
   "id": "5578321c",
   "metadata": {},
   "outputs": [
    {
     "name": "stderr",
     "output_type": "stream",
     "text": [
      "goodreads_book_authors: 100%|██████████| 18.0M/18.0M [00:01<00:00, 12.4MB/s]\n"
     ]
    },
    {
     "name": "stdout",
     "output_type": "stream",
     "text": [
      "Dataset goodreads_book_authors has been downloaded!\n"
     ]
    },
    {
     "data": {
      "text/html": [
       "<div>\n",
       "<style scoped>\n",
       "    .dataframe tbody tr th:only-of-type {\n",
       "        vertical-align: middle;\n",
       "    }\n",
       "\n",
       "    .dataframe tbody tr th {\n",
       "        vertical-align: top;\n",
       "    }\n",
       "\n",
       "    .dataframe thead th {\n",
       "        text-align: right;\n",
       "    }\n",
       "</style>\n",
       "<table border=\"1\" class=\"dataframe\">\n",
       "  <thead>\n",
       "    <tr style=\"text-align: right;\">\n",
       "      <th></th>\n",
       "      <th>average_rating</th>\n",
       "      <th>author_id</th>\n",
       "      <th>text_reviews_count</th>\n",
       "      <th>name</th>\n",
       "      <th>ratings_count</th>\n",
       "    </tr>\n",
       "  </thead>\n",
       "  <tbody>\n",
       "    <tr>\n",
       "      <th>0</th>\n",
       "      <td>3.98</td>\n",
       "      <td>604031</td>\n",
       "      <td>7</td>\n",
       "      <td>Ronald J. Fields</td>\n",
       "      <td>49</td>\n",
       "    </tr>\n",
       "    <tr>\n",
       "      <th>1</th>\n",
       "      <td>4.08</td>\n",
       "      <td>626222</td>\n",
       "      <td>28716</td>\n",
       "      <td>Anita Diamant</td>\n",
       "      <td>546796</td>\n",
       "    </tr>\n",
       "    <tr>\n",
       "      <th>2</th>\n",
       "      <td>3.92</td>\n",
       "      <td>10333</td>\n",
       "      <td>5075</td>\n",
       "      <td>Barbara Hambly</td>\n",
       "      <td>122118</td>\n",
       "    </tr>\n",
       "    <tr>\n",
       "      <th>3</th>\n",
       "      <td>3.68</td>\n",
       "      <td>9212</td>\n",
       "      <td>36262</td>\n",
       "      <td>Jennifer Weiner</td>\n",
       "      <td>888522</td>\n",
       "    </tr>\n",
       "    <tr>\n",
       "      <th>4</th>\n",
       "      <td>3.82</td>\n",
       "      <td>149918</td>\n",
       "      <td>96</td>\n",
       "      <td>Nigel Pennick</td>\n",
       "      <td>1740</td>\n",
       "    </tr>\n",
       "    <tr>\n",
       "      <th>...</th>\n",
       "      <td>...</td>\n",
       "      <td>...</td>\n",
       "      <td>...</td>\n",
       "      <td>...</td>\n",
       "      <td>...</td>\n",
       "    </tr>\n",
       "    <tr>\n",
       "      <th>829524</th>\n",
       "      <td>4.36</td>\n",
       "      <td>197551</td>\n",
       "      <td>4</td>\n",
       "      <td>Patty Furbush</td>\n",
       "      <td>11</td>\n",
       "    </tr>\n",
       "    <tr>\n",
       "      <th>829525</th>\n",
       "      <td>4.33</td>\n",
       "      <td>3988103</td>\n",
       "      <td>3</td>\n",
       "      <td>Jim Schlinkman</td>\n",
       "      <td>6</td>\n",
       "    </tr>\n",
       "    <tr>\n",
       "      <th>829526</th>\n",
       "      <td>4.00</td>\n",
       "      <td>13464507</td>\n",
       "      <td>2</td>\n",
       "      <td>Rich Jolly</td>\n",
       "      <td>18</td>\n",
       "    </tr>\n",
       "    <tr>\n",
       "      <th>829527</th>\n",
       "      <td>3.31</td>\n",
       "      <td>7427847</td>\n",
       "      <td>1</td>\n",
       "      <td>sr@ mwrGn</td>\n",
       "      <td>13</td>\n",
       "    </tr>\n",
       "    <tr>\n",
       "      <th>829528</th>\n",
       "      <td>3.70</td>\n",
       "      <td>5401342</td>\n",
       "      <td>11</td>\n",
       "      <td>Barry S. Brown</td>\n",
       "      <td>43</td>\n",
       "    </tr>\n",
       "  </tbody>\n",
       "</table>\n",
       "<p>829529 rows × 5 columns</p>\n",
       "</div>"
      ],
      "text/plain": [
       "        average_rating  author_id  text_reviews_count              name  \\\n",
       "0                 3.98     604031                   7  Ronald J. Fields   \n",
       "1                 4.08     626222               28716     Anita Diamant   \n",
       "2                 3.92      10333                5075    Barbara Hambly   \n",
       "3                 3.68       9212               36262   Jennifer Weiner   \n",
       "4                 3.82     149918                  96     Nigel Pennick   \n",
       "...                ...        ...                 ...               ...   \n",
       "829524            4.36     197551                   4     Patty Furbush   \n",
       "829525            4.33    3988103                   3    Jim Schlinkman   \n",
       "829526            4.00   13464507                   2        Rich Jolly   \n",
       "829527            3.31    7427847                   1         sr@ mwrGn   \n",
       "829528            3.70    5401342                  11    Barry S. Brown   \n",
       "\n",
       "        ratings_count  \n",
       "0                  49  \n",
       "1              546796  \n",
       "2              122118  \n",
       "3              888522  \n",
       "4                1740  \n",
       "...               ...  \n",
       "829524             11  \n",
       "829525              6  \n",
       "829526             18  \n",
       "829527             13  \n",
       "829528             43  \n",
       "\n",
       "[829529 rows x 5 columns]"
      ]
     },
     "execution_count": 8,
     "metadata": {},
     "output_type": "execute_result"
    }
   ],
   "source": [
    "goodreads_book_authors = goodreads_data.load_file(\"goodreads_book_authors\")\n",
    "goodreads_book_authors"
   ]
  },
  {
   "cell_type": "code",
   "execution_count": null,
   "id": "52dac818",
   "metadata": {},
   "outputs": [],
   "source": []
  }
 ],
 "metadata": {
  "kernelspec": {
   "display_name": "ks-tfm.env",
   "language": "python",
   "name": "python3"
  },
  "language_info": {
   "codemirror_mode": {
    "name": "ipython",
    "version": 3
   },
   "file_extension": ".py",
   "mimetype": "text/x-python",
   "name": "python",
   "nbconvert_exporter": "python",
   "pygments_lexer": "ipython3",
   "version": "3.12.7"
  }
 },
 "nbformat": 4,
 "nbformat_minor": 5
}
