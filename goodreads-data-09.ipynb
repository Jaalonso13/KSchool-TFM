{
 "cells": [
  {
   "cell_type": "code",
   "execution_count": 18,
   "id": "62cbe2c2",
   "metadata": {},
   "outputs": [
    {
     "data": {
      "text/plain": [
       "'user_id_map'"
      ]
     },
     "execution_count": 18,
     "metadata": {},
     "output_type": "execute_result"
    }
   ],
   "source": [
    "from core.goodreads import GoodReadsData\n",
    "import gc\n",
    "\n",
    "goodreads = GoodReadsData()\n",
    "filename = goodreads.file_names[9]\n",
    "filename"
   ]
  },
  {
   "cell_type": "code",
   "execution_count": 19,
   "id": "c604fbef",
   "metadata": {},
   "outputs": [
    {
     "data": {
      "text/plain": [
       "0"
      ]
     },
     "execution_count": 19,
     "metadata": {},
     "output_type": "execute_result"
    }
   ],
   "source": [
    "gc.collect()"
   ]
  },
  {
   "cell_type": "markdown",
   "id": "3396edc9",
   "metadata": {},
   "source": [
    "# Análisis de `user_id_map`"
   ]
  },
  {
   "cell_type": "code",
   "execution_count": 20,
   "id": "7f1831d2",
   "metadata": {},
   "outputs": [],
   "source": [
    "import os\n",
    "import numpy as np"
   ]
  },
  {
   "cell_type": "code",
   "execution_count": 21,
   "id": "9ff9ff93",
   "metadata": {},
   "outputs": [],
   "source": [
    "# Download\n",
    "if not os.path.exists(goodreads.get_file_path(filename)):\n",
    "    goodreads.download_file(filename)\n",
    "    \n",
    "df = goodreads.load_file(filename)"
   ]
  },
  {
   "cell_type": "markdown",
   "id": "e3840f82",
   "metadata": {},
   "source": [
    "### Análisis\n",
    "1. Comprensión de datos.\n",
    "2. Detección de `nan` o duplicados.\n",
    "3. Detección de errores."
   ]
  },
  {
   "cell_type": "code",
   "execution_count": 22,
   "id": "b08c3b55",
   "metadata": {},
   "outputs": [
    {
     "data": {
      "text/html": [
       "<div>\n",
       "<style scoped>\n",
       "    .dataframe tbody tr th:only-of-type {\n",
       "        vertical-align: middle;\n",
       "    }\n",
       "\n",
       "    .dataframe tbody tr th {\n",
       "        vertical-align: top;\n",
       "    }\n",
       "\n",
       "    .dataframe thead th {\n",
       "        text-align: right;\n",
       "    }\n",
       "</style>\n",
       "<table border=\"1\" class=\"dataframe\">\n",
       "  <thead>\n",
       "    <tr style=\"text-align: right;\">\n",
       "      <th></th>\n",
       "      <th>user_id_csv</th>\n",
       "      <th>user_id</th>\n",
       "    </tr>\n",
       "  </thead>\n",
       "  <tbody>\n",
       "    <tr>\n",
       "      <th>249428</th>\n",
       "      <td>249428</td>\n",
       "      <td>1697b1c7b6f9e1b414c3a13efa9faae0</td>\n",
       "    </tr>\n",
       "    <tr>\n",
       "      <th>374853</th>\n",
       "      <td>374853</td>\n",
       "      <td>1456f3df3699b06c1380521de69a4820</td>\n",
       "    </tr>\n",
       "    <tr>\n",
       "      <th>620622</th>\n",
       "      <td>620622</td>\n",
       "      <td>ca171257d68207c9a75fa4ce5220d065</td>\n",
       "    </tr>\n",
       "    <tr>\n",
       "      <th>867298</th>\n",
       "      <td>867298</td>\n",
       "      <td>bbf29d7dc67b5db8bcbed40ce4b070ad</td>\n",
       "    </tr>\n",
       "    <tr>\n",
       "      <th>740124</th>\n",
       "      <td>740124</td>\n",
       "      <td>9e95f9d655d9eefa6a12e7cfcad9d1f4</td>\n",
       "    </tr>\n",
       "  </tbody>\n",
       "</table>\n",
       "</div>"
      ],
      "text/plain": [
       "        user_id_csv                           user_id\n",
       "249428       249428  1697b1c7b6f9e1b414c3a13efa9faae0\n",
       "374853       374853  1456f3df3699b06c1380521de69a4820\n",
       "620622       620622  ca171257d68207c9a75fa4ce5220d065\n",
       "867298       867298  bbf29d7dc67b5db8bcbed40ce4b070ad\n",
       "740124       740124  9e95f9d655d9eefa6a12e7cfcad9d1f4"
      ]
     },
     "execution_count": 22,
     "metadata": {},
     "output_type": "execute_result"
    }
   ],
   "source": [
    "df.sample(5)"
   ]
  },
  {
   "cell_type": "code",
   "execution_count": 23,
   "id": "066c07be",
   "metadata": {},
   "outputs": [
    {
     "name": "stdout",
     "output_type": "stream",
     "text": [
      "<class 'pandas.core.frame.DataFrame'>\n",
      "RangeIndex: 876145 entries, 0 to 876144\n",
      "Data columns (total 2 columns):\n",
      " #   Column       Non-Null Count   Dtype \n",
      "---  ------       --------------   ----- \n",
      " 0   user_id_csv  876145 non-null  int64 \n",
      " 1   user_id      876145 non-null  object\n",
      "dtypes: int64(1), object(1)\n",
      "memory usage: 13.4+ MB\n"
     ]
    }
   ],
   "source": [
    "df.info()"
   ]
  },
  {
   "cell_type": "code",
   "execution_count": 24,
   "id": "4d6557ce",
   "metadata": {},
   "outputs": [
    {
     "data": {
      "text/plain": [
       "np.int64(0)"
      ]
     },
     "execution_count": 24,
     "metadata": {},
     "output_type": "execute_result"
    }
   ],
   "source": [
    "(df[\"user_id\"] == \"\").sum()"
   ]
  },
  {
   "cell_type": "code",
   "execution_count": 25,
   "id": "91628e8a",
   "metadata": {},
   "outputs": [
    {
     "data": {
      "text/plain": [
       "np.int64(0)"
      ]
     },
     "execution_count": 25,
     "metadata": {},
     "output_type": "execute_result"
    }
   ],
   "source": [
    "df[\"user_id_csv\"].isna().sum()"
   ]
  },
  {
   "cell_type": "code",
   "execution_count": 26,
   "id": "0c24a4d1",
   "metadata": {},
   "outputs": [
    {
     "data": {
      "text/plain": [
       "np.int64(0)"
      ]
     },
     "execution_count": 26,
     "metadata": {},
     "output_type": "execute_result"
    }
   ],
   "source": [
    "df[\"user_id\"].duplicated().sum()"
   ]
  },
  {
   "cell_type": "code",
   "execution_count": 27,
   "id": "923a913e",
   "metadata": {},
   "outputs": [
    {
     "data": {
      "text/plain": [
       "np.int64(0)"
      ]
     },
     "execution_count": 27,
     "metadata": {},
     "output_type": "execute_result"
    }
   ],
   "source": [
    "df[\"user_id_csv\"].duplicated().sum()"
   ]
  },
  {
   "cell_type": "code",
   "execution_count": 28,
   "id": "d7d59765",
   "metadata": {},
   "outputs": [
    {
     "data": {
      "text/plain": [
       "count    876145.000000\n",
       "mean     438072.000000\n",
       "std      252921.420137\n",
       "min           0.000000\n",
       "25%      219036.000000\n",
       "50%      438072.000000\n",
       "75%      657108.000000\n",
       "max      876144.000000\n",
       "Name: user_id_csv, dtype: float64"
      ]
     },
     "execution_count": 28,
     "metadata": {},
     "output_type": "execute_result"
    }
   ],
   "source": [
    "df[\"user_id_csv\"].describe()"
   ]
  },
  {
   "cell_type": "markdown",
   "id": "5b84a53b",
   "metadata": {},
   "source": [
    "### Transformación\n",
    "1. Correción de posibles errores en `user_id`.\n",
    "2. Transformación de tipos de datos."
   ]
  },
  {
   "cell_type": "code",
   "execution_count": 29,
   "id": "842a6874",
   "metadata": {},
   "outputs": [],
   "source": [
    "df[\"user_id\"] = df[\"user_id\"].str.replace(r\"\\s+\", \"\", regex=True)"
   ]
  },
  {
   "cell_type": "code",
   "execution_count": null,
   "id": "c8e54079",
   "metadata": {},
   "outputs": [],
   "source": [
    "df[\"user_id\"] = df[\"user_id\"].astype(\"string\")\n",
    "df[\"user_id_csv\"] = df[\"user_id_csv\"].astype(np.uint32)"
   ]
  },
  {
   "cell_type": "code",
   "execution_count": 32,
   "id": "836262b9",
   "metadata": {},
   "outputs": [
    {
     "name": "stdout",
     "output_type": "stream",
     "text": [
      "<class 'pandas.core.frame.DataFrame'>\n",
      "RangeIndex: 876145 entries, 0 to 876144\n",
      "Data columns (total 2 columns):\n",
      " #   Column       Non-Null Count   Dtype \n",
      "---  ------       --------------   ----- \n",
      " 0   user_id_csv  876145 non-null  uint32\n",
      " 1   user_id      876145 non-null  string\n",
      "dtypes: string(1), uint32(1)\n",
      "memory usage: 10.0 MB\n"
     ]
    }
   ],
   "source": [
    "df.info()"
   ]
  }
 ],
 "metadata": {
  "kernelspec": {
   "display_name": "ks-tfm.venv",
   "language": "python",
   "name": "python3"
  },
  "language_info": {
   "codemirror_mode": {
    "name": "ipython",
    "version": 3
   },
   "file_extension": ".py",
   "mimetype": "text/x-python",
   "name": "python",
   "nbconvert_exporter": "python",
   "pygments_lexer": "ipython3",
   "version": "3.12.7"
  }
 },
 "nbformat": 4,
 "nbformat_minor": 5
}
