{
 "cells": [
  {
   "cell_type": "code",
   "execution_count": 23,
   "id": "0c0403a6",
   "metadata": {},
   "outputs": [
    {
     "data": {
      "text/plain": [
       "'goodreads_interactions_dedup'"
      ]
     },
     "execution_count": 23,
     "metadata": {},
     "output_type": "execute_result"
    }
   ],
   "source": [
    "from core.goodreads import GoodReadsData\n",
    "import gc\n",
    "\n",
    "goodreads = GoodReadsData()\n",
    "filename = goodreads.file_names[11]\n",
    "filename"
   ]
  },
  {
   "cell_type": "code",
   "execution_count": 24,
   "id": "89924a41",
   "metadata": {},
   "outputs": [
    {
     "data": {
      "text/plain": [
       "0"
      ]
     },
     "execution_count": 24,
     "metadata": {},
     "output_type": "execute_result"
    }
   ],
   "source": [
    "gc.collect()"
   ]
  },
  {
   "cell_type": "markdown",
   "id": "88c9c0e2",
   "metadata": {},
   "source": [
    "# Análisis de `goodreads_interactions_dedup`"
   ]
  },
  {
   "cell_type": "code",
   "execution_count": 25,
   "id": "85adf7d9",
   "metadata": {},
   "outputs": [],
   "source": [
    "import os\n",
    "import numpy as np\n",
    "import pandas as pd"
   ]
  },
  {
   "cell_type": "code",
   "execution_count": 26,
   "id": "38324848",
   "metadata": {},
   "outputs": [
    {
     "data": {
      "text/plain": [
       "228648342"
      ]
     },
     "execution_count": 26,
     "metadata": {},
     "output_type": "execute_result"
    }
   ],
   "source": [
    "# Download\n",
    "if not os.path.exists(goodreads.get_file_path(filename)):\n",
    "    goodreads.download_file(filename)\n",
    "    \n",
    "goodreads.count_samples(filename)"
   ]
  },
  {
   "cell_type": "code",
   "execution_count": 27,
   "id": "c3446913",
   "metadata": {},
   "outputs": [],
   "source": [
    "df = goodreads.load_file_range(filename, (0, 99999))"
   ]
  },
  {
   "cell_type": "markdown",
   "id": "b6bcedd7",
   "metadata": {},
   "source": [
    "### Análisis\n",
    "1. Comprensión de datos\n",
    "2. Detección de valores `nan`\n",
    "3. Detección de erroes\n",
    "4. Detección de duplicados"
   ]
  },
  {
   "cell_type": "code",
   "execution_count": 28,
   "id": "159bc842",
   "metadata": {},
   "outputs": [
    {
     "data": {
      "text/html": [
       "<div>\n",
       "<style scoped>\n",
       "    .dataframe tbody tr th:only-of-type {\n",
       "        vertical-align: middle;\n",
       "    }\n",
       "\n",
       "    .dataframe tbody tr th {\n",
       "        vertical-align: top;\n",
       "    }\n",
       "\n",
       "    .dataframe thead th {\n",
       "        text-align: right;\n",
       "    }\n",
       "</style>\n",
       "<table border=\"1\" class=\"dataframe\">\n",
       "  <thead>\n",
       "    <tr style=\"text-align: right;\">\n",
       "      <th></th>\n",
       "      <th>user_id</th>\n",
       "      <th>book_id</th>\n",
       "      <th>review_id</th>\n",
       "      <th>is_read</th>\n",
       "      <th>rating</th>\n",
       "      <th>review_text_incomplete</th>\n",
       "      <th>date_added</th>\n",
       "      <th>date_updated</th>\n",
       "      <th>read_at</th>\n",
       "      <th>started_at</th>\n",
       "    </tr>\n",
       "  </thead>\n",
       "  <tbody>\n",
       "    <tr>\n",
       "      <th>86501</th>\n",
       "      <td>0757e6c8076682b47d9d4dcebb6db776</td>\n",
       "      <td>17446940</td>\n",
       "      <td>4c85265afb14ccbd32784df82c89da35</td>\n",
       "      <td>False</td>\n",
       "      <td>0</td>\n",
       "      <td></td>\n",
       "      <td>Mon May 13 11:13:23 -0700 2013</td>\n",
       "      <td>Mon May 13 11:13:25 -0700 2013</td>\n",
       "      <td></td>\n",
       "      <td></td>\n",
       "    </tr>\n",
       "    <tr>\n",
       "      <th>18321</th>\n",
       "      <td>83d6e6f80d7c32c6676b3ab3b01543cd</td>\n",
       "      <td>30233042</td>\n",
       "      <td>66fcfaf786226e1eb656e7d7c8f9df54</td>\n",
       "      <td>False</td>\n",
       "      <td>0</td>\n",
       "      <td></td>\n",
       "      <td>Wed Dec 28 03:58:46 -0800 2016</td>\n",
       "      <td>Wed Dec 28 03:58:46 -0800 2016</td>\n",
       "      <td></td>\n",
       "      <td></td>\n",
       "    </tr>\n",
       "    <tr>\n",
       "      <th>84566</th>\n",
       "      <td>601509eb575b04b62a647536033e5c98</td>\n",
       "      <td>22752758</td>\n",
       "      <td>af3cec4fc5f87d8643b5c4ca090662ab</td>\n",
       "      <td>False</td>\n",
       "      <td>0</td>\n",
       "      <td></td>\n",
       "      <td>Fri Jan 01 11:19:59 -0800 2016</td>\n",
       "      <td>Fri Jan 01 11:19:59 -0800 2016</td>\n",
       "      <td></td>\n",
       "      <td></td>\n",
       "    </tr>\n",
       "    <tr>\n",
       "      <th>26174</th>\n",
       "      <td>7f3fb103a5597aae9ff34e5ac49a77bb</td>\n",
       "      <td>59263</td>\n",
       "      <td>95d635b2e50c9182e342bcc0f7c525bc</td>\n",
       "      <td>True</td>\n",
       "      <td>4</td>\n",
       "      <td></td>\n",
       "      <td>Mon Jul 09 20:07:32 -0700 2012</td>\n",
       "      <td>Mon Jul 09 20:07:40 -0700 2012</td>\n",
       "      <td></td>\n",
       "      <td></td>\n",
       "    </tr>\n",
       "    <tr>\n",
       "      <th>82823</th>\n",
       "      <td>1afe8b35c5e568e95bc17e5b5cdbfd1b</td>\n",
       "      <td>26760091</td>\n",
       "      <td>cc2cdeb31c3ae7f5c748a6a456e7e604</td>\n",
       "      <td>True</td>\n",
       "      <td>4</td>\n",
       "      <td></td>\n",
       "      <td>Sun Jun 05 23:26:33 -0700 2016</td>\n",
       "      <td>Sun Jun 12 23:21:06 -0700 2016</td>\n",
       "      <td>Sun Jun 12 23:21:05 -0700 2016</td>\n",
       "      <td>Sun Jun 05 23:26:34 -0700 2016</td>\n",
       "    </tr>\n",
       "  </tbody>\n",
       "</table>\n",
       "</div>"
      ],
      "text/plain": [
       "                                user_id   book_id  \\\n",
       "86501  0757e6c8076682b47d9d4dcebb6db776  17446940   \n",
       "18321  83d6e6f80d7c32c6676b3ab3b01543cd  30233042   \n",
       "84566  601509eb575b04b62a647536033e5c98  22752758   \n",
       "26174  7f3fb103a5597aae9ff34e5ac49a77bb     59263   \n",
       "82823  1afe8b35c5e568e95bc17e5b5cdbfd1b  26760091   \n",
       "\n",
       "                              review_id  is_read  rating  \\\n",
       "86501  4c85265afb14ccbd32784df82c89da35    False       0   \n",
       "18321  66fcfaf786226e1eb656e7d7c8f9df54    False       0   \n",
       "84566  af3cec4fc5f87d8643b5c4ca090662ab    False       0   \n",
       "26174  95d635b2e50c9182e342bcc0f7c525bc     True       4   \n",
       "82823  cc2cdeb31c3ae7f5c748a6a456e7e604     True       4   \n",
       "\n",
       "      review_text_incomplete                      date_added  \\\n",
       "86501                         Mon May 13 11:13:23 -0700 2013   \n",
       "18321                         Wed Dec 28 03:58:46 -0800 2016   \n",
       "84566                         Fri Jan 01 11:19:59 -0800 2016   \n",
       "26174                         Mon Jul 09 20:07:32 -0700 2012   \n",
       "82823                         Sun Jun 05 23:26:33 -0700 2016   \n",
       "\n",
       "                         date_updated                         read_at  \\\n",
       "86501  Mon May 13 11:13:25 -0700 2013                                   \n",
       "18321  Wed Dec 28 03:58:46 -0800 2016                                   \n",
       "84566  Fri Jan 01 11:19:59 -0800 2016                                   \n",
       "26174  Mon Jul 09 20:07:40 -0700 2012                                   \n",
       "82823  Sun Jun 12 23:21:06 -0700 2016  Sun Jun 12 23:21:05 -0700 2016   \n",
       "\n",
       "                           started_at  \n",
       "86501                                  \n",
       "18321                                  \n",
       "84566                                  \n",
       "26174                                  \n",
       "82823  Sun Jun 05 23:26:34 -0700 2016  "
      ]
     },
     "execution_count": 28,
     "metadata": {},
     "output_type": "execute_result"
    }
   ],
   "source": [
    "df.sample(5)"
   ]
  },
  {
   "cell_type": "code",
   "execution_count": 29,
   "id": "d6b6d855",
   "metadata": {},
   "outputs": [
    {
     "name": "stdout",
     "output_type": "stream",
     "text": [
      "<class 'pandas.core.frame.DataFrame'>\n",
      "RangeIndex: 100000 entries, 0 to 99999\n",
      "Data columns (total 10 columns):\n",
      " #   Column                  Non-Null Count   Dtype \n",
      "---  ------                  --------------   ----- \n",
      " 0   user_id                 100000 non-null  object\n",
      " 1   book_id                 100000 non-null  object\n",
      " 2   review_id               100000 non-null  object\n",
      " 3   is_read                 100000 non-null  bool  \n",
      " 4   rating                  100000 non-null  int64 \n",
      " 5   review_text_incomplete  100000 non-null  object\n",
      " 6   date_added              100000 non-null  object\n",
      " 7   date_updated            100000 non-null  object\n",
      " 8   read_at                 100000 non-null  object\n",
      " 9   started_at              100000 non-null  object\n",
      "dtypes: bool(1), int64(1), object(8)\n",
      "memory usage: 7.0+ MB\n"
     ]
    }
   ],
   "source": [
    "df.info()"
   ]
  },
  {
   "cell_type": "code",
   "execution_count": 30,
   "id": "e14a2139",
   "metadata": {},
   "outputs": [
    {
     "data": {
      "text/plain": [
       "user_id                   0\n",
       "book_id                   0\n",
       "review_id                 0\n",
       "is_read                   0\n",
       "rating                    0\n",
       "review_text_incomplete    0\n",
       "date_added                0\n",
       "date_updated              0\n",
       "read_at                   0\n",
       "started_at                0\n",
       "dtype: int64"
      ]
     },
     "execution_count": 30,
     "metadata": {},
     "output_type": "execute_result"
    }
   ],
   "source": [
    "df.isna().sum()"
   ]
  },
  {
   "cell_type": "code",
   "execution_count": 31,
   "id": "0bf81288",
   "metadata": {},
   "outputs": [
    {
     "data": {
      "text/plain": [
       "user_id                       0\n",
       "book_id                       0\n",
       "review_id                     0\n",
       "is_read                       0\n",
       "rating                        0\n",
       "review_text_incomplete    91708\n",
       "date_added                    0\n",
       "date_updated                  0\n",
       "read_at                   79258\n",
       "started_at                83045\n",
       "dtype: int64"
      ]
     },
     "execution_count": 31,
     "metadata": {},
     "output_type": "execute_result"
    }
   ],
   "source": [
    "(df == \"\").sum()"
   ]
  },
  {
   "cell_type": "code",
   "execution_count": 32,
   "id": "47bc1a09",
   "metadata": {},
   "outputs": [
    {
     "data": {
      "text/plain": [
       "62193    I'm beginning to think there isn't a celebrity...\n",
       "20013    This is a terrific collection, full of stories...\n",
       "83747                     put on self finish it up someday\n",
       "53860    This is probably my third time reading the Chr...\n",
       "689      Seven amazing stories. Each one you think can'...\n",
       "Name: review_text_incomplete, dtype: object"
      ]
     },
     "execution_count": 32,
     "metadata": {},
     "output_type": "execute_result"
    }
   ],
   "source": [
    "df.loc[df[\"review_text_incomplete\"]!=\"\", \"review_text_incomplete\"].sample(5)"
   ]
  },
  {
   "cell_type": "code",
   "execution_count": 33,
   "id": "50b10538",
   "metadata": {},
   "outputs": [
    {
     "data": {
      "text/plain": [
       "\"The translation wasn't great--wish I could find it in French--but a true mountaineering classic. The medical treatments after the summit are just plain horrifying.\""
      ]
     },
     "execution_count": 33,
     "metadata": {},
     "output_type": "execute_result"
    }
   ],
   "source": [
    "df.loc[78218, \"review_text_incomplete\"]"
   ]
  },
  {
   "cell_type": "code",
   "execution_count": 34,
   "id": "f5525e5a",
   "metadata": {},
   "outputs": [
    {
     "data": {
      "text/plain": [
       "count    100000.000000\n",
       "mean          1.722180\n",
       "std           2.045776\n",
       "min           0.000000\n",
       "25%           0.000000\n",
       "50%           0.000000\n",
       "75%           4.000000\n",
       "max           5.000000\n",
       "Name: rating, dtype: float64"
      ]
     },
     "execution_count": 34,
     "metadata": {},
     "output_type": "execute_result"
    }
   ],
   "source": [
    "df[\"rating\"].describe()"
   ]
  },
  {
   "cell_type": "markdown",
   "id": "a40cd277",
   "metadata": {},
   "source": [
    "Observamos valores mínimos a 0 que consideraremos como `nan`."
   ]
  },
  {
   "cell_type": "code",
   "execution_count": 35,
   "id": "9d795cc7",
   "metadata": {},
   "outputs": [
    {
     "data": {
      "text/plain": [
       "Timestamp('2006-08-20 02:10:46+0000', tz='UTC')"
      ]
     },
     "execution_count": 35,
     "metadata": {},
     "output_type": "execute_result"
    }
   ],
   "source": [
    "pd.to_datetime(df[\"date_added\"], format=\"%a %b %d %H:%M:%S %z %Y\", utc=True).min()"
   ]
  },
  {
   "cell_type": "code",
   "execution_count": 36,
   "id": "15f8433c",
   "metadata": {},
   "outputs": [
    {
     "data": {
      "text/plain": [
       "Timestamp('2017-10-29 22:26:11+0000', tz='UTC')"
      ]
     },
     "execution_count": 36,
     "metadata": {},
     "output_type": "execute_result"
    }
   ],
   "source": [
    "pd.to_datetime(df[\"date_added\"], format=\"%a %b %d %H:%M:%S %z %Y\", utc=True).max()"
   ]
  },
  {
   "cell_type": "code",
   "execution_count": 37,
   "id": "e21dff39",
   "metadata": {},
   "outputs": [
    {
     "data": {
      "text/plain": [
       "Timestamp('2006-08-29 18:44:38+0000', tz='UTC')"
      ]
     },
     "execution_count": 37,
     "metadata": {},
     "output_type": "execute_result"
    }
   ],
   "source": [
    "pd.to_datetime(df[\"date_updated\"], format=\"%a %b %d %H:%M:%S %z %Y\", utc=True).min()"
   ]
  },
  {
   "cell_type": "code",
   "execution_count": 38,
   "id": "62ee4e8d",
   "metadata": {},
   "outputs": [
    {
     "data": {
      "text/plain": [
       "Timestamp('2017-10-29 22:26:12+0000', tz='UTC')"
      ]
     },
     "execution_count": 38,
     "metadata": {},
     "output_type": "execute_result"
    }
   ],
   "source": [
    "pd.to_datetime(df[\"date_updated\"], format=\"%a %b %d %H:%M:%S %z %Y\", utc=True).max()"
   ]
  },
  {
   "cell_type": "code",
   "execution_count": 39,
   "id": "9f1ee800",
   "metadata": {},
   "outputs": [
    {
     "data": {
      "text/plain": [
       "np.int64(0)"
      ]
     },
     "execution_count": 39,
     "metadata": {},
     "output_type": "execute_result"
    }
   ],
   "source": [
    "df.duplicated([\"review_id\"]).sum()"
   ]
  },
  {
   "cell_type": "markdown",
   "id": "59f00648",
   "metadata": {},
   "source": [
    "### Transformación\n",
    "1. Eliminar columnas que no aportan información.\n",
    "2. Corrección de posibles errores.\n",
    "3. Transformar tipos de datos.\n",
    "4. Incluir `nan`."
   ]
  },
  {
   "cell_type": "code",
   "execution_count": 40,
   "id": "ca9777c4",
   "metadata": {},
   "outputs": [],
   "source": [
    "df.drop(columns=[\"started_at\", \"read_at\"], inplace=True)"
   ]
  },
  {
   "cell_type": "code",
   "execution_count": 41,
   "id": "4c6fc553",
   "metadata": {},
   "outputs": [],
   "source": [
    "df[\"user_id\"] = df[\"user_id\"].str.replace(r\"\\s+\", \"\", regex=True)\n",
    "df[\"review_id\"] = df[\"review_id\"].str.replace(r\"\\s+\", \"\", regex=True)\n",
    "df[\"review_text_incomplete\"] = df[\"review_text_incomplete\"].str.strip()"
   ]
  },
  {
   "cell_type": "code",
   "execution_count": 42,
   "id": "feae4739",
   "metadata": {},
   "outputs": [],
   "source": [
    "rti_nan = df[\"review_text_incomplete\"] == \"\"\n",
    "r_nan = df[\"rating\"] == 0"
   ]
  },
  {
   "cell_type": "code",
   "execution_count": 43,
   "id": "e9120359",
   "metadata": {},
   "outputs": [],
   "source": [
    "df[\"user_id\"] = df[\"user_id\"].astype(\"string\")\n",
    "df[\"review_id\"] = df[\"review_id\"].astype(\"string\")\n",
    "df[\"review_text_incomplete\"] = df[\"review_text_incomplete\"].astype(\"string\")\n",
    "df[\"book_id\"] = df[\"book_id\"].astype(np.uint32)\n",
    "df[\"date_added\"] = pd.to_datetime(df[\"date_added\"], format=\"%a %b %d %H:%M:%S %z %Y\", utc=True)\n",
    "df[\"date_updated\"] = pd.to_datetime(df[\"date_updated\"], format=\"%a %b %d %H:%M:%S %z %Y\", utc=True)\n",
    "df[\"book_id\"] = df[\"book_id\"].astype(np.uint8)"
   ]
  },
  {
   "cell_type": "code",
   "execution_count": 44,
   "id": "b7a6b640",
   "metadata": {},
   "outputs": [
    {
     "data": {
      "text/plain": [
       "user_id                       0\n",
       "book_id                       0\n",
       "review_id                     0\n",
       "is_read                       0\n",
       "rating                    55955\n",
       "review_text_incomplete    91708\n",
       "date_added                    0\n",
       "date_updated                  0\n",
       "dtype: int64"
      ]
     },
     "execution_count": 44,
     "metadata": {},
     "output_type": "execute_result"
    }
   ],
   "source": [
    "df.loc[rti_nan, \"review_text_incomplete\"] = np.nan\n",
    "df.loc[r_nan, \"rating\"] = np.nan\n",
    "\n",
    "df.isna().sum()"
   ]
  },
  {
   "cell_type": "code",
   "execution_count": 45,
   "id": "5b0aacff",
   "metadata": {},
   "outputs": [
    {
     "name": "stdout",
     "output_type": "stream",
     "text": [
      "<class 'pandas.core.frame.DataFrame'>\n",
      "RangeIndex: 100000 entries, 0 to 99999\n",
      "Data columns (total 8 columns):\n",
      " #   Column                  Non-Null Count   Dtype              \n",
      "---  ------                  --------------   -----              \n",
      " 0   user_id                 100000 non-null  string             \n",
      " 1   book_id                 100000 non-null  uint8              \n",
      " 2   review_id               100000 non-null  string             \n",
      " 3   is_read                 100000 non-null  bool               \n",
      " 4   rating                  44045 non-null   float64            \n",
      " 5   review_text_incomplete  8292 non-null    string             \n",
      " 6   date_added              100000 non-null  datetime64[ns, UTC]\n",
      " 7   date_updated            100000 non-null  datetime64[ns, UTC]\n",
      "dtypes: bool(1), datetime64[ns, UTC](2), float64(1), string(3), uint8(1)\n",
      "memory usage: 4.8 MB\n"
     ]
    }
   ],
   "source": [
    "df.info()"
   ]
  }
 ],
 "metadata": {
  "kernelspec": {
   "display_name": "ks-tfm.venv",
   "language": "python",
   "name": "python3"
  },
  "language_info": {
   "codemirror_mode": {
    "name": "ipython",
    "version": 3
   },
   "file_extension": ".py",
   "mimetype": "text/x-python",
   "name": "python",
   "nbconvert_exporter": "python",
   "pygments_lexer": "ipython3",
   "version": "3.12.7"
  }
 },
 "nbformat": 4,
 "nbformat_minor": 5
}
