{
 "cells": [
  {
   "cell_type": "code",
   "execution_count": 19,
   "id": "0f2ac045",
   "metadata": {},
   "outputs": [
    {
     "data": {
      "text/plain": [
       "'goodreads_reviews_dedup'"
      ]
     },
     "execution_count": 19,
     "metadata": {},
     "output_type": "execute_result"
    }
   ],
   "source": [
    "from core.goodreads import GoodReadsData\n",
    "import gc\n",
    "\n",
    "goodreads = GoodReadsData()\n",
    "filename = goodreads.file_names[5]\n",
    "filename"
   ]
  },
  {
   "cell_type": "code",
   "execution_count": 20,
   "id": "ce1a0686",
   "metadata": {},
   "outputs": [
    {
     "data": {
      "text/plain": [
       "11"
      ]
     },
     "execution_count": 20,
     "metadata": {},
     "output_type": "execute_result"
    }
   ],
   "source": [
    "gc.collect()"
   ]
  },
  {
   "cell_type": "markdown",
   "id": "c47b827f",
   "metadata": {},
   "source": [
    "# Análisis de `goodreads_reviews_dedup`"
   ]
  },
  {
   "cell_type": "code",
   "execution_count": 21,
   "id": "430c8dfa",
   "metadata": {},
   "outputs": [],
   "source": [
    "import os\n",
    "import numpy as np\n",
    "import pandas as pd"
   ]
  },
  {
   "cell_type": "code",
   "execution_count": 22,
   "id": "a6fa0dff",
   "metadata": {},
   "outputs": [
    {
     "data": {
      "text/plain": [
       "15739967"
      ]
     },
     "execution_count": 22,
     "metadata": {},
     "output_type": "execute_result"
    }
   ],
   "source": [
    "# Download\n",
    "if not os.path.exists(goodreads.get_file_path(filename)):\n",
    "    goodreads.download_file(filename)\n",
    "    \n",
    "goodreads.count_samples(filename)"
   ]
  },
  {
   "cell_type": "code",
   "execution_count": 23,
   "id": "5bb385d1",
   "metadata": {},
   "outputs": [],
   "source": [
    "# Load\n",
    "df = goodreads.load_file_range(filename, (0, 99999))"
   ]
  },
  {
   "cell_type": "markdown",
   "id": "fe754811",
   "metadata": {},
   "source": [
    "### Análisis\n",
    "1. Comprensión de datos.\n",
    "2. Detección de valores `nan` ocultos.\n",
    "3. Detección de errores o incongruencias.\n",
    "4. Detección de duplicados"
   ]
  },
  {
   "cell_type": "code",
   "execution_count": 24,
   "id": "268c4056",
   "metadata": {},
   "outputs": [
    {
     "data": {
      "text/html": [
       "<div>\n",
       "<style scoped>\n",
       "    .dataframe tbody tr th:only-of-type {\n",
       "        vertical-align: middle;\n",
       "    }\n",
       "\n",
       "    .dataframe tbody tr th {\n",
       "        vertical-align: top;\n",
       "    }\n",
       "\n",
       "    .dataframe thead th {\n",
       "        text-align: right;\n",
       "    }\n",
       "</style>\n",
       "<table border=\"1\" class=\"dataframe\">\n",
       "  <thead>\n",
       "    <tr style=\"text-align: right;\">\n",
       "      <th></th>\n",
       "      <th>user_id</th>\n",
       "      <th>book_id</th>\n",
       "      <th>review_id</th>\n",
       "      <th>rating</th>\n",
       "      <th>review_text</th>\n",
       "      <th>date_added</th>\n",
       "      <th>date_updated</th>\n",
       "      <th>read_at</th>\n",
       "      <th>started_at</th>\n",
       "      <th>n_votes</th>\n",
       "      <th>n_comments</th>\n",
       "    </tr>\n",
       "  </thead>\n",
       "  <tbody>\n",
       "    <tr>\n",
       "      <th>30188</th>\n",
       "      <td>246eac0ca4d02e73d8768a5acb9b89d7</td>\n",
       "      <td>562933</td>\n",
       "      <td>4eb22d1d5cd709bd3e8e1385546c8d0c</td>\n",
       "      <td>2</td>\n",
       "      <td>We used 6 of the Arch Book series for Easter c...</td>\n",
       "      <td>Tue Feb 07 10:33:27 -0800 2017</td>\n",
       "      <td>Fri Jul 14 16:46:10 -0700 2017</td>\n",
       "      <td></td>\n",
       "      <td>Tue Feb 07 00:00:00 -0800 2017</td>\n",
       "      <td>0</td>\n",
       "      <td>0</td>\n",
       "    </tr>\n",
       "    <tr>\n",
       "      <th>31706</th>\n",
       "      <td>037c382333b7084ccee4cdec7401de90</td>\n",
       "      <td>18584807</td>\n",
       "      <td>0ef0105953832438235ed568659c5c39</td>\n",
       "      <td>3</td>\n",
       "      <td>Lindsey Sommerfield lost her parents at an ear...</td>\n",
       "      <td>Sat May 03 11:30:45 -0700 2014</td>\n",
       "      <td>Sun Apr 05 16:00:12 -0700 2015</td>\n",
       "      <td>Mon May 19 00:00:00 -0700 2014</td>\n",
       "      <td>Mon May 19 00:00:00 -0700 2014</td>\n",
       "      <td>0</td>\n",
       "      <td>0</td>\n",
       "    </tr>\n",
       "    <tr>\n",
       "      <th>70460</th>\n",
       "      <td>b56a79469299b9dd55288709dfc9c46c</td>\n",
       "      <td>13344505</td>\n",
       "      <td>4f47703ad21e0be56f3f0e5e196c774c</td>\n",
       "      <td>5</td>\n",
       "      <td>Okay, I cried in rounds on this book. If you'v...</td>\n",
       "      <td>Fri Sep 14 14:34:50 -0700 2012</td>\n",
       "      <td>Tue Sep 18 16:18:40 -0700 2012</td>\n",
       "      <td>Mon Sep 17 00:00:00 -0700 2012</td>\n",
       "      <td>Fri Sep 14 00:00:00 -0700 2012</td>\n",
       "      <td>0</td>\n",
       "      <td>1</td>\n",
       "    </tr>\n",
       "    <tr>\n",
       "      <th>84515</th>\n",
       "      <td>b8f6bbbd16b9f5dc8b3eea199386d0d2</td>\n",
       "      <td>16299</td>\n",
       "      <td>d3a1648030164510741be0d4f882197c</td>\n",
       "      <td>3</td>\n",
       "      <td>I tried this out - since a friend gave it a 5 ...</td>\n",
       "      <td>Mon Oct 07 10:13:23 -0700 2013</td>\n",
       "      <td>Mon Oct 07 10:16:31 -0700 2013</td>\n",
       "      <td>Mon Oct 07 10:16:31 -0700 2013</td>\n",
       "      <td>Mon Oct 07 00:00:00 -0700 2013</td>\n",
       "      <td>0</td>\n",
       "      <td>0</td>\n",
       "    </tr>\n",
       "    <tr>\n",
       "      <th>89120</th>\n",
       "      <td>37b3e60b4e4152c580fd798d405150ff</td>\n",
       "      <td>6742166</td>\n",
       "      <td>9a48b296080dca2b4e58ff457216a362</td>\n",
       "      <td>4</td>\n",
       "      <td>The first issue is phenomenal. The rest is a g...</td>\n",
       "      <td>Thu Jul 11 15:19:09 -0700 2013</td>\n",
       "      <td>Thu Jul 11 15:19:43 -0700 2013</td>\n",
       "      <td>Sun Jul 17 00:00:00 -0700 2011</td>\n",
       "      <td></td>\n",
       "      <td>0</td>\n",
       "      <td>0</td>\n",
       "    </tr>\n",
       "  </tbody>\n",
       "</table>\n",
       "</div>"
      ],
      "text/plain": [
       "                                user_id   book_id  \\\n",
       "30188  246eac0ca4d02e73d8768a5acb9b89d7    562933   \n",
       "31706  037c382333b7084ccee4cdec7401de90  18584807   \n",
       "70460  b56a79469299b9dd55288709dfc9c46c  13344505   \n",
       "84515  b8f6bbbd16b9f5dc8b3eea199386d0d2     16299   \n",
       "89120  37b3e60b4e4152c580fd798d405150ff   6742166   \n",
       "\n",
       "                              review_id  rating  \\\n",
       "30188  4eb22d1d5cd709bd3e8e1385546c8d0c       2   \n",
       "31706  0ef0105953832438235ed568659c5c39       3   \n",
       "70460  4f47703ad21e0be56f3f0e5e196c774c       5   \n",
       "84515  d3a1648030164510741be0d4f882197c       3   \n",
       "89120  9a48b296080dca2b4e58ff457216a362       4   \n",
       "\n",
       "                                             review_text  \\\n",
       "30188  We used 6 of the Arch Book series for Easter c...   \n",
       "31706  Lindsey Sommerfield lost her parents at an ear...   \n",
       "70460  Okay, I cried in rounds on this book. If you'v...   \n",
       "84515  I tried this out - since a friend gave it a 5 ...   \n",
       "89120  The first issue is phenomenal. The rest is a g...   \n",
       "\n",
       "                           date_added                    date_updated  \\\n",
       "30188  Tue Feb 07 10:33:27 -0800 2017  Fri Jul 14 16:46:10 -0700 2017   \n",
       "31706  Sat May 03 11:30:45 -0700 2014  Sun Apr 05 16:00:12 -0700 2015   \n",
       "70460  Fri Sep 14 14:34:50 -0700 2012  Tue Sep 18 16:18:40 -0700 2012   \n",
       "84515  Mon Oct 07 10:13:23 -0700 2013  Mon Oct 07 10:16:31 -0700 2013   \n",
       "89120  Thu Jul 11 15:19:09 -0700 2013  Thu Jul 11 15:19:43 -0700 2013   \n",
       "\n",
       "                              read_at                      started_at  \\\n",
       "30188                                  Tue Feb 07 00:00:00 -0800 2017   \n",
       "31706  Mon May 19 00:00:00 -0700 2014  Mon May 19 00:00:00 -0700 2014   \n",
       "70460  Mon Sep 17 00:00:00 -0700 2012  Fri Sep 14 00:00:00 -0700 2012   \n",
       "84515  Mon Oct 07 10:16:31 -0700 2013  Mon Oct 07 00:00:00 -0700 2013   \n",
       "89120  Sun Jul 17 00:00:00 -0700 2011                                   \n",
       "\n",
       "       n_votes  n_comments  \n",
       "30188        0           0  \n",
       "31706        0           0  \n",
       "70460        0           1  \n",
       "84515        0           0  \n",
       "89120        0           0  "
      ]
     },
     "execution_count": 24,
     "metadata": {},
     "output_type": "execute_result"
    }
   ],
   "source": [
    "df.sample(5)"
   ]
  },
  {
   "cell_type": "code",
   "execution_count": 25,
   "id": "17501edf",
   "metadata": {},
   "outputs": [
    {
     "name": "stdout",
     "output_type": "stream",
     "text": [
      "<class 'pandas.core.frame.DataFrame'>\n",
      "RangeIndex: 100000 entries, 0 to 99999\n",
      "Data columns (total 11 columns):\n",
      " #   Column        Non-Null Count   Dtype \n",
      "---  ------        --------------   ----- \n",
      " 0   user_id       100000 non-null  object\n",
      " 1   book_id       100000 non-null  object\n",
      " 2   review_id     100000 non-null  object\n",
      " 3   rating        100000 non-null  int64 \n",
      " 4   review_text   100000 non-null  object\n",
      " 5   date_added    100000 non-null  object\n",
      " 6   date_updated  100000 non-null  object\n",
      " 7   read_at       100000 non-null  object\n",
      " 8   started_at    100000 non-null  object\n",
      " 9   n_votes       100000 non-null  int64 \n",
      " 10  n_comments    100000 non-null  int64 \n",
      "dtypes: int64(3), object(8)\n",
      "memory usage: 8.4+ MB\n"
     ]
    }
   ],
   "source": [
    "df.info()"
   ]
  },
  {
   "cell_type": "code",
   "execution_count": 26,
   "id": "4568d416",
   "metadata": {},
   "outputs": [
    {
     "data": {
      "text/plain": [
       "user_id             0\n",
       "book_id             0\n",
       "review_id           0\n",
       "rating              0\n",
       "review_text        32\n",
       "date_added          0\n",
       "date_updated        0\n",
       "read_at         17363\n",
       "started_at      49587\n",
       "n_votes             0\n",
       "n_comments          0\n",
       "dtype: int64"
      ]
     },
     "execution_count": 26,
     "metadata": {},
     "output_type": "execute_result"
    }
   ],
   "source": [
    "(df == \"\").sum()"
   ]
  },
  {
   "cell_type": "code",
   "execution_count": 27,
   "id": "daf4fe1b",
   "metadata": {},
   "outputs": [
    {
     "data": {
      "text/plain": [
       "'This is a special book. It started slow for about the first third, then in the middle third it started to get interesting, then the last third blew my mind. This is what I love about good science fiction - it pushes your thinking about where things can go. \\n It is a 2015 Hugo winner, and translated from its original Chinese, which made it interesting in just a different way from most things I\\'ve read. For instance the intermixing of Chinese revolutionary history - how they kept accusing people of being \"reactionaries\", etc. \\n It is a book about science, and aliens. The science described in the book is impressive - its a book grounded in physics and pretty accurate as far as I could tell. Though when it got to folding protons into 8 dimensions I think he was just making stuff up - interesting to think about though. \\n But what would happen if our SETI stations received a message - if we found someone was out there - and the person monitoring and answering the signal on our side was disillusioned? That part of the book was a bit dark - I would like to think human reaction to discovering alien civilization that is hostile would be more like Enders Game where we would band together. \\n I did like how the book unveiled the Trisolaran culture through the game. It was a smart way to build empathy with them and also understand what they\\'ve gone through across so many centuries. And who know a 3 body problem was an unsolvable math problem? But I still don\\'t get who made the game - maybe that will come in the next book. \\n I loved this quote: \\n \"In the long history of scientific progress, how many protons have been smashed apart in accelerators by physicists? How many neutrons and electrons? Probably no fewer than a hundred million. Every collision was probably the end of the civilizations and intelligences in a microcosmos. In fact, even in nature, the destruction of universes must be happening at every second--for example, through the decay of neutrons. Also, a high-energy cosmic ray entering the atmosphere may destroy thousands of such miniature universes....\"'"
      ]
     },
     "execution_count": 27,
     "metadata": {},
     "output_type": "execute_result"
    }
   ],
   "source": [
    "df.loc[1, \"review_text\"]"
   ]
  },
  {
   "cell_type": "code",
   "execution_count": 28,
   "id": "20cd5c53",
   "metadata": {},
   "outputs": [
    {
     "data": {
      "text/html": [
       "<div>\n",
       "<style scoped>\n",
       "    .dataframe tbody tr th:only-of-type {\n",
       "        vertical-align: middle;\n",
       "    }\n",
       "\n",
       "    .dataframe tbody tr th {\n",
       "        vertical-align: top;\n",
       "    }\n",
       "\n",
       "    .dataframe thead th {\n",
       "        text-align: right;\n",
       "    }\n",
       "</style>\n",
       "<table border=\"1\" class=\"dataframe\">\n",
       "  <thead>\n",
       "    <tr style=\"text-align: right;\">\n",
       "      <th></th>\n",
       "      <th>rating</th>\n",
       "      <th>n_votes</th>\n",
       "      <th>n_comments</th>\n",
       "    </tr>\n",
       "  </thead>\n",
       "  <tbody>\n",
       "    <tr>\n",
       "      <th>count</th>\n",
       "      <td>100000.000000</td>\n",
       "      <td>100000.00000</td>\n",
       "      <td>100000.000000</td>\n",
       "    </tr>\n",
       "    <tr>\n",
       "      <th>mean</th>\n",
       "      <td>3.687550</td>\n",
       "      <td>0.96629</td>\n",
       "      <td>0.234800</td>\n",
       "    </tr>\n",
       "    <tr>\n",
       "      <th>std</th>\n",
       "      <td>1.226303</td>\n",
       "      <td>6.66289</td>\n",
       "      <td>1.579764</td>\n",
       "    </tr>\n",
       "    <tr>\n",
       "      <th>min</th>\n",
       "      <td>0.000000</td>\n",
       "      <td>-1.00000</td>\n",
       "      <td>0.000000</td>\n",
       "    </tr>\n",
       "    <tr>\n",
       "      <th>25%</th>\n",
       "      <td>3.000000</td>\n",
       "      <td>0.00000</td>\n",
       "      <td>0.000000</td>\n",
       "    </tr>\n",
       "    <tr>\n",
       "      <th>50%</th>\n",
       "      <td>4.000000</td>\n",
       "      <td>0.00000</td>\n",
       "      <td>0.000000</td>\n",
       "    </tr>\n",
       "    <tr>\n",
       "      <th>75%</th>\n",
       "      <td>5.000000</td>\n",
       "      <td>1.00000</td>\n",
       "      <td>0.000000</td>\n",
       "    </tr>\n",
       "    <tr>\n",
       "      <th>max</th>\n",
       "      <td>5.000000</td>\n",
       "      <td>1283.00000</td>\n",
       "      <td>231.000000</td>\n",
       "    </tr>\n",
       "  </tbody>\n",
       "</table>\n",
       "</div>"
      ],
      "text/plain": [
       "              rating       n_votes     n_comments\n",
       "count  100000.000000  100000.00000  100000.000000\n",
       "mean        3.687550       0.96629       0.234800\n",
       "std         1.226303       6.66289       1.579764\n",
       "min         0.000000      -1.00000       0.000000\n",
       "25%         3.000000       0.00000       0.000000\n",
       "50%         4.000000       0.00000       0.000000\n",
       "75%         5.000000       1.00000       0.000000\n",
       "max         5.000000    1283.00000     231.000000"
      ]
     },
     "execution_count": 28,
     "metadata": {},
     "output_type": "execute_result"
    }
   ],
   "source": [
    "df[[\"rating\", \"n_votes\", \"n_comments\"]].astype(np.int64).describe()"
   ]
  },
  {
   "cell_type": "code",
   "execution_count": 29,
   "id": "0785c50c",
   "metadata": {},
   "outputs": [
    {
     "data": {
      "text/plain": [
       "np.int64(3196)"
      ]
     },
     "execution_count": 29,
     "metadata": {},
     "output_type": "execute_result"
    }
   ],
   "source": [
    "(df[\"rating\"]==0).sum()"
   ]
  },
  {
   "cell_type": "code",
   "execution_count": 30,
   "id": "758f5ae8",
   "metadata": {},
   "outputs": [
    {
     "data": {
      "text/html": [
       "<div>\n",
       "<style scoped>\n",
       "    .dataframe tbody tr th:only-of-type {\n",
       "        vertical-align: middle;\n",
       "    }\n",
       "\n",
       "    .dataframe tbody tr th {\n",
       "        vertical-align: top;\n",
       "    }\n",
       "\n",
       "    .dataframe thead th {\n",
       "        text-align: right;\n",
       "    }\n",
       "</style>\n",
       "<table border=\"1\" class=\"dataframe\">\n",
       "  <thead>\n",
       "    <tr style=\"text-align: right;\">\n",
       "      <th></th>\n",
       "      <th>user_id</th>\n",
       "      <th>book_id</th>\n",
       "      <th>review_id</th>\n",
       "      <th>rating</th>\n",
       "      <th>review_text</th>\n",
       "      <th>date_added</th>\n",
       "      <th>date_updated</th>\n",
       "      <th>read_at</th>\n",
       "      <th>started_at</th>\n",
       "      <th>n_votes</th>\n",
       "      <th>n_comments</th>\n",
       "    </tr>\n",
       "  </thead>\n",
       "  <tbody>\n",
       "    <tr>\n",
       "      <th>68697</th>\n",
       "      <td>25a66513848dd61de28d48013e128e92</td>\n",
       "      <td>11319360</td>\n",
       "      <td>32481703e2b779215e581ababf59469d</td>\n",
       "      <td>5</td>\n",
       "      <td>First of all, if you haven't already read Gone...</td>\n",
       "      <td>Thu Jul 14 19:21:38 -0700 2011</td>\n",
       "      <td>Mon Nov 03 14:27:34 -0800 2014</td>\n",
       "      <td>Wed Oct 19 00:00:00 -0700 2011</td>\n",
       "      <td>Sun Oct 16 00:00:00 -0700 2011</td>\n",
       "      <td>-1</td>\n",
       "      <td>0</td>\n",
       "    </tr>\n",
       "    <tr>\n",
       "      <th>81536</th>\n",
       "      <td>24c32602f697dfc4cc7634df4e96fa8b</td>\n",
       "      <td>13481792</td>\n",
       "      <td>1346b97af2d59cf8a584221fb836a1c1</td>\n",
       "      <td>5</td>\n",
       "      <td>I believe The Lies Have It is the third in Jil...</td>\n",
       "      <td>Sun Apr 08 11:07:47 -0700 2012</td>\n",
       "      <td>Mon Nov 03 14:32:52 -0800 2014</td>\n",
       "      <td>Sat Apr 07 00:00:00 -0700 2012</td>\n",
       "      <td></td>\n",
       "      <td>-1</td>\n",
       "      <td>0</td>\n",
       "    </tr>\n",
       "  </tbody>\n",
       "</table>\n",
       "</div>"
      ],
      "text/plain": [
       "                                user_id   book_id  \\\n",
       "68697  25a66513848dd61de28d48013e128e92  11319360   \n",
       "81536  24c32602f697dfc4cc7634df4e96fa8b  13481792   \n",
       "\n",
       "                              review_id  rating  \\\n",
       "68697  32481703e2b779215e581ababf59469d       5   \n",
       "81536  1346b97af2d59cf8a584221fb836a1c1       5   \n",
       "\n",
       "                                             review_text  \\\n",
       "68697  First of all, if you haven't already read Gone...   \n",
       "81536  I believe The Lies Have It is the third in Jil...   \n",
       "\n",
       "                           date_added                    date_updated  \\\n",
       "68697  Thu Jul 14 19:21:38 -0700 2011  Mon Nov 03 14:27:34 -0800 2014   \n",
       "81536  Sun Apr 08 11:07:47 -0700 2012  Mon Nov 03 14:32:52 -0800 2014   \n",
       "\n",
       "                              read_at                      started_at  \\\n",
       "68697  Wed Oct 19 00:00:00 -0700 2011  Sun Oct 16 00:00:00 -0700 2011   \n",
       "81536  Sat Apr 07 00:00:00 -0700 2012                                   \n",
       "\n",
       "       n_votes  n_comments  \n",
       "68697       -1           0  \n",
       "81536       -1           0  "
      ]
     },
     "execution_count": 30,
     "metadata": {},
     "output_type": "execute_result"
    }
   ],
   "source": [
    "df.loc[df[\"n_votes\"]<0].head()"
   ]
  },
  {
   "cell_type": "markdown",
   "id": "86c8e7d4",
   "metadata": {},
   "source": [
    "Vemos como hay registros con `rating` = 0, sin embargo, el rating no puede ser inferior a 1 por lo que indicaremos estos valores como `nan`. Al ser `n_votes` un número negativo un dato erróneo, suponemos y asumimos que el valor correcto es el valor absoluto. Además, vemos como tanto `n_votes` como `n_comments` no contienen cifras muy altas, por lo que, **a priori**, con 16 bits será suficiente para representarlos."
   ]
  },
  {
   "cell_type": "code",
   "execution_count": 31,
   "id": "b6f63999",
   "metadata": {},
   "outputs": [
    {
     "data": {
      "text/plain": [
       "20381    Thu Jun 14 13:09:16 -0700 2012\n",
       "Name: date_added, dtype: object"
      ]
     },
     "execution_count": 31,
     "metadata": {},
     "output_type": "execute_result"
    }
   ],
   "source": [
    "df[\"date_added\"].sample()"
   ]
  },
  {
   "cell_type": "code",
   "execution_count": 40,
   "id": "35cf18c8",
   "metadata": {},
   "outputs": [
    {
     "data": {
      "text/plain": [
       "Timestamp('2006-08-20 03:01:34+0000', tz='UTC')"
      ]
     },
     "execution_count": 40,
     "metadata": {},
     "output_type": "execute_result"
    }
   ],
   "source": [
    "pd.to_datetime(df[\"date_added\"], format=\"%a %b %d %H:%M:%S %z %Y\", utc=True).min()"
   ]
  },
  {
   "cell_type": "code",
   "execution_count": 41,
   "id": "c6bc29e1",
   "metadata": {},
   "outputs": [
    {
     "data": {
      "text/plain": [
       "Timestamp('2017-10-26 04:14:32+0000', tz='UTC')"
      ]
     },
     "execution_count": 41,
     "metadata": {},
     "output_type": "execute_result"
    }
   ],
   "source": [
    "pd.to_datetime(df[\"date_added\"], format=\"%a %b %d %H:%M:%S %z %Y\", utc=True).max()"
   ]
  },
  {
   "cell_type": "code",
   "execution_count": 32,
   "id": "3a3fdf2a",
   "metadata": {},
   "outputs": [
    {
     "data": {
      "text/plain": [
       "np.int64(0)"
      ]
     },
     "execution_count": 32,
     "metadata": {},
     "output_type": "execute_result"
    }
   ],
   "source": [
    "df[\"review_id\"].duplicated().sum()"
   ]
  },
  {
   "cell_type": "markdown",
   "id": "beb2c8c5",
   "metadata": {},
   "source": [
    "### Transformación\n",
    "1. Eliminamos columnas que no aportan información útil.\n",
    "2. Corregir valores erróneos.\n",
    "3. Aplicar transformación de datos.\n",
    "4. Asignar valores `nan`."
   ]
  },
  {
   "cell_type": "code",
   "execution_count": 33,
   "id": "5178b0ea",
   "metadata": {},
   "outputs": [],
   "source": [
    "df.drop(columns=[\"read_at\", \"started_at\"], inplace=True)"
   ]
  },
  {
   "cell_type": "markdown",
   "id": "1f01486e",
   "metadata": {},
   "source": [
    "Para mejorar la comprensión, hemos decido renombrar `n_votes` a `n_likes`."
   ]
  },
  {
   "cell_type": "code",
   "execution_count": 34,
   "id": "c1d888ff",
   "metadata": {},
   "outputs": [],
   "source": [
    "df.rename(columns={\"n_votes\": \"n_likes\"}, inplace=True)"
   ]
  },
  {
   "cell_type": "code",
   "execution_count": 35,
   "id": "6c4e99df",
   "metadata": {},
   "outputs": [],
   "source": [
    "df[\"user_id\"] = df[\"user_id\"].str.replace(r\"\\s+\", \"\", regex=True)\n",
    "df[\"review_id\"] = df[\"review_id\"].str.replace(r\"\\s+\", \"\", regex=True)\n",
    "df[\"review_text\"] = df[\"review_text\"].str.strip()\n",
    "df[\"date_added\"] = df[\"date_added\"].str.strip()\n",
    "df[\"date_updated\"] = df[\"date_updated\"].str.strip()"
   ]
  },
  {
   "cell_type": "code",
   "execution_count": 36,
   "id": "00bb68fb",
   "metadata": {},
   "outputs": [],
   "source": [
    "rt_nan = df[\"review_text\"] == \"\"\n",
    "r_nan = df[\"rating\"] == 0"
   ]
  },
  {
   "cell_type": "code",
   "execution_count": 37,
   "id": "da7eddb2",
   "metadata": {},
   "outputs": [],
   "source": [
    "df[\"user_id\"] = df[\"user_id\"].astype(\"string\")\n",
    "df[\"book_id\"] = df[\"book_id\"].astype(np.uint32)\n",
    "df[\"rating\"] = df[\"rating\"].astype(np.uint8)\n",
    "df[\"review_id\"] = df[\"review_id\"].astype(\"string\")\n",
    "df[\"review_text\"] = df[\"review_text\"].astype(\"string\")\n",
    "df[\"date_added\"] = pd.to_datetime(df[\"date_added\"], format=\"%a %b %d %H:%M:%S %z %Y\", utc=True)\n",
    "df[\"date_updated\"] = pd.to_datetime(df[\"date_updated\"], format=\"%a %b %d %H:%M:%S %z %Y\", utc=True)\n",
    "df[\"n_likes\"] = df[\"n_likes\"].astype(np.uint).abs()\n",
    "df[\"n_comments\"] = df[\"n_comments\"].astype(np.uint16)"
   ]
  },
  {
   "cell_type": "code",
   "execution_count": 38,
   "id": "22629b42",
   "metadata": {},
   "outputs": [
    {
     "data": {
      "text/plain": [
       "user_id            0\n",
       "book_id            0\n",
       "review_id          0\n",
       "rating          3196\n",
       "review_text       32\n",
       "date_added         0\n",
       "date_updated       0\n",
       "n_likes            0\n",
       "n_comments         0\n",
       "dtype: int64"
      ]
     },
     "execution_count": 38,
     "metadata": {},
     "output_type": "execute_result"
    }
   ],
   "source": [
    "df.loc[r_nan, \"rating\"] = np.nan\n",
    "df.loc[rt_nan, \"review_text\"] = np.nan\n",
    "df.isna().sum()"
   ]
  },
  {
   "cell_type": "code",
   "execution_count": 39,
   "id": "c16854cf",
   "metadata": {},
   "outputs": [
    {
     "name": "stdout",
     "output_type": "stream",
     "text": [
      "<class 'pandas.core.frame.DataFrame'>\n",
      "RangeIndex: 100000 entries, 0 to 99999\n",
      "Data columns (total 9 columns):\n",
      " #   Column        Non-Null Count   Dtype              \n",
      "---  ------        --------------   -----              \n",
      " 0   user_id       100000 non-null  string             \n",
      " 1   book_id       100000 non-null  uint32             \n",
      " 2   review_id     100000 non-null  string             \n",
      " 3   rating        96804 non-null   float64            \n",
      " 4   review_text   99968 non-null   string             \n",
      " 5   date_added    100000 non-null  datetime64[ns, UTC]\n",
      " 6   date_updated  100000 non-null  datetime64[ns, UTC]\n",
      " 7   n_likes       100000 non-null  uint64             \n",
      " 8   n_comments    100000 non-null  uint16             \n",
      "dtypes: datetime64[ns, UTC](2), float64(1), string(3), uint16(1), uint32(1), uint64(1)\n",
      "memory usage: 5.9 MB\n"
     ]
    }
   ],
   "source": [
    "df.info()"
   ]
  }
 ],
 "metadata": {
  "kernelspec": {
   "display_name": "ks-tfm.venv",
   "language": "python",
   "name": "python3"
  },
  "language_info": {
   "codemirror_mode": {
    "name": "ipython",
    "version": 3
   },
   "file_extension": ".py",
   "mimetype": "text/x-python",
   "name": "python",
   "nbconvert_exporter": "python",
   "pygments_lexer": "ipython3",
   "version": "3.12.7"
  }
 },
 "nbformat": 4,
 "nbformat_minor": 5
}
