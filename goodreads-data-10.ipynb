{
 "cells": [
  {
   "cell_type": "code",
   "execution_count": 1,
   "id": "8e8b0962",
   "metadata": {},
   "outputs": [
    {
     "data": {
      "text/plain": [
       "'goodreads_interactions'"
      ]
     },
     "execution_count": 1,
     "metadata": {},
     "output_type": "execute_result"
    }
   ],
   "source": [
    "from core.goodreads import GoodReadsData\n",
    "import gc\n",
    "\n",
    "goodreads = GoodReadsData()\n",
    "filename = goodreads.file_names[10]\n",
    "filename"
   ]
  },
  {
   "cell_type": "code",
   "execution_count": 2,
   "id": "838cbe24",
   "metadata": {},
   "outputs": [
    {
     "data": {
      "text/plain": [
       "0"
      ]
     },
     "execution_count": 2,
     "metadata": {},
     "output_type": "execute_result"
    }
   ],
   "source": [
    "gc.collect()"
   ]
  },
  {
   "cell_type": "markdown",
   "id": "5a719a03",
   "metadata": {},
   "source": [
    "# Análisis de `goodreads_interactions`"
   ]
  },
  {
   "cell_type": "code",
   "execution_count": 3,
   "id": "0b779e0f",
   "metadata": {},
   "outputs": [],
   "source": [
    "import os\n",
    "import numpy as np"
   ]
  },
  {
   "cell_type": "code",
   "execution_count": 4,
   "id": "bcbd6101",
   "metadata": {},
   "outputs": [],
   "source": [
    "# Download\n",
    "if not os.path.exists(goodreads.get_file_path(filename)):\n",
    "    goodreads.download_file(filename)\n",
    "    \n",
    "df = goodreads.load_file(filename)"
   ]
  },
  {
   "cell_type": "markdown",
   "id": "66c04d8b",
   "metadata": {},
   "source": [
    "### Análisis\n",
    "1. Comprensión de datos.\n",
    "2. Detección de `nan` y duplicados.\n",
    "3. Detección de errores."
   ]
  },
  {
   "cell_type": "code",
   "execution_count": 5,
   "id": "3187830e",
   "metadata": {},
   "outputs": [
    {
     "data": {
      "text/html": [
       "<div>\n",
       "<style scoped>\n",
       "    .dataframe tbody tr th:only-of-type {\n",
       "        vertical-align: middle;\n",
       "    }\n",
       "\n",
       "    .dataframe tbody tr th {\n",
       "        vertical-align: top;\n",
       "    }\n",
       "\n",
       "    .dataframe thead th {\n",
       "        text-align: right;\n",
       "    }\n",
       "</style>\n",
       "<table border=\"1\" class=\"dataframe\">\n",
       "  <thead>\n",
       "    <tr style=\"text-align: right;\">\n",
       "      <th></th>\n",
       "      <th>user_id</th>\n",
       "      <th>book_id</th>\n",
       "      <th>is_read</th>\n",
       "      <th>rating</th>\n",
       "      <th>is_reviewed</th>\n",
       "    </tr>\n",
       "  </thead>\n",
       "  <tbody>\n",
       "    <tr>\n",
       "      <th>206268552</th>\n",
       "      <td>431168</td>\n",
       "      <td>165930</td>\n",
       "      <td>0</td>\n",
       "      <td>0</td>\n",
       "      <td>0</td>\n",
       "    </tr>\n",
       "    <tr>\n",
       "      <th>160060127</th>\n",
       "      <td>333190</td>\n",
       "      <td>84918</td>\n",
       "      <td>0</td>\n",
       "      <td>0</td>\n",
       "      <td>0</td>\n",
       "    </tr>\n",
       "    <tr>\n",
       "      <th>135787796</th>\n",
       "      <td>279863</td>\n",
       "      <td>859562</td>\n",
       "      <td>0</td>\n",
       "      <td>0</td>\n",
       "      <td>0</td>\n",
       "    </tr>\n",
       "    <tr>\n",
       "      <th>131848322</th>\n",
       "      <td>271524</td>\n",
       "      <td>8385</td>\n",
       "      <td>1</td>\n",
       "      <td>4</td>\n",
       "      <td>1</td>\n",
       "    </tr>\n",
       "    <tr>\n",
       "      <th>156877503</th>\n",
       "      <td>326166</td>\n",
       "      <td>954629</td>\n",
       "      <td>0</td>\n",
       "      <td>0</td>\n",
       "      <td>0</td>\n",
       "    </tr>\n",
       "  </tbody>\n",
       "</table>\n",
       "</div>"
      ],
      "text/plain": [
       "           user_id  book_id  is_read  rating  is_reviewed\n",
       "206268552   431168   165930        0       0            0\n",
       "160060127   333190    84918        0       0            0\n",
       "135787796   279863   859562        0       0            0\n",
       "131848322   271524     8385        1       4            1\n",
       "156877503   326166   954629        0       0            0"
      ]
     },
     "execution_count": 5,
     "metadata": {},
     "output_type": "execute_result"
    }
   ],
   "source": [
    "df.sample(5)"
   ]
  },
  {
   "cell_type": "code",
   "execution_count": 6,
   "id": "f2b6f27f",
   "metadata": {},
   "outputs": [
    {
     "name": "stdout",
     "output_type": "stream",
     "text": [
      "<class 'pandas.core.frame.DataFrame'>\n",
      "RangeIndex: 228648342 entries, 0 to 228648341\n",
      "Data columns (total 5 columns):\n",
      " #   Column       Dtype\n",
      "---  ------       -----\n",
      " 0   user_id      int64\n",
      " 1   book_id      int64\n",
      " 2   is_read      int64\n",
      " 3   rating       int64\n",
      " 4   is_reviewed  int64\n",
      "dtypes: int64(5)\n",
      "memory usage: 8.5 GB\n"
     ]
    }
   ],
   "source": [
    "df.info()"
   ]
  },
  {
   "cell_type": "code",
   "execution_count": 7,
   "id": "a487b2bc",
   "metadata": {},
   "outputs": [
    {
     "data": {
      "text/plain": [
       "user_id        0\n",
       "book_id        0\n",
       "is_read        0\n",
       "rating         0\n",
       "is_reviewed    0\n",
       "dtype: int64"
      ]
     },
     "execution_count": 7,
     "metadata": {},
     "output_type": "execute_result"
    }
   ],
   "source": [
    "df.isna().sum()"
   ]
  },
  {
   "cell_type": "code",
   "execution_count": 8,
   "id": "a9b14006",
   "metadata": {},
   "outputs": [],
   "source": [
    "# df.groupby([\"book_id\", \"user_id\"]).size().gt(1).sum()"
   ]
  },
  {
   "cell_type": "code",
   "execution_count": 9,
   "id": "0d498f65",
   "metadata": {},
   "outputs": [
    {
     "data": {
      "text/html": [
       "<div>\n",
       "<style scoped>\n",
       "    .dataframe tbody tr th:only-of-type {\n",
       "        vertical-align: middle;\n",
       "    }\n",
       "\n",
       "    .dataframe tbody tr th {\n",
       "        vertical-align: top;\n",
       "    }\n",
       "\n",
       "    .dataframe thead th {\n",
       "        text-align: right;\n",
       "    }\n",
       "</style>\n",
       "<table border=\"1\" class=\"dataframe\">\n",
       "  <thead>\n",
       "    <tr style=\"text-align: right;\">\n",
       "      <th></th>\n",
       "      <th>user_id</th>\n",
       "      <th>book_id</th>\n",
       "      <th>is_read</th>\n",
       "      <th>rating</th>\n",
       "      <th>is_reviewed</th>\n",
       "    </tr>\n",
       "  </thead>\n",
       "  <tbody>\n",
       "    <tr>\n",
       "      <th>count</th>\n",
       "      <td>2.286483e+08</td>\n",
       "      <td>2.286483e+08</td>\n",
       "      <td>2.286483e+08</td>\n",
       "      <td>2.286483e+08</td>\n",
       "      <td>2.286483e+08</td>\n",
       "    </tr>\n",
       "    <tr>\n",
       "      <th>mean</th>\n",
       "      <td>2.500636e+05</td>\n",
       "      <td>2.015756e+05</td>\n",
       "      <td>4.904090e-01</td>\n",
       "      <td>1.801340e+00</td>\n",
       "      <td>7.093491e-02</td>\n",
       "    </tr>\n",
       "    <tr>\n",
       "      <th>std</th>\n",
       "      <td>1.712713e+05</td>\n",
       "      <td>3.448677e+05</td>\n",
       "      <td>4.999080e-01</td>\n",
       "      <td>2.072672e+00</td>\n",
       "      <td>2.567161e-01</td>\n",
       "    </tr>\n",
       "    <tr>\n",
       "      <th>min</th>\n",
       "      <td>0.000000e+00</td>\n",
       "      <td>0.000000e+00</td>\n",
       "      <td>0.000000e+00</td>\n",
       "      <td>0.000000e+00</td>\n",
       "      <td>0.000000e+00</td>\n",
       "    </tr>\n",
       "    <tr>\n",
       "      <th>25%</th>\n",
       "      <td>1.143010e+05</td>\n",
       "      <td>1.252700e+04</td>\n",
       "      <td>0.000000e+00</td>\n",
       "      <td>0.000000e+00</td>\n",
       "      <td>0.000000e+00</td>\n",
       "    </tr>\n",
       "    <tr>\n",
       "      <th>50%</th>\n",
       "      <td>2.338990e+05</td>\n",
       "      <td>5.034600e+04</td>\n",
       "      <td>0.000000e+00</td>\n",
       "      <td>0.000000e+00</td>\n",
       "      <td>0.000000e+00</td>\n",
       "    </tr>\n",
       "    <tr>\n",
       "      <th>75%</th>\n",
       "      <td>3.581100e+05</td>\n",
       "      <td>2.229240e+05</td>\n",
       "      <td>1.000000e+00</td>\n",
       "      <td>4.000000e+00</td>\n",
       "      <td>0.000000e+00</td>\n",
       "    </tr>\n",
       "    <tr>\n",
       "      <th>max</th>\n",
       "      <td>8.761440e+05</td>\n",
       "      <td>2.360649e+06</td>\n",
       "      <td>1.000000e+00</td>\n",
       "      <td>5.000000e+00</td>\n",
       "      <td>1.000000e+00</td>\n",
       "    </tr>\n",
       "  </tbody>\n",
       "</table>\n",
       "</div>"
      ],
      "text/plain": [
       "            user_id       book_id       is_read        rating   is_reviewed\n",
       "count  2.286483e+08  2.286483e+08  2.286483e+08  2.286483e+08  2.286483e+08\n",
       "mean   2.500636e+05  2.015756e+05  4.904090e-01  1.801340e+00  7.093491e-02\n",
       "std    1.712713e+05  3.448677e+05  4.999080e-01  2.072672e+00  2.567161e-01\n",
       "min    0.000000e+00  0.000000e+00  0.000000e+00  0.000000e+00  0.000000e+00\n",
       "25%    1.143010e+05  1.252700e+04  0.000000e+00  0.000000e+00  0.000000e+00\n",
       "50%    2.338990e+05  5.034600e+04  0.000000e+00  0.000000e+00  0.000000e+00\n",
       "75%    3.581100e+05  2.229240e+05  1.000000e+00  4.000000e+00  0.000000e+00\n",
       "max    8.761440e+05  2.360649e+06  1.000000e+00  5.000000e+00  1.000000e+00"
      ]
     },
     "execution_count": 9,
     "metadata": {},
     "output_type": "execute_result"
    }
   ],
   "source": [
    "df.describe()"
   ]
  },
  {
   "cell_type": "code",
   "execution_count": 10,
   "id": "2ef200de",
   "metadata": {},
   "outputs": [
    {
     "data": {
      "text/plain": [
       "array([1, 0])"
      ]
     },
     "execution_count": 10,
     "metadata": {},
     "output_type": "execute_result"
    }
   ],
   "source": [
    "df[\"is_read\"].unique()"
   ]
  },
  {
   "cell_type": "code",
   "execution_count": 11,
   "id": "bde1ee78",
   "metadata": {},
   "outputs": [
    {
     "data": {
      "text/plain": [
       "array([0, 1])"
      ]
     },
     "execution_count": 11,
     "metadata": {},
     "output_type": "execute_result"
    }
   ],
   "source": [
    "df[\"is_reviewed\"].unique()"
   ]
  },
  {
   "cell_type": "markdown",
   "id": "119ad1ef",
   "metadata": {},
   "source": [
    "### Transformación\n",
    "1. Transformar tipos de datos según rangos."
   ]
  },
  {
   "cell_type": "code",
   "execution_count": 12,
   "id": "59befcea",
   "metadata": {},
   "outputs": [],
   "source": [
    "df[\"user_id\"] = df[\"user_id\"].astype(np.uint32)\n",
    "df[\"book_id\"] = df[\"book_id\"].astype(np.uint32)\n",
    "df[\"rating\"] = df[\"rating\"].astype(np.uint8)\n",
    "df[\"is_read\"] = df[\"is_read\"].astype(bool)\n",
    "df[\"is_reviewed\"] = df[\"is_reviewed\"].astype(bool)"
   ]
  },
  {
   "cell_type": "code",
   "execution_count": 13,
   "id": "be0f2cd5",
   "metadata": {},
   "outputs": [
    {
     "name": "stdout",
     "output_type": "stream",
     "text": [
      "<class 'pandas.core.frame.DataFrame'>\n",
      "RangeIndex: 228648342 entries, 0 to 228648341\n",
      "Data columns (total 5 columns):\n",
      " #   Column       Dtype \n",
      "---  ------       ----- \n",
      " 0   user_id      uint32\n",
      " 1   book_id      uint32\n",
      " 2   is_read      bool  \n",
      " 3   rating       uint8 \n",
      " 4   is_reviewed  bool  \n",
      "dtypes: bool(2), uint32(2), uint8(1)\n",
      "memory usage: 2.3 GB\n"
     ]
    }
   ],
   "source": [
    "df.info()"
   ]
  }
 ],
 "metadata": {
  "kernelspec": {
   "display_name": "ks-tfm.venv",
   "language": "python",
   "name": "python3"
  },
  "language_info": {
   "codemirror_mode": {
    "name": "ipython",
    "version": 3
   },
   "file_extension": ".py",
   "mimetype": "text/x-python",
   "name": "python",
   "nbconvert_exporter": "python",
   "pygments_lexer": "ipython3",
   "version": "3.12.7"
  }
 },
 "nbformat": 4,
 "nbformat_minor": 5
}
