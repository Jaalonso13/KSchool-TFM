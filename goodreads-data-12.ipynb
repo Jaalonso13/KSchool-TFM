{
 "cells": [
  {
   "cell_type": "code",
   "execution_count": 1,
   "id": "d20817bf",
   "metadata": {},
   "outputs": [
    {
     "data": {
      "text/plain": [
       "'book_clubs'"
      ]
     },
     "execution_count": 1,
     "metadata": {},
     "output_type": "execute_result"
    }
   ],
   "source": [
    "from core.goodreads import GoodReadsData\n",
    "import gc\n",
    "\n",
    "goodreads = GoodReadsData()\n",
    "filename = goodreads.file_names[12]\n",
    "filename"
   ]
  },
  {
   "cell_type": "code",
   "execution_count": 2,
   "id": "0a23c61e",
   "metadata": {},
   "outputs": [
    {
     "data": {
      "text/plain": [
       "0"
      ]
     },
     "execution_count": 2,
     "metadata": {},
     "output_type": "execute_result"
    }
   ],
   "source": [
    "gc.collect()"
   ]
  },
  {
   "cell_type": "markdown",
   "id": "6231cfdd",
   "metadata": {},
   "source": [
    "# Análisis de `book_clubs`"
   ]
  },
  {
   "cell_type": "code",
   "execution_count": 3,
   "id": "7671c9e6",
   "metadata": {},
   "outputs": [],
   "source": [
    "import os\n",
    "import numpy as np\n",
    "import pandas as pd"
   ]
  },
  {
   "cell_type": "code",
   "execution_count": 5,
   "id": "3df292ba",
   "metadata": {},
   "outputs": [],
   "source": [
    "# Download\n",
    "if not os.path.exists(goodreads.get_file_path(filename)):\n",
    "    goodreads.download_file(filename)\n",
    "    \n",
    "df = goodreads.load_file(filename)"
   ]
  },
  {
   "cell_type": "markdown",
   "id": "c4a4d0d8",
   "metadata": {},
   "source": [
    "### Análisis\n",
    "1. Comprensión de datos.\n",
    "2. Detección de `nan` y duplicados.\n",
    "3. Detección de errores."
   ]
  },
  {
   "cell_type": "code",
   "execution_count": 6,
   "id": "9c7e7a59",
   "metadata": {},
   "outputs": [
    {
     "data": {
      "text/html": [
       "<div>\n",
       "<style scoped>\n",
       "    .dataframe tbody tr th:only-of-type {\n",
       "        vertical-align: middle;\n",
       "    }\n",
       "\n",
       "    .dataframe tbody tr th {\n",
       "        vertical-align: top;\n",
       "    }\n",
       "\n",
       "    .dataframe thead th {\n",
       "        text-align: right;\n",
       "    }\n",
       "</style>\n",
       "<table border=\"1\" class=\"dataframe\">\n",
       "  <thead>\n",
       "    <tr style=\"text-align: right;\">\n",
       "      <th></th>\n",
       "      <th>user_url</th>\n",
       "      <th>group_name</th>\n",
       "    </tr>\n",
       "  </thead>\n",
       "  <tbody>\n",
       "    <tr>\n",
       "      <th>727</th>\n",
       "      <td>[/user/show/11877125-paula-c, /user/show/28096...</td>\n",
       "      <td>56452-fun-games</td>\n",
       "    </tr>\n",
       "    <tr>\n",
       "      <th>296</th>\n",
       "      <td>[/user/show/43860254-babu-thomas, /user/show/5...</td>\n",
       "      <td>49456-vayanashala</td>\n",
       "    </tr>\n",
       "    <tr>\n",
       "      <th>123</th>\n",
       "      <td>[/user/show/6469254-luka, /user/show/20786746-...</td>\n",
       "      <td>42960-future-survivors-the-apocalypse-group</td>\n",
       "    </tr>\n",
       "    <tr>\n",
       "      <th>386</th>\n",
       "      <td>[/user/show/16905850-sassafrass-candace, /user...</td>\n",
       "      <td>140701-corinne-michaels-books</td>\n",
       "    </tr>\n",
       "    <tr>\n",
       "      <th>160</th>\n",
       "      <td>[/user/show/53683307-tiana-kelly, /user/show/5...</td>\n",
       "      <td>84067-psychological-thrillers</td>\n",
       "    </tr>\n",
       "  </tbody>\n",
       "</table>\n",
       "</div>"
      ],
      "text/plain": [
       "                                              user_url  \\\n",
       "727  [/user/show/11877125-paula-c, /user/show/28096...   \n",
       "296  [/user/show/43860254-babu-thomas, /user/show/5...   \n",
       "123  [/user/show/6469254-luka, /user/show/20786746-...   \n",
       "386  [/user/show/16905850-sassafrass-candace, /user...   \n",
       "160  [/user/show/53683307-tiana-kelly, /user/show/5...   \n",
       "\n",
       "                                      group_name  \n",
       "727                              56452-fun-games  \n",
       "296                            49456-vayanashala  \n",
       "123  42960-future-survivors-the-apocalypse-group  \n",
       "386                140701-corinne-michaels-books  \n",
       "160                84067-psychological-thrillers  "
      ]
     },
     "execution_count": 6,
     "metadata": {},
     "output_type": "execute_result"
    }
   ],
   "source": [
    "df.sample(5)"
   ]
  },
  {
   "cell_type": "code",
   "execution_count": 7,
   "id": "ce85c5c4",
   "metadata": {},
   "outputs": [
    {
     "name": "stdout",
     "output_type": "stream",
     "text": [
      "<class 'pandas.core.frame.DataFrame'>\n",
      "RangeIndex: 965 entries, 0 to 964\n",
      "Data columns (total 2 columns):\n",
      " #   Column      Non-Null Count  Dtype \n",
      "---  ------      --------------  ----- \n",
      " 0   user_url    965 non-null    object\n",
      " 1   group_name  965 non-null    object\n",
      "dtypes: object(2)\n",
      "memory usage: 15.2+ KB\n"
     ]
    }
   ],
   "source": [
    "df.info()"
   ]
  },
  {
   "cell_type": "code",
   "execution_count": 10,
   "id": "cf1d862e",
   "metadata": {},
   "outputs": [
    {
     "data": {
      "text/plain": [
       "['/user/show/16272085-sydney-stype',\n",
       " '/user/show/5365720-allison-kappler',\n",
       " '/user/show/55945536-ellen-dailey',\n",
       " '/user/show/5711848-teresa',\n",
       " '/user/show/1840813-angela-randall',\n",
       " '/user/show/1885245-ginny',\n",
       " '/user/show/52658336-thu-nguyen',\n",
       " '/user/show/36086223-sarah-mackey',\n",
       " '/user/show/44730078-daniela',\n",
       " '/user/show/13344219-dezirea']"
      ]
     },
     "execution_count": 10,
     "metadata": {},
     "output_type": "execute_result"
    }
   ],
   "source": [
    "df[\"user_url\"].iloc[0][:10]"
   ]
  },
  {
   "cell_type": "code",
   "execution_count": 12,
   "id": "fb57b0f6",
   "metadata": {},
   "outputs": [
    {
     "data": {
      "text/plain": [
       "0             179584-our-shared-shelf\n",
       "1      220-goodreads-librarians-group\n",
       "2    85538-oprah-s-book-club-official\n",
       "3    185-what-s-the-name-of-that-book\n",
       "4     26989-goodreads-authors-readers\n",
       "5                64233-addicted-to-ya\n",
       "6            4170-the-sword-and-laser\n",
       "7                1-goodreads-feedback\n",
       "8                          233-poetry\n",
       "9             345-goodreads-indonesia\n",
       "Name: group_name, dtype: object"
      ]
     },
     "execution_count": 12,
     "metadata": {},
     "output_type": "execute_result"
    }
   ],
   "source": [
    "df[\"group_name\"].iloc[0:10]"
   ]
  },
  {
   "cell_type": "code",
   "execution_count": 13,
   "id": "976f1707",
   "metadata": {},
   "outputs": [
    {
     "data": {
      "text/plain": [
       "np.int64(0)"
      ]
     },
     "execution_count": 13,
     "metadata": {},
     "output_type": "execute_result"
    }
   ],
   "source": [
    "(df[\"group_name\"] == \"\").sum()"
   ]
  },
  {
   "cell_type": "code",
   "execution_count": 14,
   "id": "4b8a6908",
   "metadata": {},
   "outputs": [
    {
     "data": {
      "text/plain": [
       "np.int64(0)"
      ]
     },
     "execution_count": 14,
     "metadata": {},
     "output_type": "execute_result"
    }
   ],
   "source": [
    "df[\"user_url\"].apply(lambda x: len(x) == 0).sum()"
   ]
  },
  {
   "cell_type": "code",
   "execution_count": 15,
   "id": "d5ad24a9",
   "metadata": {},
   "outputs": [
    {
     "data": {
      "text/plain": [
       "965"
      ]
     },
     "execution_count": 15,
     "metadata": {},
     "output_type": "execute_result"
    }
   ],
   "source": [
    "df[\"group_name\"].nunique()"
   ]
  },
  {
   "cell_type": "markdown",
   "id": "dbb10904",
   "metadata": {},
   "source": [
    "### Transformación\n",
    "1. Transformar tipos de datos."
   ]
  },
  {
   "cell_type": "code",
   "execution_count": 16,
   "id": "28671fcc",
   "metadata": {},
   "outputs": [],
   "source": [
    "df[\"group_name\"] = df[\"group_name\"].str.replace(r\"\\s+\", \"\", regex=True)"
   ]
  },
  {
   "cell_type": "code",
   "execution_count": 17,
   "id": "2681de16",
   "metadata": {},
   "outputs": [],
   "source": [
    "df[\"group_name\"] = df[\"group_name\"].astype(\"string\")"
   ]
  },
  {
   "cell_type": "code",
   "execution_count": 18,
   "id": "6b6e29b3",
   "metadata": {},
   "outputs": [
    {
     "name": "stdout",
     "output_type": "stream",
     "text": [
      "<class 'pandas.core.frame.DataFrame'>\n",
      "RangeIndex: 965 entries, 0 to 964\n",
      "Data columns (total 2 columns):\n",
      " #   Column      Non-Null Count  Dtype \n",
      "---  ------      --------------  ----- \n",
      " 0   user_url    965 non-null    object\n",
      " 1   group_name  965 non-null    string\n",
      "dtypes: object(1), string(1)\n",
      "memory usage: 15.2+ KB\n"
     ]
    }
   ],
   "source": [
    "df.info()"
   ]
  }
 ],
 "metadata": {
  "kernelspec": {
   "display_name": "ks-tfm.venv",
   "language": "python",
   "name": "python3"
  },
  "language_info": {
   "codemirror_mode": {
    "name": "ipython",
    "version": 3
   },
   "file_extension": ".py",
   "mimetype": "text/x-python",
   "name": "python",
   "nbconvert_exporter": "python",
   "pygments_lexer": "ipython3",
   "version": "3.12.7"
  }
 },
 "nbformat": 4,
 "nbformat_minor": 5
}
