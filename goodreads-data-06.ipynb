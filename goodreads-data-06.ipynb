{
 "cells": [
  {
   "cell_type": "code",
   "execution_count": 33,
   "id": "9994a456",
   "metadata": {},
   "outputs": [
    {
     "data": {
      "text/plain": [
       "'goodreads_reviews_spoiler'"
      ]
     },
     "execution_count": 33,
     "metadata": {},
     "output_type": "execute_result"
    }
   ],
   "source": [
    "from core.goodreads import GoodReadsData\n",
    "import gc\n",
    "\n",
    "goodreads = GoodReadsData()\n",
    "filename = goodreads.file_names[6]\n",
    "filename"
   ]
  },
  {
   "cell_type": "code",
   "execution_count": 34,
   "id": "fce5baec",
   "metadata": {},
   "outputs": [
    {
     "data": {
      "text/plain": [
       "271"
      ]
     },
     "execution_count": 34,
     "metadata": {},
     "output_type": "execute_result"
    }
   ],
   "source": [
    "gc.collect()"
   ]
  },
  {
   "cell_type": "markdown",
   "id": "01a31a17",
   "metadata": {},
   "source": [
    "# Análisis de `goodreads_reviews_spoiler`"
   ]
  },
  {
   "cell_type": "code",
   "execution_count": 35,
   "id": "11715424",
   "metadata": {},
   "outputs": [],
   "source": [
    "import os\n",
    "import pandas as pd\n",
    "import numpy as np"
   ]
  },
  {
   "cell_type": "code",
   "execution_count": 36,
   "id": "aa4efef4",
   "metadata": {},
   "outputs": [
    {
     "data": {
      "text/plain": [
       "1378033"
      ]
     },
     "execution_count": 36,
     "metadata": {},
     "output_type": "execute_result"
    }
   ],
   "source": [
    "# Download\n",
    "if not os.path.exists(goodreads.get_file_path(filename)):\n",
    "    goodreads.download_file(filename)\n",
    "    \n",
    "goodreads.count_samples(filename)"
   ]
  },
  {
   "cell_type": "code",
   "execution_count": 37,
   "id": "c0d16965",
   "metadata": {},
   "outputs": [],
   "source": [
    "# Load\n",
    "df = goodreads.load_file_range(filename, (0, 99999))"
   ]
  },
  {
   "cell_type": "markdown",
   "id": "181467af",
   "metadata": {},
   "source": [
    "### Análisis\n",
    "1. Comprensión de datos.\n",
    "2. Detección de errores.\n",
    "3. Detección de duplicados."
   ]
  },
  {
   "cell_type": "code",
   "execution_count": 38,
   "id": "239f8de8",
   "metadata": {},
   "outputs": [
    {
     "data": {
      "text/html": [
       "<div>\n",
       "<style scoped>\n",
       "    .dataframe tbody tr th:only-of-type {\n",
       "        vertical-align: middle;\n",
       "    }\n",
       "\n",
       "    .dataframe tbody tr th {\n",
       "        vertical-align: top;\n",
       "    }\n",
       "\n",
       "    .dataframe thead th {\n",
       "        text-align: right;\n",
       "    }\n",
       "</style>\n",
       "<table border=\"1\" class=\"dataframe\">\n",
       "  <thead>\n",
       "    <tr style=\"text-align: right;\">\n",
       "      <th></th>\n",
       "      <th>user_id</th>\n",
       "      <th>timestamp</th>\n",
       "      <th>review_sentences</th>\n",
       "      <th>rating</th>\n",
       "      <th>has_spoiler</th>\n",
       "      <th>book_id</th>\n",
       "      <th>review_id</th>\n",
       "    </tr>\n",
       "  </thead>\n",
       "  <tbody>\n",
       "    <tr>\n",
       "      <th>91090</th>\n",
       "      <td>0d81d76c4b6a2c7884d2392bc50c2b4f</td>\n",
       "      <td>2014-09-12</td>\n",
       "      <td>[[0, Damn.], [0, The more I read, the slower m...</td>\n",
       "      <td>5</td>\n",
       "      <td>False</td>\n",
       "      <td>15717721</td>\n",
       "      <td>9194e648d4dd5d541a09b3e3ca6a739e</td>\n",
       "    </tr>\n",
       "    <tr>\n",
       "      <th>65535</th>\n",
       "      <td>5f8ca8da98445f41c625874e04115773</td>\n",
       "      <td>2015-01-02</td>\n",
       "      <td>[[0, I'm completely happy with the end result ...</td>\n",
       "      <td>4</td>\n",
       "      <td>False</td>\n",
       "      <td>18052853</td>\n",
       "      <td>a34e8c2932788cdd1765fb8a4cbc510c</td>\n",
       "    </tr>\n",
       "    <tr>\n",
       "      <th>46091</th>\n",
       "      <td>92dc66385168612b674ba80eee2ba4e9</td>\n",
       "      <td>2014-10-08</td>\n",
       "      <td>[[0, I'm one of those annoying 'read the book ...</td>\n",
       "      <td>4</td>\n",
       "      <td>False</td>\n",
       "      <td>8442457</td>\n",
       "      <td>44d0c40bf195982cff8be6409eed7f9f</td>\n",
       "    </tr>\n",
       "    <tr>\n",
       "      <th>55501</th>\n",
       "      <td>dae8c9afc16f5a492006edde9c3e40f9</td>\n",
       "      <td>2017-07-28</td>\n",
       "      <td>[[0, While reading this, I couldn't help but w...</td>\n",
       "      <td>4</td>\n",
       "      <td>False</td>\n",
       "      <td>28862254</td>\n",
       "      <td>88abf81b0ba5a77e831e9604e8e17dbd</td>\n",
       "    </tr>\n",
       "    <tr>\n",
       "      <th>44755</th>\n",
       "      <td>cf201e1a8725af905c101c66d8e5c326</td>\n",
       "      <td>2016-08-31</td>\n",
       "      <td>[[0, Pacing: The pacing of Fahrenheit 451 is a...</td>\n",
       "      <td>4</td>\n",
       "      <td>True</td>\n",
       "      <td>16280156</td>\n",
       "      <td>00a674a96b0a87b20ead65028a21ee8b</td>\n",
       "    </tr>\n",
       "  </tbody>\n",
       "</table>\n",
       "</div>"
      ],
      "text/plain": [
       "                                user_id   timestamp  \\\n",
       "91090  0d81d76c4b6a2c7884d2392bc50c2b4f  2014-09-12   \n",
       "65535  5f8ca8da98445f41c625874e04115773  2015-01-02   \n",
       "46091  92dc66385168612b674ba80eee2ba4e9  2014-10-08   \n",
       "55501  dae8c9afc16f5a492006edde9c3e40f9  2017-07-28   \n",
       "44755  cf201e1a8725af905c101c66d8e5c326  2016-08-31   \n",
       "\n",
       "                                        review_sentences  rating  has_spoiler  \\\n",
       "91090  [[0, Damn.], [0, The more I read, the slower m...       5        False   \n",
       "65535  [[0, I'm completely happy with the end result ...       4        False   \n",
       "46091  [[0, I'm one of those annoying 'read the book ...       4        False   \n",
       "55501  [[0, While reading this, I couldn't help but w...       4        False   \n",
       "44755  [[0, Pacing: The pacing of Fahrenheit 451 is a...       4         True   \n",
       "\n",
       "        book_id                         review_id  \n",
       "91090  15717721  9194e648d4dd5d541a09b3e3ca6a739e  \n",
       "65535  18052853  a34e8c2932788cdd1765fb8a4cbc510c  \n",
       "46091   8442457  44d0c40bf195982cff8be6409eed7f9f  \n",
       "55501  28862254  88abf81b0ba5a77e831e9604e8e17dbd  \n",
       "44755  16280156  00a674a96b0a87b20ead65028a21ee8b  "
      ]
     },
     "execution_count": 38,
     "metadata": {},
     "output_type": "execute_result"
    }
   ],
   "source": [
    "df.sample(5)"
   ]
  },
  {
   "cell_type": "code",
   "execution_count": 39,
   "id": "201a8330",
   "metadata": {},
   "outputs": [
    {
     "name": "stdout",
     "output_type": "stream",
     "text": [
      "<class 'pandas.core.frame.DataFrame'>\n",
      "RangeIndex: 100000 entries, 0 to 99999\n",
      "Data columns (total 7 columns):\n",
      " #   Column            Non-Null Count   Dtype \n",
      "---  ------            --------------   ----- \n",
      " 0   user_id           100000 non-null  object\n",
      " 1   timestamp         100000 non-null  object\n",
      " 2   review_sentences  100000 non-null  object\n",
      " 3   rating            100000 non-null  int64 \n",
      " 4   has_spoiler       100000 non-null  bool  \n",
      " 5   book_id           100000 non-null  object\n",
      " 6   review_id         100000 non-null  object\n",
      "dtypes: bool(1), int64(1), object(5)\n",
      "memory usage: 4.7+ MB\n"
     ]
    }
   ],
   "source": [
    "df.info()"
   ]
  },
  {
   "cell_type": "code",
   "execution_count": 40,
   "id": "8d22d036",
   "metadata": {},
   "outputs": [
    {
     "data": {
      "text/plain": [
       "user_id             0\n",
       "timestamp           0\n",
       "review_sentences    0\n",
       "rating              0\n",
       "has_spoiler         0\n",
       "book_id             0\n",
       "review_id           0\n",
       "dtype: int64"
      ]
     },
     "execution_count": 40,
     "metadata": {},
     "output_type": "execute_result"
    }
   ],
   "source": [
    "(df == \"\").sum()"
   ]
  },
  {
   "cell_type": "code",
   "execution_count": 41,
   "id": "738c9a7a",
   "metadata": {},
   "outputs": [
    {
     "data": {
      "text/plain": [
       "np.int64(0)"
      ]
     },
     "execution_count": 41,
     "metadata": {},
     "output_type": "execute_result"
    }
   ],
   "source": [
    "(df[\"review_sentences\"].apply(lambda x: len(x)==0)).sum()"
   ]
  },
  {
   "cell_type": "code",
   "execution_count": 42,
   "id": "ca57ed77",
   "metadata": {},
   "outputs": [
    {
     "data": {
      "text/plain": [
       "20     True\n",
       "21    False\n",
       "22     True\n",
       "23     True\n",
       "24    False\n",
       "Name: has_spoiler, dtype: bool"
      ]
     },
     "execution_count": 42,
     "metadata": {},
     "output_type": "execute_result"
    }
   ],
   "source": [
    "df[\"has_spoiler\"].iloc[20:25]"
   ]
  },
  {
   "cell_type": "code",
   "execution_count": 43,
   "id": "94cbd003",
   "metadata": {},
   "outputs": [
    {
     "data": {
      "text/plain": [
       "[[0, \"A fun fast paced book that sucks you in right away and doesn't let go.\"],\n",
       " [0,\n",
       "  \"The remnants of humanity live in a 150 story silo below the earth and can't leave as the outside is now toxic.\"],\n",
       " [0,\n",
       "  'This is a bit of an odd thing to have happened, but it gives us a nice palette to think about things.'],\n",
       " [0, 'Everything is rationed, including how many children you can have.'],\n",
       " [0,\n",
       "  'People self-identify by their profession and where in the silo they live: farmers and mechanics in the lowers, IT in the mids, and professional class in the uppers.'],\n",
       " [0,\n",
       "  'The working class wear color coded uniforms to easily distinguish them.'],\n",
       " [0, 'The book was a lot about control.'],\n",
       " [0,\n",
       "  'How to control a contained civilization, and give them hope (eg a live feed of the outside) and yet keep them in harmony and doing their functions.'],\n",
       " [0,\n",
       "  'Strange mechanisms of control were built all over the silo: communication was oddly limited given the IT resources they have - many messages had to be delivered by courier as emails cost valuable money to send.'],\n",
       " [0,\n",
       "  'Most strange of all - there is no elevator, which forces anyone wanting to travel the length of the silo to spend 2-3 days on the journey.'],\n",
       " [0, 'The cleaning ritual was a strange bit of culture.'],\n",
       " [1, 'Upon reflection, I can see why it was necessary.'],\n",
       " [1,\n",
       "  'If people never go outside, uncertainty of it still being bad would creep in, and people would need to try it.'],\n",
       " [1, 'As perhaps happened in Silo 17.'],\n",
       " [0,\n",
       "  'I really liked the unraveling of Bernard, and how he went from repulsive/annoying, to understandable once you understood his role and responsibility.'],\n",
       " [1,\n",
       "  'His role is to eliminate any doubt in the delicate balance of the silo.'],\n",
       " [1,\n",
       "  'Opening the book up with the doubt of Holston was brilliant as it sucked you in immediately.'],\n",
       " [0,\n",
       "  'I liked Juliet too - she was the right combo of being determined to do right, and having brains and grit.']]"
      ]
     },
     "execution_count": 43,
     "metadata": {},
     "output_type": "execute_result"
    }
   ],
   "source": [
    "df[\"review_sentences\"].iloc[20]"
   ]
  },
  {
   "cell_type": "code",
   "execution_count": 44,
   "id": "cdb9cbbd",
   "metadata": {},
   "outputs": [
    {
     "data": {
      "text/plain": [
       "[[0,\n",
       "  'A hilarious and book from Tina Fey - definitely worth listening to over audio as she reads it herself.'],\n",
       " [0,\n",
       "  'She makes fun of herself a lot, adds lots of light humor, and of course shares TMI.'],\n",
       " [0,\n",
       "  'The most interesting bit was hearing the behind the scenes of Saturday Night Live, and how she was a joke writer there for 3 years before they gave her a role on the show, which was only doing the news.'],\n",
       " [0,\n",
       "  'Her breakout occurred after she had already left for 30 Rock, when she did the Sarah Palin impersonation.'],\n",
       " [0,\n",
       "  'Tina is clearly an example of someone who has worked long and hard to get where she is.']]"
      ]
     },
     "execution_count": 44,
     "metadata": {},
     "output_type": "execute_result"
    }
   ],
   "source": [
    "df[\"review_sentences\"].iloc[25]"
   ]
  },
  {
   "cell_type": "markdown",
   "id": "d4f6949d",
   "metadata": {},
   "source": [
    "`review_sentences` indica si la frase contiene o no spoilers."
   ]
  },
  {
   "cell_type": "code",
   "execution_count": 45,
   "id": "cddd05ab",
   "metadata": {},
   "outputs": [
    {
     "data": {
      "text/plain": [
       "count    100000.000000\n",
       "mean          3.725500\n",
       "std           1.234085\n",
       "min           0.000000\n",
       "25%           3.000000\n",
       "50%           4.000000\n",
       "75%           5.000000\n",
       "max           5.000000\n",
       "Name: rating, dtype: float64"
      ]
     },
     "execution_count": 45,
     "metadata": {},
     "output_type": "execute_result"
    }
   ],
   "source": [
    "df[\"rating\"].describe()"
   ]
  },
  {
   "cell_type": "code",
   "execution_count": 46,
   "id": "bc2feb95",
   "metadata": {},
   "outputs": [
    {
     "data": {
      "text/plain": [
       "np.int64(3077)"
      ]
     },
     "execution_count": 46,
     "metadata": {},
     "output_type": "execute_result"
    }
   ],
   "source": [
    "(df[\"rating\"]==0).sum()"
   ]
  },
  {
   "cell_type": "markdown",
   "id": "a0123ca0",
   "metadata": {},
   "source": [
    "Los valores de `rating` = 0 son valores erróneos y se indicarán con `nan`."
   ]
  },
  {
   "cell_type": "code",
   "execution_count": 47,
   "id": "ce76f1a0",
   "metadata": {},
   "outputs": [
    {
     "data": {
      "text/plain": [
       "Timestamp('2006-12-07 00:00:00')"
      ]
     },
     "execution_count": 47,
     "metadata": {},
     "output_type": "execute_result"
    }
   ],
   "source": [
    "pd.to_datetime(df[\"timestamp\"]).min()"
   ]
  },
  {
   "cell_type": "code",
   "execution_count": 48,
   "id": "a198076a",
   "metadata": {},
   "outputs": [
    {
     "data": {
      "text/plain": [
       "Timestamp('2017-11-03 00:00:00')"
      ]
     },
     "execution_count": 48,
     "metadata": {},
     "output_type": "execute_result"
    }
   ],
   "source": [
    "pd.to_datetime(df[\"timestamp\"]).max()"
   ]
  },
  {
   "cell_type": "code",
   "execution_count": 49,
   "id": "88984845",
   "metadata": {},
   "outputs": [
    {
     "data": {
      "text/plain": [
       "np.int64(0)"
      ]
     },
     "execution_count": 49,
     "metadata": {},
     "output_type": "execute_result"
    }
   ],
   "source": [
    "df[\"review_id\"].duplicated().sum()"
   ]
  },
  {
   "cell_type": "markdown",
   "id": "6e30106f",
   "metadata": {},
   "source": [
    "### Transformación\n",
    "1. Correción de errores.\n",
    "2. Transformar tipos de datos.\n",
    "3. Asignación de valores `nan`."
   ]
  },
  {
   "cell_type": "code",
   "execution_count": 50,
   "id": "3a4a0221",
   "metadata": {},
   "outputs": [],
   "source": [
    "df[\"user_id\"] = df[\"user_id\"].str.replace(r\"\\s+\", \"\", regex=True)\n",
    "df[\"book_id\"] = df[\"book_id\"].str.replace(r\"\\s+\", \"\", regex=True)\n",
    "df[\"review_id\"] = df[\"review_id\"].str.replace(r\"\\s+\", \"\", regex=True)\n",
    "df[\"timestamp\"] = df[\"timestamp\"].str.strip()"
   ]
  },
  {
   "cell_type": "code",
   "execution_count": 51,
   "id": "eed7eaea",
   "metadata": {},
   "outputs": [],
   "source": [
    "r_nan = df[\"rating\"] == 0"
   ]
  },
  {
   "cell_type": "code",
   "execution_count": 52,
   "id": "ff434682",
   "metadata": {},
   "outputs": [],
   "source": [
    "df[\"user_id\"] = df[\"user_id\"].astype(\"string\")\n",
    "df[\"review_id\"] = df[\"review_id\"].astype(\"string\")\n",
    "df[\"book_id\"] = df[\"book_id\"].astype(\"string\")\n",
    "df[\"rating\"] = df[\"rating\"].astype(np.uint8)\n",
    "df[\"timestamp\"] = pd.to_datetime(df[\"timestamp\"], format=\"%Y-%m-%d\")"
   ]
  },
  {
   "cell_type": "code",
   "execution_count": 54,
   "id": "704fac17",
   "metadata": {},
   "outputs": [
    {
     "data": {
      "text/plain": [
       "user_id                0\n",
       "timestamp              0\n",
       "review_sentences       0\n",
       "rating              3077\n",
       "has_spoiler            0\n",
       "book_id                0\n",
       "review_id              0\n",
       "dtype: int64"
      ]
     },
     "execution_count": 54,
     "metadata": {},
     "output_type": "execute_result"
    }
   ],
   "source": [
    "df.loc[r_nan, \"rating\"] = np.nan\n",
    "df.isna().sum()"
   ]
  },
  {
   "cell_type": "code",
   "execution_count": 55,
   "id": "eccd0aa1",
   "metadata": {},
   "outputs": [
    {
     "name": "stdout",
     "output_type": "stream",
     "text": [
      "<class 'pandas.core.frame.DataFrame'>\n",
      "RangeIndex: 100000 entries, 0 to 99999\n",
      "Data columns (total 7 columns):\n",
      " #   Column            Non-Null Count   Dtype         \n",
      "---  ------            --------------   -----         \n",
      " 0   user_id           100000 non-null  string        \n",
      " 1   timestamp         100000 non-null  datetime64[ns]\n",
      " 2   review_sentences  100000 non-null  object        \n",
      " 3   rating            96923 non-null   float64       \n",
      " 4   has_spoiler       100000 non-null  bool          \n",
      " 5   book_id           100000 non-null  string        \n",
      " 6   review_id         100000 non-null  string        \n",
      "dtypes: bool(1), datetime64[ns](1), float64(1), object(1), string(3)\n",
      "memory usage: 4.7+ MB\n"
     ]
    }
   ],
   "source": [
    "df.info()"
   ]
  },
  {
   "cell_type": "code",
   "execution_count": null,
   "id": "cbd07a80",
   "metadata": {},
   "outputs": [],
   "source": []
  }
 ],
 "metadata": {
  "kernelspec": {
   "display_name": "ks-tfm.venv",
   "language": "python",
   "name": "python3"
  },
  "language_info": {
   "codemirror_mode": {
    "name": "ipython",
    "version": 3
   },
   "file_extension": ".py",
   "mimetype": "text/x-python",
   "name": "python",
   "nbconvert_exporter": "python",
   "pygments_lexer": "ipython3",
   "version": "3.12.7"
  }
 },
 "nbformat": 4,
 "nbformat_minor": 5
}
