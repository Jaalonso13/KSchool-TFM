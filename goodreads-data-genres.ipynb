{
 "cells": [
  {
   "cell_type": "code",
   "execution_count": 45,
   "id": "fe822776",
   "metadata": {},
   "outputs": [
    {
     "data": {
      "text/plain": [
       "['goodreads_books_children',\n",
       " 'goodreads_books_comics_graphic',\n",
       " 'goodreads_books_fantasy_paranormal',\n",
       " 'goodreads_books_history_biography',\n",
       " 'goodreads_books_mystery_thriller_crime',\n",
       " 'goodreads_books_poetry',\n",
       " 'goodreads_books_romance',\n",
       " 'goodreads_books_young_adult',\n",
       " 'goodreads_interactions_children',\n",
       " 'goodreads_interactions_comics_graphic',\n",
       " 'goodreads_interactions_fantasy_paranormal',\n",
       " 'goodreads_interactions_history_biography',\n",
       " 'goodreads_interactions_mystery_thriller_crime',\n",
       " 'goodreads_interactions_poetry',\n",
       " 'goodreads_interactions_romance',\n",
       " 'goodreads_interactions_young_adult',\n",
       " 'goodreads_reviews_children',\n",
       " 'goodreads_reviews_comics_graphic',\n",
       " 'goodreads_reviews_fantasy_paranormal',\n",
       " 'goodreads_reviews_history_biography',\n",
       " 'goodreads_reviews_mystery_thriller_crime',\n",
       " 'goodreads_reviews_poetry',\n",
       " 'goodreads_reviews_romance',\n",
       " 'goodreads_reviews_young_adult']"
      ]
     },
     "execution_count": 45,
     "metadata": {},
     "output_type": "execute_result"
    }
   ],
   "source": [
    "from core.goodreads import GoodReadsData\n",
    "import gc\n",
    "\n",
    "goodreads = GoodReadsData()\n",
    "filenames = goodreads.file_names[13:]\n",
    "filenames"
   ]
  },
  {
   "cell_type": "code",
   "execution_count": 46,
   "id": "024fc367",
   "metadata": {},
   "outputs": [
    {
     "data": {
      "text/plain": [
       "805"
      ]
     },
     "execution_count": 46,
     "metadata": {},
     "output_type": "execute_result"
    }
   ],
   "source": [
    "gc.collect()"
   ]
  },
  {
   "cell_type": "markdown",
   "id": "c3e89115",
   "metadata": {},
   "source": [
    "# Análisis de Genres"
   ]
  },
  {
   "cell_type": "code",
   "execution_count": 47,
   "id": "beb6cb59",
   "metadata": {},
   "outputs": [],
   "source": [
    "filenames_books = {i+13: f for i, f in enumerate(filenames) if \"books\" in f}\n",
    "filenames_interactions = {i+13: f for i, f in enumerate(filenames) if \"interactions\" in f}\n",
    "filenames_reviews = {i+13: f for i, f in enumerate(filenames) if \"reviews\" in f}"
   ]
  },
  {
   "cell_type": "code",
   "execution_count": 48,
   "id": "aa767995",
   "metadata": {},
   "outputs": [],
   "source": [
    "import os\n",
    "import numpy as np"
   ]
  },
  {
   "cell_type": "markdown",
   "id": "8a58cf4e",
   "metadata": {},
   "source": [
    "## Análisis de `books`"
   ]
  },
  {
   "cell_type": "code",
   "execution_count": 49,
   "id": "17fb8c4f",
   "metadata": {},
   "outputs": [
    {
     "data": {
      "text/plain": [
       "{13: 'goodreads_books_children',\n",
       " 14: 'goodreads_books_comics_graphic',\n",
       " 15: 'goodreads_books_fantasy_paranormal',\n",
       " 16: 'goodreads_books_history_biography',\n",
       " 17: 'goodreads_books_mystery_thriller_crime',\n",
       " 18: 'goodreads_books_poetry',\n",
       " 19: 'goodreads_books_romance',\n",
       " 20: 'goodreads_books_young_adult'}"
      ]
     },
     "execution_count": 49,
     "metadata": {},
     "output_type": "execute_result"
    }
   ],
   "source": [
    "filenames_books"
   ]
  },
  {
   "cell_type": "code",
   "execution_count": 50,
   "id": "b4aef90b",
   "metadata": {},
   "outputs": [],
   "source": [
    "# Download & Load\n",
    "dfs_books = {}\n",
    "for idx, f in filenames_books.items():\n",
    "    if not os.path.exists(goodreads.get_file_path(f)):\n",
    "        goodreads.download_file(f)\n",
    "    \n",
    "    dfs_books[idx] = goodreads.load_file_range(f, (0,0))"
   ]
  },
  {
   "cell_type": "code",
   "execution_count": 51,
   "id": "11bf72cb",
   "metadata": {},
   "outputs": [
    {
     "data": {
      "text/html": [
       "<div>\n",
       "<style scoped>\n",
       "    .dataframe tbody tr th:only-of-type {\n",
       "        vertical-align: middle;\n",
       "    }\n",
       "\n",
       "    .dataframe tbody tr th {\n",
       "        vertical-align: top;\n",
       "    }\n",
       "\n",
       "    .dataframe thead th {\n",
       "        text-align: right;\n",
       "    }\n",
       "</style>\n",
       "<table border=\"1\" class=\"dataframe\">\n",
       "  <thead>\n",
       "    <tr style=\"text-align: right;\">\n",
       "      <th></th>\n",
       "      <th>isbn</th>\n",
       "      <th>text_reviews_count</th>\n",
       "      <th>series</th>\n",
       "      <th>country_code</th>\n",
       "      <th>language_code</th>\n",
       "      <th>popular_shelves</th>\n",
       "      <th>asin</th>\n",
       "      <th>is_ebook</th>\n",
       "      <th>average_rating</th>\n",
       "      <th>kindle_asin</th>\n",
       "      <th>...</th>\n",
       "      <th>publication_month</th>\n",
       "      <th>edition_information</th>\n",
       "      <th>publication_year</th>\n",
       "      <th>url</th>\n",
       "      <th>image_url</th>\n",
       "      <th>book_id</th>\n",
       "      <th>ratings_count</th>\n",
       "      <th>work_id</th>\n",
       "      <th>title</th>\n",
       "      <th>title_without_series</th>\n",
       "    </tr>\n",
       "  </thead>\n",
       "  <tbody>\n",
       "    <tr>\n",
       "      <th>0</th>\n",
       "      <td>1599150603</td>\n",
       "      <td>7</td>\n",
       "      <td>[]</td>\n",
       "      <td>US</td>\n",
       "      <td></td>\n",
       "      <td>[{'count': '56', 'name': 'to-read'}, {'count':...</td>\n",
       "      <td></td>\n",
       "      <td>false</td>\n",
       "      <td>4.13</td>\n",
       "      <td>B00DU10PUG</td>\n",
       "      <td>...</td>\n",
       "      <td>9</td>\n",
       "      <td></td>\n",
       "      <td>2006</td>\n",
       "      <td>https://www.goodreads.com/book/show/287141.The...</td>\n",
       "      <td>https://s.gr-assets.com/assets/nophoto/book/11...</td>\n",
       "      <td>287141</td>\n",
       "      <td>46</td>\n",
       "      <td>278578</td>\n",
       "      <td>The Aeneid for Boys and Girls</td>\n",
       "      <td>The Aeneid for Boys and Girls</td>\n",
       "    </tr>\n",
       "  </tbody>\n",
       "</table>\n",
       "<p>1 rows × 29 columns</p>\n",
       "</div>"
      ],
      "text/plain": [
       "         isbn text_reviews_count series country_code language_code  \\\n",
       "0  1599150603                  7     []           US                 \n",
       "\n",
       "                                     popular_shelves asin is_ebook  \\\n",
       "0  [{'count': '56', 'name': 'to-read'}, {'count':...         false   \n",
       "\n",
       "  average_rating kindle_asin  ... publication_month edition_information  \\\n",
       "0           4.13  B00DU10PUG  ...                 9                       \n",
       "\n",
       "  publication_year                                                url  \\\n",
       "0             2006  https://www.goodreads.com/book/show/287141.The...   \n",
       "\n",
       "                                           image_url book_id ratings_count  \\\n",
       "0  https://s.gr-assets.com/assets/nophoto/book/11...  287141            46   \n",
       "\n",
       "  work_id                          title           title_without_series  \n",
       "0  278578  The Aeneid for Boys and Girls  The Aeneid for Boys and Girls  \n",
       "\n",
       "[1 rows x 29 columns]"
      ]
     },
     "execution_count": 51,
     "metadata": {},
     "output_type": "execute_result"
    }
   ],
   "source": [
    "dfs_books[13].head()"
   ]
  },
  {
   "cell_type": "code",
   "execution_count": 52,
   "id": "7811fbbe",
   "metadata": {},
   "outputs": [
    {
     "data": {
      "text/plain": [
       "array(['isbn', 'text_reviews_count', 'series', 'country_code',\n",
       "       'language_code', 'popular_shelves', 'asin', 'is_ebook',\n",
       "       'average_rating', 'kindle_asin', 'similar_books', 'description',\n",
       "       'format', 'link', 'authors', 'publisher', 'num_pages',\n",
       "       'publication_day', 'isbn13', 'publication_month',\n",
       "       'edition_information', 'publication_year', 'url', 'image_url',\n",
       "       'book_id', 'ratings_count', 'work_id', 'title',\n",
       "       'title_without_series'], dtype=object)"
      ]
     },
     "execution_count": 52,
     "metadata": {},
     "output_type": "execute_result"
    }
   ],
   "source": [
    "columns_books = goodreads.load_file_range(goodreads.file_names[3], (0,0)).columns.to_numpy()\n",
    "columns_books"
   ]
  },
  {
   "cell_type": "code",
   "execution_count": 53,
   "id": "b483ff6b",
   "metadata": {},
   "outputs": [
    {
     "data": {
      "text/plain": [
       "True"
      ]
     },
     "execution_count": 53,
     "metadata": {},
     "output_type": "execute_result"
    }
   ],
   "source": [
    "all(np.array_equal(df.columns.to_numpy(), columns_books) for df in dfs_books.values())"
   ]
  },
  {
   "cell_type": "markdown",
   "id": "142a9b47",
   "metadata": {},
   "source": [
    "## Análisis de `interactions`"
   ]
  },
  {
   "cell_type": "code",
   "execution_count": 54,
   "id": "f0e4b755",
   "metadata": {},
   "outputs": [
    {
     "data": {
      "text/plain": [
       "{21: 'goodreads_interactions_children',\n",
       " 22: 'goodreads_interactions_comics_graphic',\n",
       " 23: 'goodreads_interactions_fantasy_paranormal',\n",
       " 24: 'goodreads_interactions_history_biography',\n",
       " 25: 'goodreads_interactions_mystery_thriller_crime',\n",
       " 26: 'goodreads_interactions_poetry',\n",
       " 27: 'goodreads_interactions_romance',\n",
       " 28: 'goodreads_interactions_young_adult'}"
      ]
     },
     "execution_count": 54,
     "metadata": {},
     "output_type": "execute_result"
    }
   ],
   "source": [
    "filenames_interactions"
   ]
  },
  {
   "cell_type": "code",
   "execution_count": 55,
   "id": "56b63eac",
   "metadata": {},
   "outputs": [],
   "source": [
    "# Download & Load\n",
    "dfs_interactions = {}\n",
    "for idx, f in filenames_interactions.items():\n",
    "    if not os.path.exists(goodreads.get_file_path(f)):\n",
    "        goodreads.download_file(f)\n",
    "    \n",
    "    dfs_interactions[idx] = goodreads.load_file_range(f, (0,0))"
   ]
  },
  {
   "cell_type": "code",
   "execution_count": 56,
   "id": "98b53088",
   "metadata": {},
   "outputs": [
    {
     "data": {
      "text/html": [
       "<div>\n",
       "<style scoped>\n",
       "    .dataframe tbody tr th:only-of-type {\n",
       "        vertical-align: middle;\n",
       "    }\n",
       "\n",
       "    .dataframe tbody tr th {\n",
       "        vertical-align: top;\n",
       "    }\n",
       "\n",
       "    .dataframe thead th {\n",
       "        text-align: right;\n",
       "    }\n",
       "</style>\n",
       "<table border=\"1\" class=\"dataframe\">\n",
       "  <thead>\n",
       "    <tr style=\"text-align: right;\">\n",
       "      <th></th>\n",
       "      <th>user_id</th>\n",
       "      <th>book_id</th>\n",
       "      <th>review_id</th>\n",
       "      <th>is_read</th>\n",
       "      <th>rating</th>\n",
       "      <th>review_text_incomplete</th>\n",
       "      <th>date_added</th>\n",
       "      <th>date_updated</th>\n",
       "      <th>read_at</th>\n",
       "      <th>started_at</th>\n",
       "    </tr>\n",
       "  </thead>\n",
       "  <tbody>\n",
       "    <tr>\n",
       "      <th>0</th>\n",
       "      <td>8842281e1d1347389f2ab93d60773d4d</td>\n",
       "      <td>10893214</td>\n",
       "      <td>5d0e4e8825c68740703f65a18813fc93</td>\n",
       "      <td>False</td>\n",
       "      <td>0</td>\n",
       "      <td></td>\n",
       "      <td>Fri Feb 24 09:00:30 -0800 2017</td>\n",
       "      <td>Fri Feb 24 09:00:30 -0800 2017</td>\n",
       "      <td></td>\n",
       "      <td></td>\n",
       "    </tr>\n",
       "  </tbody>\n",
       "</table>\n",
       "</div>"
      ],
      "text/plain": [
       "                            user_id   book_id  \\\n",
       "0  8842281e1d1347389f2ab93d60773d4d  10893214   \n",
       "\n",
       "                          review_id  is_read  rating review_text_incomplete  \\\n",
       "0  5d0e4e8825c68740703f65a18813fc93    False       0                          \n",
       "\n",
       "                       date_added                    date_updated read_at  \\\n",
       "0  Fri Feb 24 09:00:30 -0800 2017  Fri Feb 24 09:00:30 -0800 2017           \n",
       "\n",
       "  started_at  \n",
       "0             "
      ]
     },
     "execution_count": 56,
     "metadata": {},
     "output_type": "execute_result"
    }
   ],
   "source": [
    "dfs_interactions[21].head()"
   ]
  },
  {
   "cell_type": "code",
   "execution_count": 57,
   "id": "76e9d15d",
   "metadata": {},
   "outputs": [
    {
     "data": {
      "text/plain": [
       "array(['user_id', 'book_id', 'review_id', 'is_read', 'rating',\n",
       "       'review_text_incomplete', 'date_added', 'date_updated', 'read_at',\n",
       "       'started_at'], dtype=object)"
      ]
     },
     "execution_count": 57,
     "metadata": {},
     "output_type": "execute_result"
    }
   ],
   "source": [
    "columns_interactions = goodreads.load_file_range(goodreads.file_names[11], (0,0)).columns.to_numpy()\n",
    "columns_interactions"
   ]
  },
  {
   "cell_type": "code",
   "execution_count": 58,
   "id": "45d9009b",
   "metadata": {},
   "outputs": [
    {
     "data": {
      "text/plain": [
       "True"
      ]
     },
     "execution_count": 58,
     "metadata": {},
     "output_type": "execute_result"
    }
   ],
   "source": [
    "all(np.array_equal(df.columns.to_numpy(), columns_interactions) for df in dfs_interactions.values())"
   ]
  },
  {
   "cell_type": "markdown",
   "id": "d488d082",
   "metadata": {},
   "source": [
    "## Análisis de `reviews`"
   ]
  },
  {
   "cell_type": "code",
   "execution_count": 59,
   "id": "e5564101",
   "metadata": {},
   "outputs": [
    {
     "data": {
      "text/plain": [
       "{29: 'goodreads_reviews_children',\n",
       " 30: 'goodreads_reviews_comics_graphic',\n",
       " 31: 'goodreads_reviews_fantasy_paranormal',\n",
       " 32: 'goodreads_reviews_history_biography',\n",
       " 33: 'goodreads_reviews_mystery_thriller_crime',\n",
       " 34: 'goodreads_reviews_poetry',\n",
       " 35: 'goodreads_reviews_romance',\n",
       " 36: 'goodreads_reviews_young_adult'}"
      ]
     },
     "execution_count": 59,
     "metadata": {},
     "output_type": "execute_result"
    }
   ],
   "source": [
    "filenames_reviews"
   ]
  },
  {
   "cell_type": "code",
   "execution_count": 60,
   "id": "eaca317d",
   "metadata": {},
   "outputs": [],
   "source": [
    "# Download & Load\n",
    "dfs_reviews = {}\n",
    "for idx, f in filenames_reviews.items():\n",
    "    if not os.path.exists(goodreads.get_file_path(f)):\n",
    "        goodreads.download_file(f)\n",
    "    \n",
    "    dfs_reviews[idx] = goodreads.load_file_range(f, (0,0))"
   ]
  },
  {
   "cell_type": "code",
   "execution_count": 61,
   "id": "e18d2794",
   "metadata": {},
   "outputs": [
    {
     "data": {
      "text/html": [
       "<div>\n",
       "<style scoped>\n",
       "    .dataframe tbody tr th:only-of-type {\n",
       "        vertical-align: middle;\n",
       "    }\n",
       "\n",
       "    .dataframe tbody tr th {\n",
       "        vertical-align: top;\n",
       "    }\n",
       "\n",
       "    .dataframe thead th {\n",
       "        text-align: right;\n",
       "    }\n",
       "</style>\n",
       "<table border=\"1\" class=\"dataframe\">\n",
       "  <thead>\n",
       "    <tr style=\"text-align: right;\">\n",
       "      <th></th>\n",
       "      <th>user_id</th>\n",
       "      <th>book_id</th>\n",
       "      <th>review_id</th>\n",
       "      <th>rating</th>\n",
       "      <th>review_text</th>\n",
       "      <th>date_added</th>\n",
       "      <th>date_updated</th>\n",
       "      <th>read_at</th>\n",
       "      <th>started_at</th>\n",
       "      <th>n_votes</th>\n",
       "      <th>n_comments</th>\n",
       "    </tr>\n",
       "  </thead>\n",
       "  <tbody>\n",
       "    <tr>\n",
       "      <th>0</th>\n",
       "      <td>8842281e1d1347389f2ab93d60773d4d</td>\n",
       "      <td>23310161</td>\n",
       "      <td>f4b4b050f4be00e9283c92a814af2670</td>\n",
       "      <td>4</td>\n",
       "      <td>Fun sequel to the original.</td>\n",
       "      <td>Tue Nov 17 11:37:35 -0800 2015</td>\n",
       "      <td>Tue Nov 17 11:38:05 -0800 2015</td>\n",
       "      <td></td>\n",
       "      <td></td>\n",
       "      <td>7</td>\n",
       "      <td>0</td>\n",
       "    </tr>\n",
       "  </tbody>\n",
       "</table>\n",
       "</div>"
      ],
      "text/plain": [
       "                            user_id   book_id  \\\n",
       "0  8842281e1d1347389f2ab93d60773d4d  23310161   \n",
       "\n",
       "                          review_id  rating                  review_text  \\\n",
       "0  f4b4b050f4be00e9283c92a814af2670       4  Fun sequel to the original.   \n",
       "\n",
       "                       date_added                    date_updated read_at  \\\n",
       "0  Tue Nov 17 11:37:35 -0800 2015  Tue Nov 17 11:38:05 -0800 2015           \n",
       "\n",
       "  started_at  n_votes  n_comments  \n",
       "0                   7           0  "
      ]
     },
     "execution_count": 61,
     "metadata": {},
     "output_type": "execute_result"
    }
   ],
   "source": [
    "dfs_reviews[29].head()"
   ]
  },
  {
   "cell_type": "code",
   "execution_count": 62,
   "id": "05d21d62",
   "metadata": {},
   "outputs": [
    {
     "data": {
      "text/plain": [
       "array(['user_id', 'book_id', 'review_id', 'rating', 'review_text',\n",
       "       'date_added', 'date_updated', 'read_at', 'started_at', 'n_votes',\n",
       "       'n_comments'], dtype=object)"
      ]
     },
     "execution_count": 62,
     "metadata": {},
     "output_type": "execute_result"
    }
   ],
   "source": [
    "columns_reviews = goodreads.load_file_range(goodreads.file_names[5], (0,0)).columns.to_numpy()\n",
    "columns_reviews"
   ]
  },
  {
   "cell_type": "code",
   "execution_count": 63,
   "id": "271bca7d",
   "metadata": {},
   "outputs": [
    {
     "data": {
      "text/plain": [
       "True"
      ]
     },
     "execution_count": 63,
     "metadata": {},
     "output_type": "execute_result"
    }
   ],
   "source": [
    "all(np.array_equal(df.columns.to_numpy(), columns_reviews) for df in dfs_reviews.values())"
   ]
  }
 ],
 "metadata": {
  "kernelspec": {
   "display_name": "ks-tfm.venv",
   "language": "python",
   "name": "python3"
  },
  "language_info": {
   "codemirror_mode": {
    "name": "ipython",
    "version": 3
   },
   "file_extension": ".py",
   "mimetype": "text/x-python",
   "name": "python",
   "nbconvert_exporter": "python",
   "pygments_lexer": "ipython3",
   "version": "3.12.7"
  }
 },
 "nbformat": 4,
 "nbformat_minor": 5
}
