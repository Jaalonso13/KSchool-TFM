{
 "cells": [
  {
   "cell_type": "code",
   "execution_count": 30,
   "id": "715e22e1",
   "metadata": {},
   "outputs": [
    {
     "data": {
      "text/plain": [
       "'goodreads_book_series'"
      ]
     },
     "execution_count": 30,
     "metadata": {},
     "output_type": "execute_result"
    }
   ],
   "source": [
    "from core.goodreads import GoodReadsData\n",
    "import gc\n",
    "\n",
    "goodreads = GoodReadsData()\n",
    "filename = goodreads.file_names[2]\n",
    "filename"
   ]
  },
  {
   "cell_type": "code",
   "execution_count": 31,
   "id": "6e1bfc9f",
   "metadata": {},
   "outputs": [
    {
     "data": {
      "text/plain": [
       "0"
      ]
     },
     "execution_count": 31,
     "metadata": {},
     "output_type": "execute_result"
    }
   ],
   "source": [
    "gc.collect()"
   ]
  },
  {
   "cell_type": "markdown",
   "id": "b51b238a",
   "metadata": {},
   "source": [
    "# Análisis de `goodreads_book_series`"
   ]
  },
  {
   "cell_type": "code",
   "execution_count": 32,
   "id": "55c2d963",
   "metadata": {},
   "outputs": [],
   "source": [
    "import os\n",
    "import pandas as pd\n",
    "import numpy as np"
   ]
  },
  {
   "cell_type": "code",
   "execution_count": 33,
   "id": "83e9d4ac",
   "metadata": {},
   "outputs": [],
   "source": [
    "# Download\n",
    "if not os.path.exists(goodreads.get_file_path(filename)):\n",
    "    goodreads.download_file(filename)\n",
    "    \n",
    "# Load\n",
    "df = goodreads.load_file(filename)"
   ]
  },
  {
   "cell_type": "markdown",
   "id": "30a63a16",
   "metadata": {},
   "source": [
    "### Análisis\n",
    "1. Comprensión de datos.\n",
    "2. Detección de valores `nan`.\n",
    "3. Detección de duplicados.\n",
    "4. Detección de posibles errores."
   ]
  },
  {
   "cell_type": "code",
   "execution_count": 34,
   "id": "59bd3f89",
   "metadata": {},
   "outputs": [
    {
     "data": {
      "text/html": [
       "<div>\n",
       "<style scoped>\n",
       "    .dataframe tbody tr th:only-of-type {\n",
       "        vertical-align: middle;\n",
       "    }\n",
       "\n",
       "    .dataframe tbody tr th {\n",
       "        vertical-align: top;\n",
       "    }\n",
       "\n",
       "    .dataframe thead th {\n",
       "        text-align: right;\n",
       "    }\n",
       "</style>\n",
       "<table border=\"1\" class=\"dataframe\">\n",
       "  <thead>\n",
       "    <tr style=\"text-align: right;\">\n",
       "      <th></th>\n",
       "      <th>numbered</th>\n",
       "      <th>note</th>\n",
       "      <th>description</th>\n",
       "      <th>title</th>\n",
       "      <th>series_works_count</th>\n",
       "      <th>series_id</th>\n",
       "      <th>primary_work_count</th>\n",
       "    </tr>\n",
       "  </thead>\n",
       "  <tbody>\n",
       "    <tr>\n",
       "      <th>363361</th>\n",
       "      <td>true</td>\n",
       "      <td>book order per author's website 8/28/12</td>\n",
       "      <td></td>\n",
       "      <td>Valentine Submission</td>\n",
       "      <td>2</td>\n",
       "      <td>413652</td>\n",
       "      <td>2</td>\n",
       "    </tr>\n",
       "    <tr>\n",
       "      <th>13748</th>\n",
       "      <td>true</td>\n",
       "      <td></td>\n",
       "      <td>The Legend of Drizzt is the overarching series...</td>\n",
       "      <td>The Legend of Drizzt</td>\n",
       "      <td>36</td>\n",
       "      <td>447501</td>\n",
       "      <td>31</td>\n",
       "    </tr>\n",
       "    <tr>\n",
       "      <th>130822</th>\n",
       "      <td>true</td>\n",
       "      <td></td>\n",
       "      <td></td>\n",
       "      <td>Boss Me</td>\n",
       "      <td>3</td>\n",
       "      <td>957947</td>\n",
       "      <td>3</td>\n",
       "    </tr>\n",
       "    <tr>\n",
       "      <th>162028</th>\n",
       "      <td>true</td>\n",
       "      <td>Seduced by Fire was originally part of the Par...</td>\n",
       "      <td>With over 8 million reads online, Tara Sue Me'...</td>\n",
       "      <td>Submissive</td>\n",
       "      <td>13</td>\n",
       "      <td>830335</td>\n",
       "      <td>12</td>\n",
       "    </tr>\n",
       "    <tr>\n",
       "      <th>291923</th>\n",
       "      <td>true</td>\n",
       "      <td></td>\n",
       "      <td></td>\n",
       "      <td>Funf Freunde Horspiele</td>\n",
       "      <td>80</td>\n",
       "      <td>895707</td>\n",
       "      <td>80</td>\n",
       "    </tr>\n",
       "  </tbody>\n",
       "</table>\n",
       "</div>"
      ],
      "text/plain": [
       "       numbered                                               note  \\\n",
       "363361     true            book order per author's website 8/28/12   \n",
       "13748      true                                                      \n",
       "130822     true                                                      \n",
       "162028     true  Seduced by Fire was originally part of the Par...   \n",
       "291923     true                                                      \n",
       "\n",
       "                                              description  \\\n",
       "363361                                                      \n",
       "13748   The Legend of Drizzt is the overarching series...   \n",
       "130822                                                      \n",
       "162028  With over 8 million reads online, Tara Sue Me'...   \n",
       "291923                                                      \n",
       "\n",
       "                         title  series_works_count  series_id  \\\n",
       "363361    Valentine Submission                   2     413652   \n",
       "13748     The Legend of Drizzt                  36     447501   \n",
       "130822                 Boss Me                   3     957947   \n",
       "162028              Submissive                  13     830335   \n",
       "291923  Funf Freunde Horspiele                  80     895707   \n",
       "\n",
       "        primary_work_count  \n",
       "363361                   2  \n",
       "13748                   31  \n",
       "130822                   3  \n",
       "162028                  12  \n",
       "291923                  80  "
      ]
     },
     "execution_count": 34,
     "metadata": {},
     "output_type": "execute_result"
    }
   ],
   "source": [
    "df.sample(5)"
   ]
  },
  {
   "cell_type": "code",
   "execution_count": 35,
   "id": "70452feb",
   "metadata": {},
   "outputs": [
    {
     "name": "stdout",
     "output_type": "stream",
     "text": [
      "<class 'pandas.core.frame.DataFrame'>\n",
      "RangeIndex: 400390 entries, 0 to 400389\n",
      "Data columns (total 7 columns):\n",
      " #   Column              Non-Null Count   Dtype \n",
      "---  ------              --------------   ----- \n",
      " 0   numbered            400390 non-null  object\n",
      " 1   note                400390 non-null  object\n",
      " 2   description         400390 non-null  object\n",
      " 3   title               400390 non-null  object\n",
      " 4   series_works_count  400390 non-null  int64 \n",
      " 5   series_id           400390 non-null  int64 \n",
      " 6   primary_work_count  400390 non-null  int64 \n",
      "dtypes: int64(3), object(4)\n",
      "memory usage: 21.4+ MB\n"
     ]
    }
   ],
   "source": [
    "df.info()"
   ]
  },
  {
   "cell_type": "code",
   "execution_count": 36,
   "id": "129cf716",
   "metadata": {},
   "outputs": [
    {
     "name": "stdout",
     "output_type": "stream",
     "text": [
      "0 http://en.wikipedia.org/wiki/Foundation_Trilogy#List_of_books_within_the_Foundation_Universe\n",
      "1 Please only keep directly related series in the quick links, otherwise it will turn into a mess.\n",
      "2 According to Asimov, The Complete Robot was the first book in the series, although it did include all the stories in the earlier I, Robot and The Rest of the Robots. \n",
      "    Therefore the earlier collections might be considered precursors for the entire series.\n",
      "    \n",
      "    The remaining short story collections and The Positronic Man chronologically fall between The Complete Robot and the The Caves of Steel.\n",
      "    One could also argue that the Tiedemann/Irvine Robot Mystery series as well as Allen's Caliban series belong in the series.\n",
      "3 http://en.wikipedia.org/wiki/Foundation_Trilogy#List_of_books_within_the_Foundation_Universe\n",
      "4 Better known with the English title\n",
      "5 GR generally goes with the author's official series name (Will Trent); they are the same books, they should not have two different series with 100% overlap. GR usually uses the most up-to-date name for a series which is not \"Georgia\".\n",
      "6 Up From the Grave, book 7, will be the last book in the Night Huntress series as you can read on Jeaniene Frosts' site: http://jeanienefrost.com/2013/08/the-grave-stops-here/\n",
      "7 Book order taken from author's website at: http://www.lisajackson.com/mccaffertys/ranch.cfm\n",
      "8 The books have been corrected to list the authors in the order in which they appear on the book covers. The College Bound series has been moved to the page of the first author appearing on the book covers.\n",
      "9 reading order from author's website:  http://www.julia-sykes.com/reading-order/\n"
     ]
    }
   ],
   "source": [
    "for i in range(10):\n",
    "    try:\n",
    "        print(i, df[df[\"note\"]!=\"\"][\"note\"].iloc[i])\n",
    "    except:\n",
    "        break"
   ]
  },
  {
   "cell_type": "code",
   "execution_count": 37,
   "id": "0925d94e",
   "metadata": {},
   "outputs": [
    {
     "name": "stdout",
     "output_type": "stream",
     "text": [
      "0 This series is also known as * Avalon : Jalinan Sihir (Bahasa Indonesia) See also the spin-off manga series \u0001.\n",
      "1 Plot-wise, \"Crowner's Crusade\" is a prequel to the series, but #15 in publication order.\n",
      "2 When seven women get struck by lightning, they'll find out fate isn't what they thought and now they will all turn into different paranormal creatures. Angels, leprechauns, pixies, brownies, djinn, dragons, bears shifters, and many others will come together when the magic of their blood is revealed. Humans aren't as alone as they choose to believe. Every human possesses a trait of supernatural that lays dormant within their genetic make-up. Centuries of diluting and breeding have allowed humans to think they are alone and untouched by magic. But what happens when something changes?\n",
      "3 Patrick Grant, a professor and amateur sleuth, in Oxford, England:\n",
      "4 Part of the \u0001. The Foundation series is a science fiction series by Isaac Asimov which covers a span of about 550 years. It consists of seven volumes that are closely linked to each other, although they can be read separately.\n",
      "5 Part of the \u0001The Foundation series is a science fiction series by Isaac Asimov which covers a span of about 550 years. It consists of seven volumes that are closely linked to each other, although they can be read separately.\n",
      "6 Asimov's Foundation Universeconsists of the \u0001\n",
      "7 General Editor: Felix Gilbert, late of the Institute for Advanced Study\n",
      "8 Teenage Nathan, caught between two warring factions of witches, fights for his freedom in modern-day England. Series also known as: * Una vida oculta [Spanish] * Polovicno zivljenje [Slovenian]\n",
      "9 Mystery series in order of publication. Miss Marple is introduced in The Murder at the Vicaragebut the books can be read in any order. Mixed short story collections are included if some are Marple, often have horror, supernatural, maybe detective Poirot, Pyne, or Quin. Note that \"Nemesis\" should be read AFTER \"A Caribbean Holiday\"\n"
     ]
    }
   ],
   "source": [
    "for i in range(10):\n",
    "    try:\n",
    "        print(i, df[df[\"description\"]!=\"\"][\"description\"].iloc[i])\n",
    "    except:\n",
    "        break"
   ]
  },
  {
   "cell_type": "code",
   "execution_count": 38,
   "id": "da95de94",
   "metadata": {},
   "outputs": [
    {
     "data": {
      "text/plain": [
       "numbered                   0\n",
       "note                  375111\n",
       "description           249371\n",
       "title                      6\n",
       "series_works_count         0\n",
       "series_id                  0\n",
       "primary_work_count         0\n",
       "dtype: int64"
      ]
     },
     "execution_count": 38,
     "metadata": {},
     "output_type": "execute_result"
    }
   ],
   "source": [
    "(df == \"\").sum()"
   ]
  },
  {
   "cell_type": "code",
   "execution_count": 39,
   "id": "3319a757",
   "metadata": {},
   "outputs": [
    {
     "data": {
      "text/plain": [
       "np.int64(0)"
      ]
     },
     "execution_count": 39,
     "metadata": {},
     "output_type": "execute_result"
    }
   ],
   "source": [
    "df[\"series_id\"].duplicated().sum()"
   ]
  },
  {
   "cell_type": "code",
   "execution_count": 40,
   "id": "8d1a8e60",
   "metadata": {},
   "outputs": [
    {
     "data": {
      "text/html": [
       "<div>\n",
       "<style scoped>\n",
       "    .dataframe tbody tr th:only-of-type {\n",
       "        vertical-align: middle;\n",
       "    }\n",
       "\n",
       "    .dataframe tbody tr th {\n",
       "        vertical-align: top;\n",
       "    }\n",
       "\n",
       "    .dataframe thead th {\n",
       "        text-align: right;\n",
       "    }\n",
       "</style>\n",
       "<table border=\"1\" class=\"dataframe\">\n",
       "  <thead>\n",
       "    <tr style=\"text-align: right;\">\n",
       "      <th></th>\n",
       "      <th>series_works_count</th>\n",
       "      <th>series_id</th>\n",
       "      <th>primary_work_count</th>\n",
       "    </tr>\n",
       "  </thead>\n",
       "  <tbody>\n",
       "    <tr>\n",
       "      <th>count</th>\n",
       "      <td>400390.000000</td>\n",
       "      <td>4.003900e+05</td>\n",
       "      <td>400390.000000</td>\n",
       "    </tr>\n",
       "    <tr>\n",
       "      <th>mean</th>\n",
       "      <td>21.588149</td>\n",
       "      <td>6.230450e+05</td>\n",
       "      <td>19.771653</td>\n",
       "    </tr>\n",
       "    <tr>\n",
       "      <th>std</th>\n",
       "      <td>65.103100</td>\n",
       "      <td>2.944453e+05</td>\n",
       "      <td>63.501377</td>\n",
       "    </tr>\n",
       "    <tr>\n",
       "      <th>min</th>\n",
       "      <td>-14.000000</td>\n",
       "      <td>1.443920e+05</td>\n",
       "      <td>0.000000</td>\n",
       "    </tr>\n",
       "    <tr>\n",
       "      <th>25%</th>\n",
       "      <td>3.000000</td>\n",
       "      <td>3.637372e+05</td>\n",
       "      <td>3.000000</td>\n",
       "    </tr>\n",
       "    <tr>\n",
       "      <th>50%</th>\n",
       "      <td>6.000000</td>\n",
       "      <td>6.158370e+05</td>\n",
       "      <td>5.000000</td>\n",
       "    </tr>\n",
       "    <tr>\n",
       "      <th>75%</th>\n",
       "      <td>14.000000</td>\n",
       "      <td>8.775648e+05</td>\n",
       "      <td>12.000000</td>\n",
       "    </tr>\n",
       "    <tr>\n",
       "      <th>max</th>\n",
       "      <td>893.000000</td>\n",
       "      <td>1.143859e+06</td>\n",
       "      <td>893.000000</td>\n",
       "    </tr>\n",
       "  </tbody>\n",
       "</table>\n",
       "</div>"
      ],
      "text/plain": [
       "       series_works_count     series_id  primary_work_count\n",
       "count       400390.000000  4.003900e+05       400390.000000\n",
       "mean            21.588149  6.230450e+05           19.771653\n",
       "std             65.103100  2.944453e+05           63.501377\n",
       "min            -14.000000  1.443920e+05            0.000000\n",
       "25%              3.000000  3.637372e+05            3.000000\n",
       "50%              6.000000  6.158370e+05            5.000000\n",
       "75%             14.000000  8.775648e+05           12.000000\n",
       "max            893.000000  1.143859e+06          893.000000"
      ]
     },
     "execution_count": 40,
     "metadata": {},
     "output_type": "execute_result"
    }
   ],
   "source": [
    "df.describe()"
   ]
  },
  {
   "cell_type": "markdown",
   "id": "afe35560",
   "metadata": {},
   "source": [
    "Observamos valores negativos en `series_works_count` que indican ser valores erróneos. Lo transformaremos a valor absoluto."
   ]
  },
  {
   "cell_type": "markdown",
   "id": "a0d7122b",
   "metadata": {},
   "source": [
    "### Transformación\n",
    "1. Corregimos errores.\n",
    "2. Transformamos tipos de datos.\n",
    "3. Añadimos valores `nan`."
   ]
  },
  {
   "cell_type": "code",
   "execution_count": 41,
   "id": "acb730dc",
   "metadata": {},
   "outputs": [],
   "source": [
    "df[\"series_works_count\"] = df[\"series_works_count\"].abs()"
   ]
  },
  {
   "cell_type": "markdown",
   "id": "a284a32f",
   "metadata": {},
   "source": [
    "Guardamos ínidces con valores `nan`."
   ]
  },
  {
   "cell_type": "code",
   "execution_count": 42,
   "id": "f75df06c",
   "metadata": {},
   "outputs": [],
   "source": [
    "n_nan = df[\"note\"] == \"\"\n",
    "d_nan = df[\"description\"] == \"\"           \n",
    "t_nan = df[\"title\"] == \"\"                 "
   ]
  },
  {
   "cell_type": "markdown",
   "id": "48e0b424",
   "metadata": {},
   "source": [
    "Preparamos datos la trasnformación, corrigiendo posibles errores."
   ]
  },
  {
   "cell_type": "code",
   "execution_count": 43,
   "id": "8cb6e5b9",
   "metadata": {},
   "outputs": [
    {
     "name": "stderr",
     "output_type": "stream",
     "text": [
      "/var/folders/m7/77lvlvzx48l12lyd4t6xxy4w0000gn/T/ipykernel_8744/3638680873.py:1: FutureWarning: A value is trying to be set on a copy of a DataFrame or Series through chained assignment using an inplace method.\n",
      "The behavior will change in pandas 3.0. This inplace method will never work because the intermediate object on which we are setting values always behaves as a copy.\n",
      "\n",
      "For example, when doing 'df[col].method(value, inplace=True)', try using 'df.method({col: value}, inplace=True)' or df[col] = df[col].method(value) instead, to perform the operation inplace on the original object.\n",
      "\n",
      "\n",
      "  df[\"numbered\"].replace({\"true\": 1, \"false\": 0}, inplace=True)\n",
      "/var/folders/m7/77lvlvzx48l12lyd4t6xxy4w0000gn/T/ipykernel_8744/3638680873.py:1: FutureWarning: Downcasting behavior in `replace` is deprecated and will be removed in a future version. To retain the old behavior, explicitly call `result.infer_objects(copy=False)`. To opt-in to the future behavior, set `pd.set_option('future.no_silent_downcasting', True)`\n",
      "  df[\"numbered\"].replace({\"true\": 1, \"false\": 0}, inplace=True)\n"
     ]
    }
   ],
   "source": [
    "df[\"numbered\"].replace({\"true\": 1, \"false\": 0}, inplace=True)\n",
    "df[\"numbered\"] = df[\"numbered\"].astype(np.uint8)\n",
    "\n",
    "df[\"note\"] = df[\"note\"].str.strip()\n",
    "df[\"description\"] = df[\"description\"].str.strip()\n",
    "df[\"title\"] = df[\"title\"].str.strip()"
   ]
  },
  {
   "cell_type": "code",
   "execution_count": 44,
   "id": "957fd68d",
   "metadata": {},
   "outputs": [],
   "source": [
    "df[\"numbered\"] = df[\"numbered\"].astype(bool)\n",
    "df[\"description\"] = df[\"description\"].astype(\"string\")\n",
    "df[\"note\"] = df[\"note\"].astype(\"string\")\n",
    "df[\"title\"] = df[\"title\"].astype(\"string\")\n",
    "df[\"series_id\"] = df[\"series_id\"].astype(np.uint32)\n",
    "df[\"series_works_count\"] = df[\"series_works_count\"].astype(np.int16)\n",
    "df[\"primary_work_count\"] = df[\"primary_work_count\"].astype(np.int16)"
   ]
  },
  {
   "cell_type": "code",
   "execution_count": 45,
   "id": "d88a2114",
   "metadata": {},
   "outputs": [
    {
     "data": {
      "text/plain": [
       "numbered                   0\n",
       "note                  375111\n",
       "description           249371\n",
       "title                      6\n",
       "series_works_count         0\n",
       "series_id                  0\n",
       "primary_work_count         0\n",
       "dtype: int64"
      ]
     },
     "execution_count": 45,
     "metadata": {},
     "output_type": "execute_result"
    }
   ],
   "source": [
    "df.loc[n_nan, \"note\"] = np.nan\n",
    "df.loc[d_nan, \"description\"] = np.nan\n",
    "df.loc[t_nan, \"title\"] = np.nan\n",
    "\n",
    "df.isna().sum()"
   ]
  },
  {
   "cell_type": "code",
   "execution_count": 46,
   "id": "bcbd98f4",
   "metadata": {},
   "outputs": [
    {
     "name": "stdout",
     "output_type": "stream",
     "text": [
      "<class 'pandas.core.frame.DataFrame'>\n",
      "RangeIndex: 400390 entries, 0 to 400389\n",
      "Data columns (total 7 columns):\n",
      " #   Column              Non-Null Count   Dtype \n",
      "---  ------              --------------   ----- \n",
      " 0   numbered            400390 non-null  bool  \n",
      " 1   note                25279 non-null   string\n",
      " 2   description         151019 non-null  string\n",
      " 3   title               400384 non-null  string\n",
      " 4   series_works_count  400390 non-null  int16 \n",
      " 5   series_id           400390 non-null  uint32\n",
      " 6   primary_work_count  400390 non-null  int16 \n",
      "dtypes: bool(1), int16(2), string(3), uint32(1)\n",
      "memory usage: 12.6 MB\n"
     ]
    }
   ],
   "source": [
    "df.info()"
   ]
  }
 ],
 "metadata": {
  "kernelspec": {
   "display_name": "ks-tfm.venv",
   "language": "python",
   "name": "python3"
  },
  "language_info": {
   "codemirror_mode": {
    "name": "ipython",
    "version": 3
   },
   "file_extension": ".py",
   "mimetype": "text/x-python",
   "name": "python",
   "nbconvert_exporter": "python",
   "pygments_lexer": "ipython3",
   "version": "3.12.7"
  }
 },
 "nbformat": 4,
 "nbformat_minor": 5
}
