{
 "cells": [
  {
   "cell_type": "code",
   "execution_count": 8,
   "id": "074598f4",
   "metadata": {},
   "outputs": [
    {
     "data": {
      "text/plain": [
       "'goodreads_book_authors'"
      ]
     },
     "execution_count": 8,
     "metadata": {},
     "output_type": "execute_result"
    }
   ],
   "source": [
    "from core.goodreads import GoodReadsData\n",
    "import gc\n",
    "\n",
    "goodreads = GoodReadsData()\n",
    "filename = goodreads.file_names[1]\n",
    "filename"
   ]
  },
  {
   "cell_type": "code",
   "execution_count": 9,
   "id": "685926b2",
   "metadata": {},
   "outputs": [
    {
     "data": {
      "text/plain": [
       "0"
      ]
     },
     "execution_count": 9,
     "metadata": {},
     "output_type": "execute_result"
    }
   ],
   "source": [
    "gc.collect()"
   ]
  },
  {
   "cell_type": "markdown",
   "id": "af50227d",
   "metadata": {},
   "source": [
    "# Análisis de `goodreads_book_authors`"
   ]
  },
  {
   "cell_type": "code",
   "execution_count": 10,
   "id": "4a6ce16a",
   "metadata": {},
   "outputs": [],
   "source": [
    "import os\n",
    "import pandas as pd\n",
    "import numpy as np"
   ]
  },
  {
   "cell_type": "code",
   "execution_count": 11,
   "id": "b925986e",
   "metadata": {},
   "outputs": [],
   "source": [
    "# Download\n",
    "if not os.path.exists(goodreads.get_file_path(filename)):\n",
    "    goodreads.download_file(filename)\n",
    "    \n",
    "# Load\n",
    "df = goodreads.load_file(filename)"
   ]
  },
  {
   "cell_type": "code",
   "execution_count": 12,
   "id": "aad74859",
   "metadata": {},
   "outputs": [
    {
     "data": {
      "text/plain": [
       "17"
      ]
     },
     "execution_count": 12,
     "metadata": {},
     "output_type": "execute_result"
    }
   ],
   "source": [
    "gc.collect()"
   ]
  },
  {
   "cell_type": "markdown",
   "id": "d65713e7",
   "metadata": {},
   "source": [
    "### Análisis\n",
    "1. Comprender datos.\n",
    "2. Detectar valores ausentes.\n",
    "3. Detectar duplicados\n",
    "4. Detectar valores erróneos."
   ]
  },
  {
   "cell_type": "code",
   "execution_count": 13,
   "id": "7e61e923",
   "metadata": {},
   "outputs": [
    {
     "data": {
      "text/html": [
       "<div>\n",
       "<style scoped>\n",
       "    .dataframe tbody tr th:only-of-type {\n",
       "        vertical-align: middle;\n",
       "    }\n",
       "\n",
       "    .dataframe tbody tr th {\n",
       "        vertical-align: top;\n",
       "    }\n",
       "\n",
       "    .dataframe thead th {\n",
       "        text-align: right;\n",
       "    }\n",
       "</style>\n",
       "<table border=\"1\" class=\"dataframe\">\n",
       "  <thead>\n",
       "    <tr style=\"text-align: right;\">\n",
       "      <th></th>\n",
       "      <th>average_rating</th>\n",
       "      <th>author_id</th>\n",
       "      <th>text_reviews_count</th>\n",
       "      <th>name</th>\n",
       "      <th>ratings_count</th>\n",
       "    </tr>\n",
       "  </thead>\n",
       "  <tbody>\n",
       "    <tr>\n",
       "      <th>0</th>\n",
       "      <td>3.98</td>\n",
       "      <td>604031</td>\n",
       "      <td>7</td>\n",
       "      <td>Ronald J. Fields</td>\n",
       "      <td>49</td>\n",
       "    </tr>\n",
       "    <tr>\n",
       "      <th>1</th>\n",
       "      <td>4.08</td>\n",
       "      <td>626222</td>\n",
       "      <td>28716</td>\n",
       "      <td>Anita Diamant</td>\n",
       "      <td>546796</td>\n",
       "    </tr>\n",
       "    <tr>\n",
       "      <th>2</th>\n",
       "      <td>3.92</td>\n",
       "      <td>10333</td>\n",
       "      <td>5075</td>\n",
       "      <td>Barbara Hambly</td>\n",
       "      <td>122118</td>\n",
       "    </tr>\n",
       "    <tr>\n",
       "      <th>3</th>\n",
       "      <td>3.68</td>\n",
       "      <td>9212</td>\n",
       "      <td>36262</td>\n",
       "      <td>Jennifer Weiner</td>\n",
       "      <td>888522</td>\n",
       "    </tr>\n",
       "    <tr>\n",
       "      <th>4</th>\n",
       "      <td>3.82</td>\n",
       "      <td>149918</td>\n",
       "      <td>96</td>\n",
       "      <td>Nigel Pennick</td>\n",
       "      <td>1740</td>\n",
       "    </tr>\n",
       "  </tbody>\n",
       "</table>\n",
       "</div>"
      ],
      "text/plain": [
       "   average_rating  author_id  text_reviews_count              name  \\\n",
       "0            3.98     604031                   7  Ronald J. Fields   \n",
       "1            4.08     626222               28716     Anita Diamant   \n",
       "2            3.92      10333                5075    Barbara Hambly   \n",
       "3            3.68       9212               36262   Jennifer Weiner   \n",
       "4            3.82     149918                  96     Nigel Pennick   \n",
       "\n",
       "   ratings_count  \n",
       "0             49  \n",
       "1         546796  \n",
       "2         122118  \n",
       "3         888522  \n",
       "4           1740  "
      ]
     },
     "execution_count": 13,
     "metadata": {},
     "output_type": "execute_result"
    }
   ],
   "source": [
    "df.head()"
   ]
  },
  {
   "cell_type": "code",
   "execution_count": 14,
   "id": "696155b4",
   "metadata": {},
   "outputs": [
    {
     "name": "stdout",
     "output_type": "stream",
     "text": [
      "<class 'pandas.core.frame.DataFrame'>\n",
      "RangeIndex: 829529 entries, 0 to 829528\n",
      "Data columns (total 5 columns):\n",
      " #   Column              Non-Null Count   Dtype  \n",
      "---  ------              --------------   -----  \n",
      " 0   average_rating      829529 non-null  float64\n",
      " 1   author_id           829529 non-null  int64  \n",
      " 2   text_reviews_count  829529 non-null  int64  \n",
      " 3   name                829529 non-null  object \n",
      " 4   ratings_count       829529 non-null  int64  \n",
      "dtypes: float64(1), int64(3), object(1)\n",
      "memory usage: 31.6+ MB\n"
     ]
    }
   ],
   "source": [
    "df.info()"
   ]
  },
  {
   "cell_type": "code",
   "execution_count": 15,
   "id": "5eb0dc3c",
   "metadata": {},
   "outputs": [
    {
     "data": {
      "text/plain": [
       "average_rating        0\n",
       "author_id             0\n",
       "text_reviews_count    0\n",
       "name                  5\n",
       "ratings_count         0\n",
       "dtype: int64"
      ]
     },
     "execution_count": 15,
     "metadata": {},
     "output_type": "execute_result"
    }
   ],
   "source": [
    "(df == \"\").sum()"
   ]
  },
  {
   "cell_type": "code",
   "execution_count": 16,
   "id": "59fc551f",
   "metadata": {},
   "outputs": [
    {
     "data": {
      "text/html": [
       "<div>\n",
       "<style scoped>\n",
       "    .dataframe tbody tr th:only-of-type {\n",
       "        vertical-align: middle;\n",
       "    }\n",
       "\n",
       "    .dataframe tbody tr th {\n",
       "        vertical-align: top;\n",
       "    }\n",
       "\n",
       "    .dataframe thead th {\n",
       "        text-align: right;\n",
       "    }\n",
       "</style>\n",
       "<table border=\"1\" class=\"dataframe\">\n",
       "  <thead>\n",
       "    <tr style=\"text-align: right;\">\n",
       "      <th></th>\n",
       "      <th>average_rating</th>\n",
       "      <th>author_id</th>\n",
       "      <th>text_reviews_count</th>\n",
       "      <th>ratings_count</th>\n",
       "    </tr>\n",
       "  </thead>\n",
       "  <tbody>\n",
       "    <tr>\n",
       "      <th>count</th>\n",
       "      <td>829529.000000</td>\n",
       "      <td>8.295290e+05</td>\n",
       "      <td>829529.000000</td>\n",
       "      <td>8.295290e+05</td>\n",
       "    </tr>\n",
       "    <tr>\n",
       "      <th>mean</th>\n",
       "      <td>3.844779</td>\n",
       "      <td>5.751610e+06</td>\n",
       "      <td>106.865331</td>\n",
       "      <td>1.595326e+03</td>\n",
       "    </tr>\n",
       "    <tr>\n",
       "      <th>std</th>\n",
       "      <td>0.603013</td>\n",
       "      <td>5.129977e+06</td>\n",
       "      <td>1770.225828</td>\n",
       "      <td>4.479669e+04</td>\n",
       "    </tr>\n",
       "    <tr>\n",
       "      <th>min</th>\n",
       "      <td>0.000000</td>\n",
       "      <td>3.000000e+00</td>\n",
       "      <td>0.000000</td>\n",
       "      <td>0.000000e+00</td>\n",
       "    </tr>\n",
       "    <tr>\n",
       "      <th>25%</th>\n",
       "      <td>3.580000</td>\n",
       "      <td>9.327180e+05</td>\n",
       "      <td>2.000000</td>\n",
       "      <td>8.000000e+00</td>\n",
       "    </tr>\n",
       "    <tr>\n",
       "      <th>50%</th>\n",
       "      <td>3.900000</td>\n",
       "      <td>4.952564e+06</td>\n",
       "      <td>6.000000</td>\n",
       "      <td>3.100000e+01</td>\n",
       "    </tr>\n",
       "    <tr>\n",
       "      <th>75%</th>\n",
       "      <td>4.170000</td>\n",
       "      <td>7.838936e+06</td>\n",
       "      <td>20.000000</td>\n",
       "      <td>1.310000e+02</td>\n",
       "    </tr>\n",
       "    <tr>\n",
       "      <th>max</th>\n",
       "      <td>5.000000</td>\n",
       "      <td>1.734337e+07</td>\n",
       "      <td>448570.000000</td>\n",
       "      <td>1.853272e+07</td>\n",
       "    </tr>\n",
       "  </tbody>\n",
       "</table>\n",
       "</div>"
      ],
      "text/plain": [
       "       average_rating     author_id  text_reviews_count  ratings_count\n",
       "count   829529.000000  8.295290e+05       829529.000000   8.295290e+05\n",
       "mean         3.844779  5.751610e+06          106.865331   1.595326e+03\n",
       "std          0.603013  5.129977e+06         1770.225828   4.479669e+04\n",
       "min          0.000000  3.000000e+00            0.000000   0.000000e+00\n",
       "25%          3.580000  9.327180e+05            2.000000   8.000000e+00\n",
       "50%          3.900000  4.952564e+06            6.000000   3.100000e+01\n",
       "75%          4.170000  7.838936e+06           20.000000   1.310000e+02\n",
       "max          5.000000  1.734337e+07       448570.000000   1.853272e+07"
      ]
     },
     "execution_count": 16,
     "metadata": {},
     "output_type": "execute_result"
    }
   ],
   "source": [
    "df.describe()"
   ]
  },
  {
   "cell_type": "markdown",
   "id": "d6cb33ce",
   "metadata": {},
   "source": [
    "### Transform\n",
    "1. Corregir posibles errores.\n",
    "2. Transformar tipos de datos.\n",
    "3. Establecer valores `nan`."
   ]
  },
  {
   "cell_type": "code",
   "execution_count": 17,
   "id": "23bb72f3",
   "metadata": {},
   "outputs": [],
   "source": [
    "df[\"name\"] = df[\"name\"].str.strip()"
   ]
  },
  {
   "cell_type": "code",
   "execution_count": 18,
   "id": "f8e51eab",
   "metadata": {},
   "outputs": [],
   "source": [
    "n_nan = df[\"name\"] == \"\""
   ]
  },
  {
   "cell_type": "code",
   "execution_count": 19,
   "id": "13ecf260",
   "metadata": {},
   "outputs": [],
   "source": [
    "df[\"average_rating\"] = df[\"average_rating\"].astype(np.float16)\n",
    "df[\"author_id\"] = df[\"author_id\"].astype(np.uint32)\n",
    "df[\"name\"] = df[\"name\"].astype(\"string\")\n",
    "df[\"text_reviews_count\"] = df[\"text_reviews_count\"].astype(np.uint32)\n",
    "df[\"ratings_count\"] = df[\"ratings_count\"].astype(np.uint32)"
   ]
  },
  {
   "cell_type": "code",
   "execution_count": 20,
   "id": "01147fc0",
   "metadata": {},
   "outputs": [
    {
     "data": {
      "text/plain": [
       "average_rating        0\n",
       "author_id             0\n",
       "text_reviews_count    0\n",
       "name                  5\n",
       "ratings_count         0\n",
       "dtype: int64"
      ]
     },
     "execution_count": 20,
     "metadata": {},
     "output_type": "execute_result"
    }
   ],
   "source": [
    "df.loc[n_nan, \"name\"] = np.nan\n",
    "df.isna().sum()"
   ]
  },
  {
   "cell_type": "code",
   "execution_count": 21,
   "id": "c329a203",
   "metadata": {},
   "outputs": [
    {
     "name": "stdout",
     "output_type": "stream",
     "text": [
      "<class 'pandas.core.frame.DataFrame'>\n",
      "RangeIndex: 829529 entries, 0 to 829528\n",
      "Data columns (total 5 columns):\n",
      " #   Column              Non-Null Count   Dtype  \n",
      "---  ------              --------------   -----  \n",
      " 0   average_rating      829529 non-null  float16\n",
      " 1   author_id           829529 non-null  uint32 \n",
      " 2   text_reviews_count  829529 non-null  uint32 \n",
      " 3   name                829524 non-null  string \n",
      " 4   ratings_count       829529 non-null  uint32 \n",
      "dtypes: float16(1), string(1), uint32(3)\n",
      "memory usage: 17.4 MB\n"
     ]
    }
   ],
   "source": [
    "df.info()"
   ]
  }
 ],
 "metadata": {
  "kernelspec": {
   "display_name": "ks-tfm.venv",
   "language": "python",
   "name": "python3"
  },
  "language_info": {
   "codemirror_mode": {
    "name": "ipython",
    "version": 3
   },
   "file_extension": ".py",
   "mimetype": "text/x-python",
   "name": "python",
   "nbconvert_exporter": "python",
   "pygments_lexer": "ipython3",
   "version": "3.12.7"
  }
 },
 "nbformat": 4,
 "nbformat_minor": 5
}
